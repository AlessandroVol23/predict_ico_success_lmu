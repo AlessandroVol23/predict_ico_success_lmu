{
 "cells": [
  {
   "cell_type": "code",
   "execution_count": 4,
   "metadata": {},
   "outputs": [
    {
     "name": "stdout",
     "output_type": "stream",
     "text": [
      "The autoreload extension is already loaded. To reload it, use:\n",
      "  %reload_ext autoreload\n"
     ]
    }
   ],
   "source": [
    "%load_ext autoreload\n",
    "%autoreload 2\n",
    "import os \n",
    "import pandas as pd\n",
    "import numpy as np"
   ]
  },
  {
   "cell_type": "code",
   "execution_count": 2,
   "metadata": {},
   "outputs": [],
   "source": [
    "os.chdir('..')"
   ]
  },
  {
   "cell_type": "code",
   "execution_count": 5,
   "metadata": {},
   "outputs": [],
   "source": [
    "from src.data.make_dataset import get_preprocessed_datasets\n",
    "from src.features.build_features import FeatureEngineering"
   ]
  },
  {
   "cell_type": "code",
   "execution_count": 6,
   "metadata": {},
   "outputs": [
    {
     "name": "stderr",
     "output_type": "stream",
     "text": [
      "2019-11-03 19:30:18,657 - src.data.make_dataset - INFO - making final data sets from raw data\n",
      "2019-11-03 19:30:18,954 - src.data.make_dataset - INFO - Shape of df_bitcoin: (2355, 2)\n",
      "2019-11-03 19:30:18,955 - src.data.make_dataset - INFO - Shape of df: (4757, 91)\n"
     ]
    }
   ],
   "source": [
    "df_bitcoin, df, df_test = get_preprocessed_datasets()"
   ]
  },
  {
   "cell_type": "code",
   "execution_count": 7,
   "metadata": {},
   "outputs": [],
   "source": [
    "fe = FeatureEngineering(df, df_bitcoin, df_test)"
   ]
  },
  {
   "cell_type": "code",
   "execution_count": 8,
   "metadata": {},
   "outputs": [
    {
     "name": "stderr",
     "output_type": "stream",
     "text": [
      "2019-11-03 19:30:20,939 - src.features.build_features - INFO - Start filling NA values in transaction_count\n",
      "2019-11-03 19:30:20,951 - src.features.build_features - INFO - Found 2695 NA values in column transaction_count\n",
      "2019-11-03 19:30:20,955 - src.features.build_features - INFO - Filled NA values\n",
      "2019-11-03 19:30:20,975 - src.features.build_features - INFO - Add function holder count\n",
      "2019-11-03 19:30:20,988 - src.features.build_features - INFO - Start filling NA values in holder_count\n",
      "2019-11-03 19:30:21,001 - src.features.build_features - INFO - Found 2699 NA values in column holder_count\n",
      "2019-11-03 19:30:21,005 - src.features.build_features - INFO - Filled NA values\n",
      "2019-11-03 19:30:21,029 - src.features.build_features - INFO - Adding categories_0\n"
     ]
    }
   ],
   "source": [
    "fe.construct_features()"
   ]
  },
  {
   "cell_type": "code",
   "execution_count": 10,
   "metadata": {},
   "outputs": [
    {
     "data": {
      "text/html": [
       "<div>\n",
       "<style scoped>\n",
       "    .dataframe tbody tr th:only-of-type {\n",
       "        vertical-align: middle;\n",
       "    }\n",
       "\n",
       "    .dataframe tbody tr th {\n",
       "        vertical-align: top;\n",
       "    }\n",
       "\n",
       "    .dataframe thead th {\n",
       "        text-align: right;\n",
       "    }\n",
       "</style>\n",
       "<table border=\"1\" class=\"dataframe\">\n",
       "  <thead>\n",
       "    <tr style=\"text-align: right;\">\n",
       "      <th></th>\n",
       "      <th>OBS_ID</th>\n",
       "      <th>success</th>\n",
       "      <th>transaction_count</th>\n",
       "      <th>holder_count</th>\n",
       "      <th>labels_categories_0</th>\n",
       "    </tr>\n",
       "  </thead>\n",
       "  <tbody>\n",
       "    <tr>\n",
       "      <th>0</th>\n",
       "      <td>235691</td>\n",
       "      <td>0</td>\n",
       "      <td>48262.141038</td>\n",
       "      <td>13576.305982</td>\n",
       "      <td>23</td>\n",
       "    </tr>\n",
       "    <tr>\n",
       "      <th>1</th>\n",
       "      <td>235692</td>\n",
       "      <td>1</td>\n",
       "      <td>975773.000000</td>\n",
       "      <td>109840.000000</td>\n",
       "      <td>29</td>\n",
       "    </tr>\n",
       "    <tr>\n",
       "      <th>2</th>\n",
       "      <td>235693</td>\n",
       "      <td>0</td>\n",
       "      <td>22730.000000</td>\n",
       "      <td>13914.000000</td>\n",
       "      <td>29</td>\n",
       "    </tr>\n",
       "    <tr>\n",
       "      <th>3</th>\n",
       "      <td>235694</td>\n",
       "      <td>0</td>\n",
       "      <td>125.000000</td>\n",
       "      <td>51.000000</td>\n",
       "      <td>26</td>\n",
       "    </tr>\n",
       "    <tr>\n",
       "      <th>4</th>\n",
       "      <td>235695</td>\n",
       "      <td>0</td>\n",
       "      <td>16417.000000</td>\n",
       "      <td>6250.000000</td>\n",
       "      <td>26</td>\n",
       "    </tr>\n",
       "  </tbody>\n",
       "</table>\n",
       "</div>"
      ],
      "text/plain": [
       "   OBS_ID success  transaction_count   holder_count  labels_categories_0\n",
       "0  235691       0       48262.141038   13576.305982                   23\n",
       "1  235692       1      975773.000000  109840.000000                   29\n",
       "2  235693       0       22730.000000   13914.000000                   29\n",
       "3  235694       0         125.000000      51.000000                   26\n",
       "4  235695       0       16417.000000    6250.000000                   26"
      ]
     },
     "execution_count": 10,
     "metadata": {},
     "output_type": "execute_result"
    }
   ],
   "source": [
    "fe.df_features.head()"
   ]
  },
  {
   "cell_type": "code",
   "execution_count": 17,
   "metadata": {},
   "outputs": [
    {
     "data": {
      "text/html": [
       "<div>\n",
       "<style scoped>\n",
       "    .dataframe tbody tr th:only-of-type {\n",
       "        vertical-align: middle;\n",
       "    }\n",
       "\n",
       "    .dataframe tbody tr th {\n",
       "        vertical-align: top;\n",
       "    }\n",
       "\n",
       "    .dataframe thead th {\n",
       "        text-align: right;\n",
       "    }\n",
       "</style>\n",
       "<table border=\"1\" class=\"dataframe\">\n",
       "  <thead>\n",
       "    <tr style=\"text-align: right;\">\n",
       "      <th></th>\n",
       "      <th>OBS_ID</th>\n",
       "      <th>transaction_count</th>\n",
       "      <th>holder_count</th>\n",
       "    </tr>\n",
       "  </thead>\n",
       "  <tbody>\n",
       "    <tr>\n",
       "      <th>0</th>\n",
       "      <td>1</td>\n",
       "      <td>376.000000</td>\n",
       "      <td>265.000000</td>\n",
       "    </tr>\n",
       "    <tr>\n",
       "      <th>1</th>\n",
       "      <td>2</td>\n",
       "      <td>70408.000000</td>\n",
       "      <td>23115.000000</td>\n",
       "    </tr>\n",
       "    <tr>\n",
       "      <th>2</th>\n",
       "      <td>3</td>\n",
       "      <td>59910.102041</td>\n",
       "      <td>23776.371058</td>\n",
       "    </tr>\n",
       "    <tr>\n",
       "      <th>3</th>\n",
       "      <td>4</td>\n",
       "      <td>304.000000</td>\n",
       "      <td>65.000000</td>\n",
       "    </tr>\n",
       "    <tr>\n",
       "      <th>4</th>\n",
       "      <td>5</td>\n",
       "      <td>59910.102041</td>\n",
       "      <td>23776.371058</td>\n",
       "    </tr>\n",
       "  </tbody>\n",
       "</table>\n",
       "</div>"
      ],
      "text/plain": [
       "   OBS_ID  transaction_count  holder_count\n",
       "0       1         376.000000    265.000000\n",
       "1       2       70408.000000  23115.000000\n",
       "2       3       59910.102041  23776.371058\n",
       "3       4         304.000000     65.000000\n",
       "4       5       59910.102041  23776.371058"
      ]
     },
     "execution_count": 17,
     "metadata": {},
     "output_type": "execute_result"
    }
   ],
   "source": [
    "fe.df_features_test.head()"
   ]
  }
 ],
 "metadata": {
  "kernelspec": {
   "display_name": "Python 3",
   "language": "python",
   "name": "python3"
  },
  "language_info": {
   "codemirror_mode": {
    "name": "ipython",
    "version": 3
   },
   "file_extension": ".py",
   "mimetype": "text/x-python",
   "name": "python",
   "nbconvert_exporter": "python",
   "pygments_lexer": "ipython3",
   "version": "3.7.3"
  }
 },
 "nbformat": 4,
 "nbformat_minor": 2
}
