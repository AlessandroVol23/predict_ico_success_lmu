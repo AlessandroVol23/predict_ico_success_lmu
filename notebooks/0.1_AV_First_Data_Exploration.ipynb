{
 "cells": [
  {
   "cell_type": "markdown",
   "metadata": {},
   "source": [
    "# Data Exploration\n",
    "\n",
    "Here I'll have a look at the data"
   ]
  },
  {
   "cell_type": "markdown",
   "metadata": {},
   "source": [
    "## Imports"
   ]
  },
  {
   "cell_type": "code",
   "execution_count": 1,
   "metadata": {},
   "outputs": [],
   "source": [
    "import pandas as pd\n",
    "import numpy as np "
   ]
  },
  {
   "cell_type": "markdown",
   "metadata": {},
   "source": [
    "## Data"
   ]
  },
  {
   "cell_type": "code",
   "execution_count": 2,
   "metadata": {},
   "outputs": [],
   "source": [
    "def read_in_data(path_bitcoin_df = '../data/raw/1_training_data_sets/1_bitcoin_price_data_set.csv',\n",
    "                path_training_df = '../data/raw/1_training_data_sets/1_training_data.csv'):\n",
    "    df_bitcoin = pd.read_csv('../data/raw/1_training_data_sets/1_bitcoin_price_data_set.csv', \n",
    "                            encoding = \"ISO-8859-1\")\n",
    "    df = pd.read_csv('../data/raw/1_training_data_sets/1_training_data.csv',\n",
    "                             encoding = \"ISO-8859-1\")\n",
    "    return df_bitcoin, df"
   ]
  },
  {
   "cell_type": "code",
   "execution_count": 3,
   "metadata": {},
   "outputs": [],
   "source": [
    "df_bitcoin = pd.read_csv('../data/raw/1_training_data_sets/1_bitcoin_price_data_set.csv', \n",
    "                        encoding = \"ISO-8859-1\")\n",
    "df = pd.read_csv('../data/raw/1_training_data_sets/1_training_data.csv',\n",
    "                         encoding = \"ISO-8859-1\")"
   ]
  },
  {
   "cell_type": "code",
   "execution_count": 4,
   "metadata": {},
   "outputs": [
    {
     "data": {
      "text/html": [
       "<div>\n",
       "<style scoped>\n",
       "    .dataframe tbody tr th:only-of-type {\n",
       "        vertical-align: middle;\n",
       "    }\n",
       "\n",
       "    .dataframe tbody tr th {\n",
       "        vertical-align: top;\n",
       "    }\n",
       "\n",
       "    .dataframe thead th {\n",
       "        text-align: right;\n",
       "    }\n",
       "</style>\n",
       "<table border=\"1\" class=\"dataframe\">\n",
       "  <thead>\n",
       "    <tr style=\"text-align: right;\">\n",
       "      <th></th>\n",
       "      <th>date_in_ms;price</th>\n",
       "    </tr>\n",
       "  </thead>\n",
       "  <tbody>\n",
       "    <tr>\n",
       "      <th>0</th>\n",
       "      <td>1367107200000;135.3</td>\n",
       "    </tr>\n",
       "    <tr>\n",
       "      <th>1</th>\n",
       "      <td>1367193600000;141.96</td>\n",
       "    </tr>\n",
       "    <tr>\n",
       "      <th>2</th>\n",
       "      <td>1367280000000;135.3</td>\n",
       "    </tr>\n",
       "    <tr>\n",
       "      <th>3</th>\n",
       "      <td>1367366400000;117.0</td>\n",
       "    </tr>\n",
       "    <tr>\n",
       "      <th>4</th>\n",
       "      <td>1367452800000;103.43</td>\n",
       "    </tr>\n",
       "  </tbody>\n",
       "</table>\n",
       "</div>"
      ],
      "text/plain": [
       "       date_in_ms;price\n",
       "0   1367107200000;135.3\n",
       "1  1367193600000;141.96\n",
       "2   1367280000000;135.3\n",
       "3   1367366400000;117.0\n",
       "4  1367452800000;103.43"
      ]
     },
     "execution_count": 4,
     "metadata": {},
     "output_type": "execute_result"
    }
   ],
   "source": [
    "df_bitcoin.head()"
   ]
  },
  {
   "cell_type": "code",
   "execution_count": 5,
   "metadata": {},
   "outputs": [
    {
     "data": {
      "text/html": [
       "<div>\n",
       "<style scoped>\n",
       "    .dataframe tbody tr th:only-of-type {\n",
       "        vertical-align: middle;\n",
       "    }\n",
       "\n",
       "    .dataframe tbody tr th {\n",
       "        vertical-align: top;\n",
       "    }\n",
       "\n",
       "    .dataframe thead th {\n",
       "        text-align: right;\n",
       "    }\n",
       "</style>\n",
       "<table border=\"1\" class=\"dataframe\">\n",
       "  <thead>\n",
       "    <tr style=\"text-align: right;\">\n",
       "      <th></th>\n",
       "      <th>OBS_ID</th>\n",
       "      <th>ï..id</th>\n",
       "      <th>symbol</th>\n",
       "      <th>name</th>\n",
       "      <th>categories_0</th>\n",
       "      <th>contract_address</th>\n",
       "      <th>transaction_count</th>\n",
       "      <th>holder_count</th>\n",
       "      <th>timestamp</th>\n",
       "      <th>country_origin</th>\n",
       "      <th>...</th>\n",
       "      <th>KW31</th>\n",
       "      <th>KW32</th>\n",
       "      <th>KW33</th>\n",
       "      <th>KW34</th>\n",
       "      <th>KW35</th>\n",
       "      <th>KW36</th>\n",
       "      <th>KW37</th>\n",
       "      <th>KW38</th>\n",
       "      <th>KW39</th>\n",
       "      <th>success</th>\n",
       "    </tr>\n",
       "  </thead>\n",
       "  <tbody>\n",
       "    <tr>\n",
       "      <th>0</th>\n",
       "      <td>235691</td>\n",
       "      <td>01coin</td>\n",
       "      <td>zoc</td>\n",
       "      <td>01coin</td>\n",
       "      <td>Masternodes</td>\n",
       "      <td>NaN</td>\n",
       "      <td>NaN</td>\n",
       "      <td>NaN</td>\n",
       "      <td>Sep-26-2019 15:59:01 PM</td>\n",
       "      <td>NaN</td>\n",
       "      <td>...</td>\n",
       "      <td>0.002447546274714919</td>\n",
       "      <td>0.002808322880574077</td>\n",
       "      <td>0.0021200694938956423</td>\n",
       "      <td>0.001355550652369834</td>\n",
       "      <td>0.002012671604248252</td>\n",
       "      <td>0.0023568770184417566</td>\n",
       "      <td>0.0025350649298760968</td>\n",
       "      <td>0.0021662825358147323</td>\n",
       "      <td>0.001778674696301052</td>\n",
       "      <td>0</td>\n",
       "    </tr>\n",
       "    <tr>\n",
       "      <th>1</th>\n",
       "      <td>235692</td>\n",
       "      <td>0x</td>\n",
       "      <td>zrx</td>\n",
       "      <td>0x</td>\n",
       "      <td>Protocol</td>\n",
       "      <td>0xe41d2489571d322189246dafa5ebde1f4699f498</td>\n",
       "      <td>975773.0</td>\n",
       "      <td>109840.0</td>\n",
       "      <td>Sep-26-2019 01:56:58 PM</td>\n",
       "      <td>US</td>\n",
       "      <td>...</td>\n",
       "      <td>0.21931512365670175</td>\n",
       "      <td>0.1902118244838738</td>\n",
       "      <td>0.1739528088194773</td>\n",
       "      <td>0.1768360401100923</td>\n",
       "      <td>0.1534983327381213</td>\n",
       "      <td>0.15961035385705513</td>\n",
       "      <td>0.16061107287163193</td>\n",
       "      <td>0.22629107696617964</td>\n",
       "      <td>0.21794407055321546</td>\n",
       "      <td>1</td>\n",
       "    </tr>\n",
       "    <tr>\n",
       "      <th>2</th>\n",
       "      <td>235693</td>\n",
       "      <td>0xcert</td>\n",
       "      <td>zxc</td>\n",
       "      <td>0xcert</td>\n",
       "      <td>Protocol</td>\n",
       "      <td>0x83e2be8d114f9661221384b3a50d24b96a5653f5</td>\n",
       "      <td>22730.0</td>\n",
       "      <td>13914.0</td>\n",
       "      <td>Sep-25-2019 11:58:48 PM</td>\n",
       "      <td>SI</td>\n",
       "      <td>...</td>\n",
       "      <td>0.0015627075063726896</td>\n",
       "      <td>0.0009794145108587154</td>\n",
       "      <td>0.0009140279072363044</td>\n",
       "      <td>0.001081632723442786</td>\n",
       "      <td>0.0009823537645584207</td>\n",
       "      <td>0.0009866124861903753</td>\n",
       "      <td>0.0006878811046944512</td>\n",
       "      <td>0.0009500823096029532</td>\n",
       "      <td>0.0007445952388706128</td>\n",
       "      <td>0</td>\n",
       "    </tr>\n",
       "    <tr>\n",
       "      <th>3</th>\n",
       "      <td>235694</td>\n",
       "      <td>0xdark</td>\n",
       "      <td>oxd</td>\n",
       "      <td>0xDark</td>\n",
       "      <td>NaN</td>\n",
       "      <td>0xe1ae07ea12bdae73b7f546075f5c78f65aad4876</td>\n",
       "      <td>125.0</td>\n",
       "      <td>51.0</td>\n",
       "      <td>Sep-26-2019 04:58:35 AM</td>\n",
       "      <td>NaN</td>\n",
       "      <td>...</td>\n",
       "      <td>0</td>\n",
       "      <td>0</td>\n",
       "      <td>0</td>\n",
       "      <td>0</td>\n",
       "      <td>0</td>\n",
       "      <td>0</td>\n",
       "      <td>0</td>\n",
       "      <td>0</td>\n",
       "      <td>0.04619907404199976</td>\n",
       "      <td>0</td>\n",
       "    </tr>\n",
       "    <tr>\n",
       "      <th>4</th>\n",
       "      <td>235695</td>\n",
       "      <td>10m-token</td>\n",
       "      <td>10mt</td>\n",
       "      <td>10M Token</td>\n",
       "      <td>NaN</td>\n",
       "      <td>0xe701cd3329057aea9d54300ddd05e41b8d74727a</td>\n",
       "      <td>16417.0</td>\n",
       "      <td>6250.0</td>\n",
       "      <td>Sep-25-2019 11:14:11 PM</td>\n",
       "      <td>NaN</td>\n",
       "      <td>...</td>\n",
       "      <td>0.0008870106032193045</td>\n",
       "      <td>0.0008870106032193045</td>\n",
       "      <td>0.0008870106032193045</td>\n",
       "      <td>0.0008870106032193045</td>\n",
       "      <td>0.0008870106032193045</td>\n",
       "      <td>0.0008870106032193045</td>\n",
       "      <td>0.0008870106032193045</td>\n",
       "      <td>0.0008870106032193045</td>\n",
       "      <td>0.0008870106032193045</td>\n",
       "      <td>0</td>\n",
       "    </tr>\n",
       "  </tbody>\n",
       "</table>\n",
       "<p>5 rows × 91 columns</p>\n",
       "</div>"
      ],
      "text/plain": [
       "   OBS_ID      ï..id symbol       name categories_0  \\\n",
       "0  235691     01coin    zoc     01coin  Masternodes   \n",
       "1  235692         0x    zrx         0x     Protocol   \n",
       "2  235693     0xcert    zxc     0xcert     Protocol   \n",
       "3  235694     0xdark    oxd     0xDark          NaN   \n",
       "4  235695  10m-token   10mt  10M Token          NaN   \n",
       "\n",
       "                             contract_address  transaction_count  \\\n",
       "0                                         NaN                NaN   \n",
       "1  0xe41d2489571d322189246dafa5ebde1f4699f498           975773.0   \n",
       "2  0x83e2be8d114f9661221384b3a50d24b96a5653f5            22730.0   \n",
       "3  0xe1ae07ea12bdae73b7f546075f5c78f65aad4876              125.0   \n",
       "4  0xe701cd3329057aea9d54300ddd05e41b8d74727a            16417.0   \n",
       "\n",
       "   holder_count                timestamp country_origin  ...  \\\n",
       "0           NaN  Sep-26-2019 15:59:01 PM            NaN  ...   \n",
       "1      109840.0  Sep-26-2019 01:56:58 PM             US  ...   \n",
       "2       13914.0  Sep-25-2019 11:58:48 PM             SI  ...   \n",
       "3          51.0  Sep-26-2019 04:58:35 AM            NaN  ...   \n",
       "4        6250.0  Sep-25-2019 11:14:11 PM            NaN  ...   \n",
       "\n",
       "                    KW31                   KW32                   KW33  \\\n",
       "0   0.002447546274714919   0.002808322880574077  0.0021200694938956423   \n",
       "1    0.21931512365670175     0.1902118244838738     0.1739528088194773   \n",
       "2  0.0015627075063726896  0.0009794145108587154  0.0009140279072363044   \n",
       "3                      0                      0                      0   \n",
       "4  0.0008870106032193045  0.0008870106032193045  0.0008870106032193045   \n",
       "\n",
       "                    KW34                   KW35                   KW36  \\\n",
       "0   0.001355550652369834   0.002012671604248252  0.0023568770184417566   \n",
       "1     0.1768360401100923     0.1534983327381213    0.15961035385705513   \n",
       "2   0.001081632723442786  0.0009823537645584207  0.0009866124861903753   \n",
       "3                      0                      0                      0   \n",
       "4  0.0008870106032193045  0.0008870106032193045  0.0008870106032193045   \n",
       "\n",
       "                    KW37                   KW38                   KW39 success  \n",
       "0  0.0025350649298760968  0.0021662825358147323   0.001778674696301052       0  \n",
       "1    0.16061107287163193    0.22629107696617964    0.21794407055321546       1  \n",
       "2  0.0006878811046944512  0.0009500823096029532  0.0007445952388706128       0  \n",
       "3                      0                      0    0.04619907404199976       0  \n",
       "4  0.0008870106032193045  0.0008870106032193045  0.0008870106032193045       0  \n",
       "\n",
       "[5 rows x 91 columns]"
      ]
     },
     "execution_count": 5,
     "metadata": {},
     "output_type": "execute_result"
    }
   ],
   "source": [
    "df.head()"
   ]
  },
  {
   "cell_type": "code",
   "execution_count": 6,
   "metadata": {},
   "outputs": [
    {
     "data": {
      "text/plain": [
       "OBS_ID           int64\n",
       "ï..id           object\n",
       "symbol          object\n",
       "name            object\n",
       "categories_0    object\n",
       "                 ...  \n",
       "KW36            object\n",
       "KW37            object\n",
       "KW38            object\n",
       "KW39            object\n",
       "success          int64\n",
       "Length: 91, dtype: object"
      ]
     },
     "execution_count": 6,
     "metadata": {},
     "output_type": "execute_result"
    }
   ],
   "source": [
    "df.dtypes"
   ]
  },
  {
   "cell_type": "markdown",
   "metadata": {},
   "source": [
    "## Columns\n",
    "\n",
    "Have a look at interesting columns"
   ]
  },
  {
   "cell_type": "markdown",
   "metadata": {},
   "source": [
    "### categories_0 \n",
    "\n",
    "- Assigned category"
   ]
  },
  {
   "cell_type": "code",
   "execution_count": 12,
   "metadata": {},
   "outputs": [
    {
     "data": {
      "text/plain": [
       "array(['Masternodes', 'Protocol', nan, 'Cryptocurrency',\n",
       "       'Business Services', 'Sports', 'Infrastructure', 'Gambling',\n",
       "       'Artificial Intelligence', 'Smart Contract Platform', 'Media',\n",
       "       'Exchange-based Tokens', 'Decentralized Exchange', 'Education',\n",
       "       'Finance / Banking', 'Entertainment', 'Real Estate', 'Other',\n",
       "       'Tourism', 'Communication', 'Technology & Science',\n",
       "       'Business Platform', 'Healthcare', 'Retail', 'Charity', 'Legal',\n",
       "       'Manufacturing', 'Investment', 'Software', 'Privacy Coins',\n",
       "       'Big Data', 'Virtual Reality', 'Asset-backed Tokens',\n",
       "       'Stablecoins', 'Internet of Things (IOT)', 'Energy', 'Storage',\n",
       "       'Augmented Reality', 'Index', 'Music'], dtype=object)"
      ]
     },
     "execution_count": 12,
     "metadata": {},
     "output_type": "execute_result"
    }
   ],
   "source": [
    "df.categories_0.unique()"
   ]
  },
  {
   "cell_type": "code",
   "execution_count": 15,
   "metadata": {},
   "outputs": [
    {
     "data": {
      "text/plain": [
       "Cryptocurrency              503\n",
       "Masternodes                 178\n",
       "Finance / Banking           175\n",
       "Business Services           149\n",
       "Business Platform           130\n",
       "Exchange-based Tokens        95\n",
       "Entertainment                84\n",
       "Smart Contract Platform      62\n",
       "Infrastructure               54\n",
       "Decentralized Exchange       51\n",
       "Software                     50\n",
       "Gambling                     50\n",
       "Technology & Science         46\n",
       "Media                        40\n",
       "Communication                37\n",
       "Protocol                     36\n",
       "Artificial Intelligence      35\n",
       "Other                        34\n",
       "Charity                      33\n",
       "Internet of Things (IOT)     30\n",
       "Privacy Coins                30\n",
       "Big Data                     27\n",
       "Education                    27\n",
       "Energy                       26\n",
       "Retail                       22\n",
       "Healthcare                   22\n",
       "Tourism                      22\n",
       "Asset-backed Tokens          19\n",
       "Real Estate                  18\n",
       "Sports                       17\n",
       "Stablecoins                  13\n",
       "Legal                         8\n",
       "Virtual Reality               7\n",
       "Manufacturing                 6\n",
       "Storage                       5\n",
       "Investment                    3\n",
       "Augmented Reality             2\n",
       "Music                         1\n",
       "Index                         1\n",
       "Name: categories_0, dtype: int64"
      ]
     },
     "execution_count": 15,
     "metadata": {},
     "output_type": "execute_result"
    }
   ],
   "source": [
    "df.categories_0.value_counts()"
   ]
  },
  {
   "cell_type": "code",
   "execution_count": 19,
   "metadata": {},
   "outputs": [
    {
     "data": {
      "image/png": "[encoded data removed]",
      "text/plain": [
       "<Figure size 1440x720 with 1 Axes>"
      ]
     },
     "metadata": {
      "needs_background": "light"
     },
     "output_type": "display_data"
    }
   ],
   "source": [
    "ax = df.categories_0.value_counts().plot(kind='bar', figsize=(20,10));"
   ]
  },
  {
   "cell_type": "code",
   "execution_count": 34,
   "metadata": {},
   "outputs": [
    {
     "data": {
      "text/plain": [
       "2609"
      ]
     },
     "execution_count": 34,
     "metadata": {},
     "output_type": "execute_result"
    }
   ],
   "source": [
    "df.categories_0.isna().sum()"
   ]
  },
  {
   "cell_type": "markdown",
   "metadata": {},
   "source": [
    "### Contract Address\n",
    "\n",
    "- Contract address of token in Etherum\n",
    "- How is it possiblethat both have the same address\n"
   ]
  },
  {
   "cell_type": "code",
   "execution_count": 39,
   "metadata": {},
   "outputs": [
    {
     "data": {
      "text/plain": [
       "array([nan, '0xe41d2489571d322189246dafa5ebde1f4699f498',\n",
       "       '0x83e2be8d114f9661221384b3a50d24b96a5653f5', ...,\n",
       "       '0xe7e4279b80d319ede2889855135a22021baf0907',\n",
       "       '0xe8f9fa977ea585591d9f394681318c16552577fb',\n",
       "       '0xc5e017450346e4f9a2e477519d65affcfc90586a'], dtype=object)"
      ]
     },
     "execution_count": 39,
     "metadata": {},
     "output_type": "execute_result"
    }
   ],
   "source": [
    "df.contract_address.unique()"
   ]
  },
  {
   "cell_type": "code",
   "execution_count": 40,
   "metadata": {},
   "outputs": [
    {
     "data": {
      "text/plain": [
       "2519"
      ]
     },
     "execution_count": 40,
     "metadata": {},
     "output_type": "execute_result"
    }
   ],
   "source": [
    "df.contract_address.nunique()"
   ]
  },
  {
   "cell_type": "code",
   "execution_count": 43,
   "metadata": {},
   "outputs": [
    {
     "data": {
      "text/plain": [
       "count                                           2524\n",
       "unique                                          2519\n",
       "top       0xa2a54f1ec1f09316ef12c1770d32ed8f21b1fb6a\n",
       "freq                                               2\n",
       "Name: contract_address, dtype: object"
      ]
     },
     "execution_count": 43,
     "metadata": {},
     "output_type": "execute_result"
    }
   ],
   "source": [
    "df.contract_address.describe(include='all')"
   ]
  },
  {
   "cell_type": "code",
   "execution_count": 55,
   "metadata": {},
   "outputs": [
    {
     "name": "stdout",
     "output_type": "stream",
     "text": [
      "Number of Entries with same values: 5\n"
     ]
    }
   ],
   "source": [
    "print(\"Number of Entries with same values: {}\".format((df.contract_address.value_counts() > 1).sum()))"
   ]
  },
  {
   "cell_type": "code",
   "execution_count": 56,
   "metadata": {},
   "outputs": [
    {
     "name": "stdout",
     "output_type": "stream",
     "text": [
      "Number of NA values: 2233\n"
     ]
    }
   ],
   "source": [
    "print(\"Number of NA values: {}\".format(df.contract_address.isna().sum()))"
   ]
  },
  {
   "cell_type": "code",
   "execution_count": 76,
   "metadata": {},
   "outputs": [],
   "source": [
    "a = (df.contract_address.value_counts() > 1)\n",
    "a[a == True].index\n",
    "df.contract_address"
   ]
  },
  {
   "cell_type": "code",
   "execution_count": 85,
   "metadata": {},
   "outputs": [],
   "source": [
    "doubled_addresses = a[a == True].index.values"
   ]
  },
  {
   "cell_type": "code",
   "execution_count": 88,
   "metadata": {},
   "outputs": [
    {
     "data": {
      "text/html": [
       "<div>\n",
       "<style scoped>\n",
       "    .dataframe tbody tr th:only-of-type {\n",
       "        vertical-align: middle;\n",
       "    }\n",
       "\n",
       "    .dataframe tbody tr th {\n",
       "        vertical-align: top;\n",
       "    }\n",
       "\n",
       "    .dataframe thead th {\n",
       "        text-align: right;\n",
       "    }\n",
       "</style>\n",
       "<table border=\"1\" class=\"dataframe\">\n",
       "  <thead>\n",
       "    <tr style=\"text-align: right;\">\n",
       "      <th></th>\n",
       "      <th>OBS_ID</th>\n",
       "      <th>ï..id</th>\n",
       "      <th>symbol</th>\n",
       "      <th>name</th>\n",
       "      <th>categories_0</th>\n",
       "      <th>contract_address</th>\n",
       "      <th>transaction_count</th>\n",
       "      <th>holder_count</th>\n",
       "      <th>timestamp</th>\n",
       "      <th>country_origin</th>\n",
       "      <th>...</th>\n",
       "      <th>KW31</th>\n",
       "      <th>KW32</th>\n",
       "      <th>KW33</th>\n",
       "      <th>KW34</th>\n",
       "      <th>KW35</th>\n",
       "      <th>KW36</th>\n",
       "      <th>KW37</th>\n",
       "      <th>KW38</th>\n",
       "      <th>KW39</th>\n",
       "      <th>success</th>\n",
       "    </tr>\n",
       "  </thead>\n",
       "  <tbody>\n",
       "    <tr>\n",
       "      <th>961</th>\n",
       "      <td>236652</td>\n",
       "      <td>coinzest</td>\n",
       "      <td>coz</td>\n",
       "      <td>CoinZest</td>\n",
       "      <td>Exchange-based Tokens</td>\n",
       "      <td>0x65c9f3bc25370cd91fd7a1badc7352cae2d8031b</td>\n",
       "      <td>1515.0</td>\n",
       "      <td>27.0</td>\n",
       "      <td>Sep-23-2019 07:04:23 AM</td>\n",
       "      <td>NaN</td>\n",
       "      <td>...</td>\n",
       "      <td>0.5064391757496708</td>\n",
       "      <td>0</td>\n",
       "      <td>0</td>\n",
       "      <td>0</td>\n",
       "      <td>0</td>\n",
       "      <td>0</td>\n",
       "      <td>0</td>\n",
       "      <td>0</td>\n",
       "      <td>4,85111E+15</td>\n",
       "      <td>1</td>\n",
       "    </tr>\n",
       "    <tr>\n",
       "      <th>1027</th>\n",
       "      <td>236718</td>\n",
       "      <td>cozplus</td>\n",
       "      <td>cozp</td>\n",
       "      <td>COZPlus</td>\n",
       "      <td>NaN</td>\n",
       "      <td>0x65c9f3bc25370cd91fd7a1badc7352cae2d8031b</td>\n",
       "      <td>1515.0</td>\n",
       "      <td>27.0</td>\n",
       "      <td>Sep-23-2019 07:04:23 AM</td>\n",
       "      <td>NaN</td>\n",
       "      <td>...</td>\n",
       "      <td>0.6324278330053835</td>\n",
       "      <td>2,18008E+15</td>\n",
       "      <td>2,14431E+15</td>\n",
       "      <td>1,83012E+13</td>\n",
       "      <td>1,65542E+16</td>\n",
       "      <td>1,41183E+16</td>\n",
       "      <td>1,46466E+15</td>\n",
       "      <td>1,38996E+16</td>\n",
       "      <td>1,63039E+15</td>\n",
       "      <td>0</td>\n",
       "    </tr>\n",
       "    <tr>\n",
       "      <th>1292</th>\n",
       "      <td>236983</td>\n",
       "      <td>digifinex-cash</td>\n",
       "      <td>dfc</td>\n",
       "      <td>DigiFinex Cash</td>\n",
       "      <td>NaN</td>\n",
       "      <td>0xa2a54f1ec1f09316ef12c1770d32ed8f21b1fb6a</td>\n",
       "      <td>2618.0</td>\n",
       "      <td>338.0</td>\n",
       "      <td>Sep-20-2019 02:47:35 AM</td>\n",
       "      <td>NaN</td>\n",
       "      <td>...</td>\n",
       "      <td>0.1459706234080462</td>\n",
       "      <td>0.1459706234080462</td>\n",
       "      <td>0.1459706234080462</td>\n",
       "      <td>0.1459706234080462</td>\n",
       "      <td>0.1459706234080462</td>\n",
       "      <td>0.1459706234080462</td>\n",
       "      <td>0.1459706234080462</td>\n",
       "      <td>0.1459706234080462</td>\n",
       "      <td>0.1459706234080462</td>\n",
       "      <td>0</td>\n",
       "    </tr>\n",
       "    <tr>\n",
       "      <th>1293</th>\n",
       "      <td>236984</td>\n",
       "      <td>digifinextoken</td>\n",
       "      <td>dft</td>\n",
       "      <td>DigiFinexToken</td>\n",
       "      <td>Exchange-based Tokens</td>\n",
       "      <td>0xa2a54f1ec1f09316ef12c1770d32ed8f21b1fb6a</td>\n",
       "      <td>2618.0</td>\n",
       "      <td>338.0</td>\n",
       "      <td>Sep-20-2019 02:47:35 AM</td>\n",
       "      <td>NaN</td>\n",
       "      <td>...</td>\n",
       "      <td>0.7147909811441694</td>\n",
       "      <td>0.7536583179536623</td>\n",
       "      <td>0.8348422318600947</td>\n",
       "      <td>0.833336732936572</td>\n",
       "      <td>0.7158061440778494</td>\n",
       "      <td>0.7749587344251649</td>\n",
       "      <td>0.8083643244899439</td>\n",
       "      <td>0.7928297295340895</td>\n",
       "      <td>0.7254206152258977</td>\n",
       "      <td>1</td>\n",
       "    </tr>\n",
       "    <tr>\n",
       "      <th>1679</th>\n",
       "      <td>237370</td>\n",
       "      <td>facecoin</td>\n",
       "      <td>fc</td>\n",
       "      <td>Facecoin</td>\n",
       "      <td>NaN</td>\n",
       "      <td>0xe6923E9b56Db1EeD1c9f430Ea761DA7565e260Fe</td>\n",
       "      <td>1620.0</td>\n",
       "      <td>486.0</td>\n",
       "      <td>Aug-23-2019 02:21:43 PM</td>\n",
       "      <td>NaN</td>\n",
       "      <td>...</td>\n",
       "      <td>0.005112398463339086</td>\n",
       "      <td>0.005112398463339086</td>\n",
       "      <td>0.005112398463339086</td>\n",
       "      <td>0.005112398463339086</td>\n",
       "      <td>0.005112398463339086</td>\n",
       "      <td>0.005112398463339086</td>\n",
       "      <td>0.005112398463339086</td>\n",
       "      <td>0</td>\n",
       "      <td>0.005112398463339086</td>\n",
       "      <td>0</td>\n",
       "    </tr>\n",
       "    <tr>\n",
       "      <th>1781</th>\n",
       "      <td>237472</td>\n",
       "      <td>fortknoxter</td>\n",
       "      <td>fkx</td>\n",
       "      <td>FortKnoxster</td>\n",
       "      <td>NaN</td>\n",
       "      <td>0x009e864923b49263c7f10d19b7f8ab7a9a5aad33</td>\n",
       "      <td>30805.0</td>\n",
       "      <td>15840.0</td>\n",
       "      <td>Sep-26-2019 05:55:35 AM</td>\n",
       "      <td>NaN</td>\n",
       "      <td>...</td>\n",
       "      <td>0</td>\n",
       "      <td>0</td>\n",
       "      <td>0</td>\n",
       "      <td>0.003989549198812369</td>\n",
       "      <td>0.0037720322043936026</td>\n",
       "      <td>0.004136553419489411</td>\n",
       "      <td>0.004182852582967571</td>\n",
       "      <td>0.004673534298106825</td>\n",
       "      <td>0</td>\n",
       "      <td>0</td>\n",
       "    </tr>\n",
       "    <tr>\n",
       "      <th>2444</th>\n",
       "      <td>238135</td>\n",
       "      <td>knoxstertoken</td>\n",
       "      <td>fkx</td>\n",
       "      <td>Knoxstertoken</td>\n",
       "      <td>NaN</td>\n",
       "      <td>0x009e864923b49263c7f10d19b7f8ab7a9a5aad33</td>\n",
       "      <td>30805.0</td>\n",
       "      <td>15840.0</td>\n",
       "      <td>Sep-26-2019 05:55:35 AM</td>\n",
       "      <td>NaN</td>\n",
       "      <td>...</td>\n",
       "      <td>0.005510654993551271</td>\n",
       "      <td>0.005681391321757839</td>\n",
       "      <td>0.005221455355112845</td>\n",
       "      <td>0.004047988498098646</td>\n",
       "      <td>0.0037077623965838984</td>\n",
       "      <td>0.004278864338971083</td>\n",
       "      <td>0.005024055075506911</td>\n",
       "      <td>0.004756524461201943</td>\n",
       "      <td>0.003199209805359998</td>\n",
       "      <td>0</td>\n",
       "    </tr>\n",
       "    <tr>\n",
       "      <th>2660</th>\n",
       "      <td>238351</td>\n",
       "      <td>magnetcoin</td>\n",
       "      <td>magn</td>\n",
       "      <td>Magnetcoin</td>\n",
       "      <td>NaN</td>\n",
       "      <td>0xe6923E9b56Db1EeD1c9f430Ea761DA7565e260Fe</td>\n",
       "      <td>1620.0</td>\n",
       "      <td>486.0</td>\n",
       "      <td>Aug-23-2019 02:21:43 PM</td>\n",
       "      <td>NaN</td>\n",
       "      <td>...</td>\n",
       "      <td>0.015207534587443684</td>\n",
       "      <td>0.015207534587443684</td>\n",
       "      <td>0.015207534587443684</td>\n",
       "      <td>0.015207534587443684</td>\n",
       "      <td>0.015207534587443684</td>\n",
       "      <td>0.015207534587443684</td>\n",
       "      <td>0.015207534587443684</td>\n",
       "      <td>0.015207534587443684</td>\n",
       "      <td>0.015207534587443684</td>\n",
       "      <td>0</td>\n",
       "    </tr>\n",
       "    <tr>\n",
       "      <th>4545</th>\n",
       "      <td>240236</td>\n",
       "      <td>winchain</td>\n",
       "      <td>win</td>\n",
       "      <td>Winchain</td>\n",
       "      <td>NaN</td>\n",
       "      <td>0xbfaa8cf522136c6fafc1d53fe4b85b4603c765b8</td>\n",
       "      <td>2134.0</td>\n",
       "      <td>510.0</td>\n",
       "      <td>Sep-23-2019 04:46:59 AM</td>\n",
       "      <td>NaN</td>\n",
       "      <td>...</td>\n",
       "      <td>0</td>\n",
       "      <td>0</td>\n",
       "      <td>0</td>\n",
       "      <td>0</td>\n",
       "      <td>0</td>\n",
       "      <td>0.00148396408900038</td>\n",
       "      <td>0.002012403394951025</td>\n",
       "      <td>0.0016182837095348476</td>\n",
       "      <td>0.001607635565267927</td>\n",
       "      <td>1</td>\n",
       "    </tr>\n",
       "    <tr>\n",
       "      <th>4551</th>\n",
       "      <td>240242</td>\n",
       "      <td>wintoken</td>\n",
       "      <td>win</td>\n",
       "      <td>WinToken</td>\n",
       "      <td>NaN</td>\n",
       "      <td>0xbfaa8cf522136c6fafc1d53fe4b85b4603c765b8</td>\n",
       "      <td>2134.0</td>\n",
       "      <td>510.0</td>\n",
       "      <td>Sep-23-2019 04:46:59 AM</td>\n",
       "      <td>NaN</td>\n",
       "      <td>...</td>\n",
       "      <td>0.0006291781892150673</td>\n",
       "      <td>0.0006188141871861109</td>\n",
       "      <td>0.0007429463751295791</td>\n",
       "      <td>0.0011302965689789614</td>\n",
       "      <td>0.001162699983251661</td>\n",
       "      <td>0.0014885798201239417</td>\n",
       "      <td>0.002024334299458688</td>\n",
       "      <td>0.0016209637870209608</td>\n",
       "      <td>0.00161273067687043</td>\n",
       "      <td>0</td>\n",
       "    </tr>\n",
       "  </tbody>\n",
       "</table>\n",
       "<p>10 rows × 91 columns</p>\n",
       "</div>"
      ],
      "text/plain": [
       "      OBS_ID           ï..id symbol            name           categories_0  \\\n",
       "961   236652        coinzest    coz        CoinZest  Exchange-based Tokens   \n",
       "1027  236718         cozplus   cozp         COZPlus                    NaN   \n",
       "1292  236983  digifinex-cash    dfc  DigiFinex Cash                    NaN   \n",
       "1293  236984  digifinextoken    dft  DigiFinexToken  Exchange-based Tokens   \n",
       "1679  237370        facecoin     fc        Facecoin                    NaN   \n",
       "1781  237472     fortknoxter    fkx    FortKnoxster                    NaN   \n",
       "2444  238135   knoxstertoken    fkx   Knoxstertoken                    NaN   \n",
       "2660  238351      magnetcoin   magn      Magnetcoin                    NaN   \n",
       "4545  240236        winchain    win        Winchain                    NaN   \n",
       "4551  240242        wintoken    win        WinToken                    NaN   \n",
       "\n",
       "                                contract_address  transaction_count  \\\n",
       "961   0x65c9f3bc25370cd91fd7a1badc7352cae2d8031b             1515.0   \n",
       "1027  0x65c9f3bc25370cd91fd7a1badc7352cae2d8031b             1515.0   \n",
       "1292  0xa2a54f1ec1f09316ef12c1770d32ed8f21b1fb6a             2618.0   \n",
       "1293  0xa2a54f1ec1f09316ef12c1770d32ed8f21b1fb6a             2618.0   \n",
       "1679  0xe6923E9b56Db1EeD1c9f430Ea761DA7565e260Fe             1620.0   \n",
       "1781  0x009e864923b49263c7f10d19b7f8ab7a9a5aad33            30805.0   \n",
       "2444  0x009e864923b49263c7f10d19b7f8ab7a9a5aad33            30805.0   \n",
       "2660  0xe6923E9b56Db1EeD1c9f430Ea761DA7565e260Fe             1620.0   \n",
       "4545  0xbfaa8cf522136c6fafc1d53fe4b85b4603c765b8             2134.0   \n",
       "4551  0xbfaa8cf522136c6fafc1d53fe4b85b4603c765b8             2134.0   \n",
       "\n",
       "      holder_count                timestamp country_origin  ...  \\\n",
       "961           27.0  Sep-23-2019 07:04:23 AM            NaN  ...   \n",
       "1027          27.0  Sep-23-2019 07:04:23 AM            NaN  ...   \n",
       "1292         338.0  Sep-20-2019 02:47:35 AM            NaN  ...   \n",
       "1293         338.0  Sep-20-2019 02:47:35 AM            NaN  ...   \n",
       "1679         486.0  Aug-23-2019 02:21:43 PM            NaN  ...   \n",
       "1781       15840.0  Sep-26-2019 05:55:35 AM            NaN  ...   \n",
       "2444       15840.0  Sep-26-2019 05:55:35 AM            NaN  ...   \n",
       "2660         486.0  Aug-23-2019 02:21:43 PM            NaN  ...   \n",
       "4545         510.0  Sep-23-2019 04:46:59 AM            NaN  ...   \n",
       "4551         510.0  Sep-23-2019 04:46:59 AM            NaN  ...   \n",
       "\n",
       "                       KW31                   KW32                   KW33  \\\n",
       "961      0.5064391757496708                      0                      0   \n",
       "1027     0.6324278330053835            2,18008E+15            2,14431E+15   \n",
       "1292     0.1459706234080462     0.1459706234080462     0.1459706234080462   \n",
       "1293     0.7147909811441694     0.7536583179536623     0.8348422318600947   \n",
       "1679   0.005112398463339086   0.005112398463339086   0.005112398463339086   \n",
       "1781                      0                      0                      0   \n",
       "2444   0.005510654993551271   0.005681391321757839   0.005221455355112845   \n",
       "2660   0.015207534587443684   0.015207534587443684   0.015207534587443684   \n",
       "4545                      0                      0                      0   \n",
       "4551  0.0006291781892150673  0.0006188141871861109  0.0007429463751295791   \n",
       "\n",
       "                       KW34                   KW35                   KW36  \\\n",
       "961                       0                      0                      0   \n",
       "1027            1,83012E+13            1,65542E+16            1,41183E+16   \n",
       "1292     0.1459706234080462     0.1459706234080462     0.1459706234080462   \n",
       "1293      0.833336732936572     0.7158061440778494     0.7749587344251649   \n",
       "1679   0.005112398463339086   0.005112398463339086   0.005112398463339086   \n",
       "1781   0.003989549198812369  0.0037720322043936026   0.004136553419489411   \n",
       "2444   0.004047988498098646  0.0037077623965838984   0.004278864338971083   \n",
       "2660   0.015207534587443684   0.015207534587443684   0.015207534587443684   \n",
       "4545                      0                      0    0.00148396408900038   \n",
       "4551  0.0011302965689789614   0.001162699983251661  0.0014885798201239417   \n",
       "\n",
       "                      KW37                   KW38                  KW39  \\\n",
       "961                      0                      0           4,85111E+15   \n",
       "1027           1,46466E+15            1,38996E+16           1,63039E+15   \n",
       "1292    0.1459706234080462     0.1459706234080462    0.1459706234080462   \n",
       "1293    0.8083643244899439     0.7928297295340895    0.7254206152258977   \n",
       "1679  0.005112398463339086                      0  0.005112398463339086   \n",
       "1781  0.004182852582967571   0.004673534298106825                     0   \n",
       "2444  0.005024055075506911   0.004756524461201943  0.003199209805359998   \n",
       "2660  0.015207534587443684   0.015207534587443684  0.015207534587443684   \n",
       "4545  0.002012403394951025  0.0016182837095348476  0.001607635565267927   \n",
       "4551  0.002024334299458688  0.0016209637870209608   0.00161273067687043   \n",
       "\n",
       "     success  \n",
       "961        1  \n",
       "1027       0  \n",
       "1292       0  \n",
       "1293       1  \n",
       "1679       0  \n",
       "1781       0  \n",
       "2444       0  \n",
       "2660       0  \n",
       "4545       1  \n",
       "4551       0  \n",
       "\n",
       "[10 rows x 91 columns]"
      ]
     },
     "execution_count": 88,
     "metadata": {},
     "output_type": "execute_result"
    }
   ],
   "source": [
    "df[df.contract_address.isin(doubled_addresses)]"
   ]
  },
  {
   "cell_type": "markdown",
   "metadata": {},
   "source": [
    "### Transaction Count\n",
    "\n",
    "- Is NA zero or not known?\n",
    "- Outlier Handline needed"
   ]
  },
  {
   "cell_type": "code",
   "execution_count": 91,
   "metadata": {},
   "outputs": [
    {
     "name": "stdout",
     "output_type": "stream",
     "text": [
      "Number of NA values: 2233\n"
     ]
    }
   ],
   "source": [
    "print(\"Number of NA values: {}\".format(df.transaction_count.isna().sum()))"
   ]
  },
  {
   "cell_type": "code",
   "execution_count": 92,
   "metadata": {},
   "outputs": [
    {
     "data": {
      "text/plain": [
       "count    2.524000e+03\n",
       "mean     4.577472e+04\n",
       "std      2.611421e+05\n",
       "min      0.000000e+00\n",
       "25%      1.499500e+03\n",
       "50%      8.277000e+03\n",
       "75%      3.065275e+04\n",
       "max      8.945280e+06\n",
       "Name: transaction_count, dtype: float64"
      ]
     },
     "execution_count": 92,
     "metadata": {},
     "output_type": "execute_result"
    }
   ],
   "source": [
    "df.transaction_count.describe()"
   ]
  },
  {
   "cell_type": "code",
   "execution_count": 95,
   "metadata": {},
   "outputs": [
    {
     "data": {
      "text/plain": [
       "<matplotlib.axes._subplots.AxesSubplot at 0x7f56df3441d0>"
      ]
     },
     "execution_count": 95,
     "metadata": {},
     "output_type": "execute_result"
    },
    {
     "data": {
      "image/png": "[encoded data removed]",
      "text/plain": [
       "<Figure size 1440x720 with 1 Axes>"
      ]
     },
     "metadata": {
      "needs_background": "light"
     },
     "output_type": "display_data"
    }
   ],
   "source": [
    "df.transaction_count.plot(kind=\"line\", figsize=(20,10))"
   ]
  },
  {
   "cell_type": "code",
   "execution_count": 98,
   "metadata": {},
   "outputs": [],
   "source": [
    "import seaborn as sns"
   ]
  },
  {
   "cell_type": "code",
   "execution_count": 102,
   "metadata": {},
   "outputs": [
    {
     "data": {
      "text/plain": [
       "<matplotlib.axes._subplots.AxesSubplot at 0x7f56d22c8860>"
      ]
     },
     "execution_count": 102,
     "metadata": {},
     "output_type": "execute_result"
    },
    {
     "data": {
      "image/png": "[encoded data removed]",
      "text/plain": [
       "<Figure size 432x288 with 1 Axes>"
      ]
     },
     "metadata": {
      "needs_background": "light"
     },
     "output_type": "display_data"
    }
   ],
   "source": [
    "sns.distplot(df.transaction_count[~df.transaction_count.isna()])"
   ]
  },
  {
   "cell_type": "markdown",
   "metadata": {},
   "source": [
    "### Timestamp\n",
    "\n",
    "- Very powerful feature\n",
    "- Can extract a lot of different features from that\n",
    "- What to do with NA values?\n",
    "- Remove outliers"
   ]
  },
  {
   "cell_type": "code",
   "execution_count": 104,
   "metadata": {},
   "outputs": [
    {
     "data": {
      "text/plain": [
       "dtype('O')"
      ]
     },
     "execution_count": 104,
     "metadata": {},
     "output_type": "execute_result"
    }
   ],
   "source": [
    "df.timestamp.dtype"
   ]
  },
  {
   "cell_type": "code",
   "execution_count": 106,
   "metadata": {},
   "outputs": [],
   "source": [
    "from datetime import datetime"
   ]
  },
  {
   "cell_type": "code",
   "execution_count": 107,
   "metadata": {},
   "outputs": [
    {
     "data": {
      "text/plain": [
       "'Sep-26-2019 15:59:01 PM'"
      ]
     },
     "execution_count": 107,
     "metadata": {},
     "output_type": "execute_result"
    }
   ],
   "source": [
    "df.timestamp[0]"
   ]
  },
  {
   "cell_type": "code",
   "execution_count": 112,
   "metadata": {},
   "outputs": [],
   "source": [
    "datetime_object = datetime.strptime('Sep-26-2019 15:59:01 PM', '%b-%d-%Y %H:%M:%S %p')"
   ]
  },
  {
   "cell_type": "code",
   "execution_count": 113,
   "metadata": {},
   "outputs": [
    {
     "data": {
      "text/plain": [
       "datetime.datetime(2019, 9, 26, 15, 59, 1)"
      ]
     },
     "execution_count": 113,
     "metadata": {},
     "output_type": "execute_result"
    }
   ],
   "source": [
    "datetime_object"
   ]
  },
  {
   "cell_type": "code",
   "execution_count": 153,
   "metadata": {},
   "outputs": [
    {
     "data": {
      "text/plain": [
       "1908"
      ]
     },
     "execution_count": 153,
     "metadata": {},
     "output_type": "execute_result"
    }
   ],
   "source": [
    "df.timestamp.isna().sum()"
   ]
  },
  {
   "cell_type": "code",
   "execution_count": 155,
   "metadata": {},
   "outputs": [],
   "source": [
    "df = df[~df.timestamp.isna()]"
   ]
  },
  {
   "cell_type": "code",
   "execution_count": 156,
   "metadata": {},
   "outputs": [],
   "source": [
    "df = df.assign(timestamp_datetime = df.apply(lambda x:\n",
    "                                            datetime.strptime(x.timestamp, '%b-%d-%Y %H:%M:%S %p'),\n",
    "                                            axis=1))"
   ]
  },
  {
   "cell_type": "code",
   "execution_count": 180,
   "metadata": {},
   "outputs": [
    {
     "data": {
      "text/plain": [
       "9"
      ]
     },
     "execution_count": 180,
     "metadata": {},
     "output_type": "execute_result"
    }
   ],
   "source": [
    "df.iloc[0].timestamp_datetime.month"
   ]
  },
  {
   "cell_type": "code",
   "execution_count": 158,
   "metadata": {},
   "outputs": [],
   "source": [
    "df = df.assign(hour = df.apply(lambda x: x.timestamp_datetime.hour, axis=1))"
   ]
  },
  {
   "cell_type": "code",
   "execution_count": 159,
   "metadata": {},
   "outputs": [],
   "source": [
    "df = df.assign(minute = df.apply(lambda x: x.timestamp_datetime.minute, axis=1))"
   ]
  },
  {
   "cell_type": "code",
   "execution_count": 160,
   "metadata": {},
   "outputs": [],
   "source": [
    "df = df.assign(second = df.apply(lambda x: x.timestamp_datetime.second, axis=1))"
   ]
  },
  {
   "cell_type": "code",
   "execution_count": 161,
   "metadata": {},
   "outputs": [],
   "source": [
    "df = df.assign(month = df.apply(lambda x: x.timestamp_datetime.month, axis=1))"
   ]
  },
  {
   "cell_type": "code",
   "execution_count": 162,
   "metadata": {},
   "outputs": [],
   "source": [
    "df = df.assign(day = df.apply(lambda x: x.timestamp_datetime.day, axis=1))"
   ]
  },
  {
   "cell_type": "code",
   "execution_count": 167,
   "metadata": {},
   "outputs": [],
   "source": [
    "df = df.assign(year = df.apply(lambda x: x.timestamp_datetime.year, axis=1))"
   ]
  },
  {
   "cell_type": "code",
   "execution_count": 168,
   "metadata": {},
   "outputs": [
    {
     "data": {
      "text/plain": [
       "array([2019, 2018, 2017, 1970])"
      ]
     },
     "execution_count": 168,
     "metadata": {},
     "output_type": "execute_result"
    }
   ],
   "source": [
    "df.year.unique()"
   ]
  },
  {
   "cell_type": "code",
   "execution_count": 169,
   "metadata": {},
   "outputs": [
    {
     "data": {
      "text/plain": [
       "2019    2812\n",
       "2018      32\n",
       "2017       3\n",
       "1970       2\n",
       "Name: year, dtype: int64"
      ]
     },
     "execution_count": 169,
     "metadata": {},
     "output_type": "execute_result"
    }
   ],
   "source": [
    "df.year.value_counts()"
   ]
  },
  {
   "cell_type": "code",
   "execution_count": 185,
   "metadata": {},
   "outputs": [],
   "source": [
    "df = df[df.year != 1970]\n",
    "df = df[df.year != 2017]"
   ]
  },
  {
   "cell_type": "code",
   "execution_count": 172,
   "metadata": {},
   "outputs": [
    {
     "data": {
      "text/plain": [
       "(2847, 98)"
      ]
     },
     "execution_count": 172,
     "metadata": {},
     "output_type": "execute_result"
    }
   ],
   "source": [
    "df.shape"
   ]
  },
  {
   "cell_type": "code",
   "execution_count": 163,
   "metadata": {},
   "outputs": [
    {
     "data": {
      "text/html": [
       "<div>\n",
       "<style scoped>\n",
       "    .dataframe tbody tr th:only-of-type {\n",
       "        vertical-align: middle;\n",
       "    }\n",
       "\n",
       "    .dataframe tbody tr th {\n",
       "        vertical-align: top;\n",
       "    }\n",
       "\n",
       "    .dataframe thead th {\n",
       "        text-align: right;\n",
       "    }\n",
       "</style>\n",
       "<table border=\"1\" class=\"dataframe\">\n",
       "  <thead>\n",
       "    <tr style=\"text-align: right;\">\n",
       "      <th></th>\n",
       "      <th>OBS_ID</th>\n",
       "      <th>ï..id</th>\n",
       "      <th>symbol</th>\n",
       "      <th>name</th>\n",
       "      <th>categories_0</th>\n",
       "      <th>contract_address</th>\n",
       "      <th>transaction_count</th>\n",
       "      <th>holder_count</th>\n",
       "      <th>timestamp</th>\n",
       "      <th>country_origin</th>\n",
       "      <th>...</th>\n",
       "      <th>KW37</th>\n",
       "      <th>KW38</th>\n",
       "      <th>KW39</th>\n",
       "      <th>success</th>\n",
       "      <th>timestamp_datetime</th>\n",
       "      <th>hour</th>\n",
       "      <th>minute</th>\n",
       "      <th>second</th>\n",
       "      <th>month</th>\n",
       "      <th>day</th>\n",
       "    </tr>\n",
       "  </thead>\n",
       "  <tbody>\n",
       "    <tr>\n",
       "      <th>0</th>\n",
       "      <td>235691</td>\n",
       "      <td>01coin</td>\n",
       "      <td>zoc</td>\n",
       "      <td>01coin</td>\n",
       "      <td>Masternodes</td>\n",
       "      <td>NaN</td>\n",
       "      <td>NaN</td>\n",
       "      <td>NaN</td>\n",
       "      <td>Sep-26-2019 15:59:01 PM</td>\n",
       "      <td>NaN</td>\n",
       "      <td>...</td>\n",
       "      <td>0.0025350649298760968</td>\n",
       "      <td>0.0021662825358147323</td>\n",
       "      <td>0.001778674696301052</td>\n",
       "      <td>0</td>\n",
       "      <td>2019-09-26 15:59:01</td>\n",
       "      <td>15</td>\n",
       "      <td>59</td>\n",
       "      <td>1</td>\n",
       "      <td>9</td>\n",
       "      <td>26</td>\n",
       "    </tr>\n",
       "    <tr>\n",
       "      <th>1</th>\n",
       "      <td>235692</td>\n",
       "      <td>0x</td>\n",
       "      <td>zrx</td>\n",
       "      <td>0x</td>\n",
       "      <td>Protocol</td>\n",
       "      <td>0xe41d2489571d322189246dafa5ebde1f4699f498</td>\n",
       "      <td>975773.0</td>\n",
       "      <td>109840.0</td>\n",
       "      <td>Sep-26-2019 01:56:58 PM</td>\n",
       "      <td>US</td>\n",
       "      <td>...</td>\n",
       "      <td>0.16061107287163193</td>\n",
       "      <td>0.22629107696617964</td>\n",
       "      <td>0.21794407055321546</td>\n",
       "      <td>1</td>\n",
       "      <td>2019-09-26 01:56:58</td>\n",
       "      <td>1</td>\n",
       "      <td>56</td>\n",
       "      <td>58</td>\n",
       "      <td>9</td>\n",
       "      <td>26</td>\n",
       "    </tr>\n",
       "    <tr>\n",
       "      <th>2</th>\n",
       "      <td>235693</td>\n",
       "      <td>0xcert</td>\n",
       "      <td>zxc</td>\n",
       "      <td>0xcert</td>\n",
       "      <td>Protocol</td>\n",
       "      <td>0x83e2be8d114f9661221384b3a50d24b96a5653f5</td>\n",
       "      <td>22730.0</td>\n",
       "      <td>13914.0</td>\n",
       "      <td>Sep-25-2019 11:58:48 PM</td>\n",
       "      <td>SI</td>\n",
       "      <td>...</td>\n",
       "      <td>0.0006878811046944512</td>\n",
       "      <td>0.0009500823096029532</td>\n",
       "      <td>0.0007445952388706128</td>\n",
       "      <td>0</td>\n",
       "      <td>2019-09-25 11:58:48</td>\n",
       "      <td>11</td>\n",
       "      <td>58</td>\n",
       "      <td>48</td>\n",
       "      <td>9</td>\n",
       "      <td>25</td>\n",
       "    </tr>\n",
       "    <tr>\n",
       "      <th>3</th>\n",
       "      <td>235694</td>\n",
       "      <td>0xdark</td>\n",
       "      <td>oxd</td>\n",
       "      <td>0xDark</td>\n",
       "      <td>NaN</td>\n",
       "      <td>0xe1ae07ea12bdae73b7f546075f5c78f65aad4876</td>\n",
       "      <td>125.0</td>\n",
       "      <td>51.0</td>\n",
       "      <td>Sep-26-2019 04:58:35 AM</td>\n",
       "      <td>NaN</td>\n",
       "      <td>...</td>\n",
       "      <td>0</td>\n",
       "      <td>0</td>\n",
       "      <td>0.04619907404199976</td>\n",
       "      <td>0</td>\n",
       "      <td>2019-09-26 04:58:35</td>\n",
       "      <td>4</td>\n",
       "      <td>58</td>\n",
       "      <td>35</td>\n",
       "      <td>9</td>\n",
       "      <td>26</td>\n",
       "    </tr>\n",
       "    <tr>\n",
       "      <th>4</th>\n",
       "      <td>235695</td>\n",
       "      <td>10m-token</td>\n",
       "      <td>10mt</td>\n",
       "      <td>10M Token</td>\n",
       "      <td>NaN</td>\n",
       "      <td>0xe701cd3329057aea9d54300ddd05e41b8d74727a</td>\n",
       "      <td>16417.0</td>\n",
       "      <td>6250.0</td>\n",
       "      <td>Sep-25-2019 11:14:11 PM</td>\n",
       "      <td>NaN</td>\n",
       "      <td>...</td>\n",
       "      <td>0.0008870106032193045</td>\n",
       "      <td>0.0008870106032193045</td>\n",
       "      <td>0.0008870106032193045</td>\n",
       "      <td>0</td>\n",
       "      <td>2019-09-25 11:14:11</td>\n",
       "      <td>11</td>\n",
       "      <td>14</td>\n",
       "      <td>11</td>\n",
       "      <td>9</td>\n",
       "      <td>25</td>\n",
       "    </tr>\n",
       "  </tbody>\n",
       "</table>\n",
       "<p>5 rows × 97 columns</p>\n",
       "</div>"
      ],
      "text/plain": [
       "   OBS_ID      ï..id symbol       name categories_0  \\\n",
       "0  235691     01coin    zoc     01coin  Masternodes   \n",
       "1  235692         0x    zrx         0x     Protocol   \n",
       "2  235693     0xcert    zxc     0xcert     Protocol   \n",
       "3  235694     0xdark    oxd     0xDark          NaN   \n",
       "4  235695  10m-token   10mt  10M Token          NaN   \n",
       "\n",
       "                             contract_address  transaction_count  \\\n",
       "0                                         NaN                NaN   \n",
       "1  0xe41d2489571d322189246dafa5ebde1f4699f498           975773.0   \n",
       "2  0x83e2be8d114f9661221384b3a50d24b96a5653f5            22730.0   \n",
       "3  0xe1ae07ea12bdae73b7f546075f5c78f65aad4876              125.0   \n",
       "4  0xe701cd3329057aea9d54300ddd05e41b8d74727a            16417.0   \n",
       "\n",
       "   holder_count                timestamp country_origin  ...  \\\n",
       "0           NaN  Sep-26-2019 15:59:01 PM            NaN  ...   \n",
       "1      109840.0  Sep-26-2019 01:56:58 PM             US  ...   \n",
       "2       13914.0  Sep-25-2019 11:58:48 PM             SI  ...   \n",
       "3          51.0  Sep-26-2019 04:58:35 AM            NaN  ...   \n",
       "4        6250.0  Sep-25-2019 11:14:11 PM            NaN  ...   \n",
       "\n",
       "                    KW37                   KW38                   KW39  \\\n",
       "0  0.0025350649298760968  0.0021662825358147323   0.001778674696301052   \n",
       "1    0.16061107287163193    0.22629107696617964    0.21794407055321546   \n",
       "2  0.0006878811046944512  0.0009500823096029532  0.0007445952388706128   \n",
       "3                      0                      0    0.04619907404199976   \n",
       "4  0.0008870106032193045  0.0008870106032193045  0.0008870106032193045   \n",
       "\n",
       "  success  timestamp_datetime hour minute second month day  \n",
       "0       0 2019-09-26 15:59:01   15     59      1     9  26  \n",
       "1       1 2019-09-26 01:56:58    1     56     58     9  26  \n",
       "2       0 2019-09-25 11:58:48   11     58     48     9  25  \n",
       "3       0 2019-09-26 04:58:35    4     58     35     9  26  \n",
       "4       0 2019-09-25 11:14:11   11     14     11     9  25  \n",
       "\n",
       "[5 rows x 97 columns]"
      ]
     },
     "execution_count": 163,
     "metadata": {},
     "output_type": "execute_result"
    }
   ],
   "source": [
    "df.head()"
   ]
  },
  {
   "cell_type": "code",
   "execution_count": 189,
   "metadata": {},
   "outputs": [],
   "source": [
    "resampled_data = df.set_index('timestamp_datetime').resample('M').count()['OBS_ID']"
   ]
  },
  {
   "cell_type": "code",
   "execution_count": 191,
   "metadata": {},
   "outputs": [
    {
     "data": {
      "text/plain": [
       "timestamp_datetime\n",
       "2018-01-31       1\n",
       "2018-02-28       1\n",
       "2018-03-31       1\n",
       "2018-04-30       2\n",
       "2018-05-31       1\n",
       "2018-06-30       5\n",
       "2018-07-31       1\n",
       "2018-08-31       5\n",
       "2018-09-30       3\n",
       "2018-10-31       2\n",
       "2018-11-30       2\n",
       "2018-12-31       8\n",
       "2019-01-31       6\n",
       "2019-02-28      14\n",
       "2019-03-31      12\n",
       "2019-04-30      20\n",
       "2019-05-31      25\n",
       "2019-06-30      26\n",
       "2019-07-31      65\n",
       "2019-08-31     192\n",
       "2019-09-30    2452\n",
       "Freq: M, Name: OBS_ID, dtype: int64"
      ]
     },
     "execution_count": 191,
     "metadata": {},
     "output_type": "execute_result"
    }
   ],
   "source": [
    "resampled_data"
   ]
  },
  {
   "cell_type": "code",
   "execution_count": 194,
   "metadata": {},
   "outputs": [
    {
     "data": {
      "text/plain": [
       "<matplotlib.axes._subplots.AxesSubplot at 0x7f56c76a9a20>"
      ]
     },
     "execution_count": 194,
     "metadata": {},
     "output_type": "execute_result"
    },
    {
     "data": {
      "image/png": "[encoded data removed]",
      "text/plain": [
       "<Figure size 432x288 with 1 Axes>"
      ]
     },
     "metadata": {
      "needs_background": "light"
     },
     "output_type": "display_data"
    }
   ],
   "source": [
    "resampled_data.plot(kind=\"bar\")"
   ]
  },
  {
   "cell_type": "markdown",
   "metadata": {},
   "source": [
    "### Holder Count"
   ]
  },
  {
   "cell_type": "code",
   "execution_count": 196,
   "metadata": {},
   "outputs": [],
   "source": [
    "df_bitcoin, df = read_in_data()"
   ]
  },
  {
   "cell_type": "code",
   "execution_count": 199,
   "metadata": {},
   "outputs": [
    {
     "data": {
      "text/plain": [
       "count      2520.000000\n",
       "mean      11394.625397\n",
       "std       33692.705165\n",
       "min           0.000000\n",
       "25%         363.000000\n",
       "50%        2165.500000\n",
       "75%        8666.500000\n",
       "max      746672.000000\n",
       "Name: holder_count, dtype: float64"
      ]
     },
     "execution_count": 199,
     "metadata": {},
     "output_type": "execute_result"
    }
   ],
   "source": [
    "df.holder_count.describe()"
   ]
  },
  {
   "cell_type": "code",
   "execution_count": 200,
   "metadata": {},
   "outputs": [
    {
     "name": "stdout",
     "output_type": "stream",
     "text": [
      "NA values: 2237\n"
     ]
    }
   ],
   "source": [
    "print(\"NA values: {}\".format(df.holder_count.isna().sum()))"
   ]
  },
  {
   "cell_type": "code",
   "execution_count": 201,
   "metadata": {},
   "outputs": [],
   "source": [
    "df = df[~df.holder_count.isna()]"
   ]
  },
  {
   "cell_type": "code",
   "execution_count": 202,
   "metadata": {},
   "outputs": [
    {
     "name": "stdout",
     "output_type": "stream",
     "text": [
      "NA values: 0\n"
     ]
    }
   ],
   "source": [
    "print(\"NA values: {}\".format(df.holder_count.isna().sum()))"
   ]
  },
  {
   "cell_type": "markdown",
   "metadata": {},
   "source": [
    "### Label"
   ]
  },
  {
   "cell_type": "code",
   "execution_count": 204,
   "metadata": {},
   "outputs": [],
   "source": [
    "df_bitcoin, df = read_in_data()"
   ]
  },
  {
   "cell_type": "code",
   "execution_count": 208,
   "metadata": {},
   "outputs": [],
   "source": [
    "df_grouped = df.groupby(df.success).count()['OBS_ID']"
   ]
  },
  {
   "cell_type": "code",
   "execution_count": 217,
   "metadata": {},
   "outputs": [
    {
     "data": {
      "image/png": "[encoded data removed]",
      "text/plain": [
       "<Figure size 360x432 with 1 Axes>"
      ]
     },
     "metadata": {
      "needs_background": "light"
     },
     "output_type": "display_data"
    }
   ],
   "source": [
    "fig, ax = plt.subplots(figsize=(5,6))\n",
    "\n",
    "ax.bar(df_grouped.index, df_grouped.values, color=['green', 'red']);\n",
    "ax.set_title(\"Balance of data\");\n"
   ]
  },
  {
   "cell_type": "code",
   "execution_count": 219,
   "metadata": {},
   "outputs": [
    {
     "data": {
      "image/png": "[encoded data removed]",
      "text/plain": [
       "<Figure size 360x360 with 1 Axes>"
      ]
     },
     "metadata": {
      "needs_background": "light"
     },
     "output_type": "display_data"
    }
   ],
   "source": [
    "x = df.success.unique()\n",
    "x = ['Not Successfull', 'Successfull']\n",
    "y = df.groupby(df.success).count()[\"OBS_ID\"]\n",
    "\n",
    "fig, ax = plt.subplots(figsize=(5,5))\n",
    "\n",
    "ax.bar(x, y, color=['tab:blue', 'tab:orange']);\n",
    "ax.set_xticks(range(0,2));\n",
    "ax.set_xticklabels(x);\n",
    "\n",
    "rects = ax.patches\n",
    "\n",
    "# Make some labels.\n",
    "labels = [(y[0] / y.sum() * 100), (y[1] / y.sum() * 100)]\n",
    "\n",
    "for rect, label in zip(rects, labels):\n",
    "    height = rect.get_height()\n",
    "    ax.text(rect.get_x() + rect.get_width() / 2, height + 5, \"{:.2f} %\".format(label),\n",
    "            ha='center', va='bottom')"
   ]
  }
 ],
 "metadata": {
  "kernelspec": {
   "display_name": "Python 3",
   "language": "python",
   "name": "python3"
  },
  "language_info": {
   "codemirror_mode": {
    "name": "ipython",
    "version": 3
   },
   "file_extension": ".py",
   "mimetype": "text/x-python",
   "name": "python",
   "nbconvert_exporter": "python",
   "pygments_lexer": "ipython3",
   "version": "3.7.3"
  }
 },
 "nbformat": 4,
 "nbformat_minor": 2
}
