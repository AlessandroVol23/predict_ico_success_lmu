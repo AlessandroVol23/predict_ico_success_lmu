{
 "cells": [
  {
   "cell_type": "code",
   "execution_count": 1,
   "metadata": {},
   "outputs": [],
   "source": [
    "%load_ext autoreload\n",
    "%autoreload 2\n",
    "import os \n",
    "import pandas as pd\n",
    "import numpy as np\n",
    "os.chdir('..')\n",
    "from src.data.make_dataset import get_preprocessed_datasets\n",
    "from src.features.build_features import FeatureEngineering"
   ]
  },
  {
   "cell_type": "code",
   "execution_count": 2,
   "metadata": {},
   "outputs": [
    {
     "name": "stderr",
     "output_type": "stream",
     "text": [
      "2019-11-03 20:29:10,162 - src.data.make_dataset - INFO - making final data sets from raw data\n",
      "2019-11-03 20:29:10,400 - src.data.make_dataset - INFO - Shape of df_bitcoin: (2355, 2)\n",
      "2019-11-03 20:29:10,401 - src.data.make_dataset - INFO - Shape of df: (4757, 91)\n",
      "2019-11-03 20:29:10,456 - src.data.make_dataset - INFO - Start preprocessing dataframe\n",
      "2019-11-03 20:29:10,483 - src.data.make_dataset - INFO - Replacing market_data_current_price_usd \n",
      "2019-11-03 20:29:10,507 - src.data.make_dataset - INFO - Replacing market_data_ath_usd \n",
      "2019-11-03 20:29:10,524 - src.data.make_dataset - INFO - Replacing market_data_circulating_supply \n",
      "2019-11-03 20:29:10,543 - src.data.make_dataset - INFO - Preprocessing done!\n"
     ]
    }
   ],
   "source": [
    "df_bitcoin, df, df_test = get_preprocessed_datasets()"
   ]
  },
  {
   "cell_type": "code",
   "execution_count": 3,
   "metadata": {},
   "outputs": [
    {
     "name": "stderr",
     "output_type": "stream",
     "text": [
      "/c/Users/Sandro/repo/data_science_for_business_lmu/src/features/build_features.py:29: FutureWarning: Sorting because non-concatenation axis is not aligned. A future version\n",
      "of pandas will change to not sort by default.\n",
      "\n",
      "To accept the future behavior, pass 'sort=False'.\n",
      "\n",
      "To retain the current behavior and silence the warning, pass 'sort=True'.\n",
      "\n",
      "  self.df = pd.concat([df, df_test])\n",
      "2019-11-03 20:29:10,723 - src.features.build_features - INFO - Adding categories_0\n",
      "2019-11-03 20:29:10,754 - src.features.build_features - INFO - Transform numerical variable for column transaction_count\n",
      "2019-11-03 20:29:10,757 - src.features.build_features - INFO - Start filling NA values in transaction_count\n",
      "2019-11-03 20:29:10,768 - src.features.build_features - INFO - Found 2695 NA values in column transaction_count\n",
      "2019-11-03 20:29:10,775 - src.features.build_features - INFO - Filled NA values\n",
      "2019-11-03 20:29:10,799 - src.features.build_features - INFO - Transform numerical variable for column holder_count\n",
      "2019-11-03 20:29:10,800 - src.features.build_features - INFO - Start filling NA values in holder_count\n",
      "2019-11-03 20:29:10,816 - src.features.build_features - INFO - Found 2699 NA values in column holder_count\n",
      "2019-11-03 20:29:10,818 - src.features.build_features - INFO - Filled NA values\n",
      "2019-11-03 20:29:10,849 - src.features.build_features - INFO - Transform numerical variable for column market_data_current_price_usd\n",
      "2019-11-03 20:29:10,851 - src.features.build_features - INFO - Start filling NA values in market_data_current_price_usd\n",
      "2019-11-03 20:29:10,862 - src.features.build_features - INFO - Found 48 NA values in column market_data_current_price_usd\n",
      "2019-11-03 20:29:10,866 - src.features.build_features - INFO - Filled NA values\n",
      "2019-11-03 20:29:10,901 - src.features.build_features - INFO - Transform numerical variable for column market_data_ath_usd\n",
      "2019-11-03 20:29:10,908 - src.features.build_features - INFO - Start filling NA values in market_data_ath_usd\n",
      "2019-11-03 20:29:10,919 - src.features.build_features - INFO - Found 48 NA values in column market_data_ath_usd\n",
      "2019-11-03 20:29:10,927 - src.features.build_features - INFO - Filled NA values\n",
      "2019-11-03 20:29:10,975 - src.features.build_features - INFO - Transform numerical variable for column market_data_total_supply\n",
      "2019-11-03 20:29:10,979 - src.features.build_features - INFO - Start filling NA values in market_data_total_supply\n",
      "2019-11-03 20:29:10,997 - src.features.build_features - INFO - Found 574 NA values in column market_data_total_supply\n",
      "2019-11-03 20:29:10,999 - src.features.build_features - INFO - Filled NA values\n",
      "2019-11-03 20:29:11,031 - src.features.build_features - INFO - Transform numerical variable for column market_data_circulating_supply\n",
      "2019-11-03 20:29:11,033 - src.features.build_features - INFO - Start filling NA values in market_data_circulating_supply\n",
      "2019-11-03 20:29:11,047 - src.features.build_features - INFO - Found 47 NA values in column market_data_circulating_supply\n",
      "2019-11-03 20:29:11,050 - src.features.build_features - INFO - Filled NA values\n",
      "2019-11-03 20:29:11,090 - src.features.build_features - INFO - Transform numerical variable for column public_interest_stats_bing_matches\n",
      "2019-11-03 20:29:11,093 - src.features.build_features - INFO - Start filling NA values in public_interest_stats_bing_matches\n",
      "2019-11-03 20:29:11,110 - src.features.build_features - INFO - Found 4 NA values in column public_interest_stats_bing_matches\n",
      "2019-11-03 20:29:11,113 - src.features.build_features - INFO - Filled NA values\n"
     ]
    },
    {
     "data": {
      "text/html": [
       "<div>\n",
       "<style scoped>\n",
       "    .dataframe tbody tr th:only-of-type {\n",
       "        vertical-align: middle;\n",
       "    }\n",
       "\n",
       "    .dataframe tbody tr th {\n",
       "        vertical-align: top;\n",
       "    }\n",
       "\n",
       "    .dataframe thead th {\n",
       "        text-align: right;\n",
       "    }\n",
       "</style>\n",
       "<table border=\"1\" class=\"dataframe\">\n",
       "  <thead>\n",
       "    <tr style=\"text-align: right;\">\n",
       "      <th></th>\n",
       "      <th>OBS_ID</th>\n",
       "      <th>success</th>\n",
       "      <th>labels_categories_0</th>\n",
       "      <th>transaction_count</th>\n",
       "      <th>holder_count</th>\n",
       "      <th>market_data_current_price_usd</th>\n",
       "      <th>market_data_ath_usd</th>\n",
       "      <th>market_data_total_supply</th>\n",
       "      <th>market_data_circulating_supply</th>\n",
       "      <th>public_interest_stats_bing_matches</th>\n",
       "    </tr>\n",
       "  </thead>\n",
       "  <tbody>\n",
       "    <tr>\n",
       "      <th>0</th>\n",
       "      <td>235691</td>\n",
       "      <td>0</td>\n",
       "      <td>23</td>\n",
       "      <td>48262.141038</td>\n",
       "      <td>13576.305982</td>\n",
       "      <td>0.001677</td>\n",
       "      <td>0.034182</td>\n",
       "      <td>6.565882e+07</td>\n",
       "      <td>8.627700e+13</td>\n",
       "      <td>23900.0</td>\n",
       "    </tr>\n",
       "    <tr>\n",
       "      <th>1</th>\n",
       "      <td>235692</td>\n",
       "      <td>1</td>\n",
       "      <td>29</td>\n",
       "      <td>975773.000000</td>\n",
       "      <td>109840.000000</td>\n",
       "      <td>0.231561</td>\n",
       "      <td>43587.000000</td>\n",
       "      <td>1.000000e+09</td>\n",
       "      <td>6.008030e+15</td>\n",
       "      <td>686000.0</td>\n",
       "    </tr>\n",
       "    <tr>\n",
       "      <th>2</th>\n",
       "      <td>235693</td>\n",
       "      <td>0</td>\n",
       "      <td>29</td>\n",
       "      <td>22730.000000</td>\n",
       "      <td>13914.000000</td>\n",
       "      <td>0.000717</td>\n",
       "      <td>0.043750</td>\n",
       "      <td>5.000000e+08</td>\n",
       "      <td>4.400000e+08</td>\n",
       "      <td>27500.0</td>\n",
       "    </tr>\n",
       "    <tr>\n",
       "      <th>3</th>\n",
       "      <td>235694</td>\n",
       "      <td>0</td>\n",
       "      <td>26</td>\n",
       "      <td>125.000000</td>\n",
       "      <td>51.000000</td>\n",
       "      <td>0.033603</td>\n",
       "      <td>43505.000000</td>\n",
       "      <td>5.000000e+06</td>\n",
       "      <td>0.000000e+00</td>\n",
       "      <td>27500.0</td>\n",
       "    </tr>\n",
       "    <tr>\n",
       "      <th>4</th>\n",
       "      <td>235695</td>\n",
       "      <td>0</td>\n",
       "      <td>26</td>\n",
       "      <td>16417.000000</td>\n",
       "      <td>6250.000000</td>\n",
       "      <td>0.000887</td>\n",
       "      <td>0.030843</td>\n",
       "      <td>1.000000e+07</td>\n",
       "      <td>0.000000e+00</td>\n",
       "      <td>703000.0</td>\n",
       "    </tr>\n",
       "  </tbody>\n",
       "</table>\n",
       "</div>"
      ],
      "text/plain": [
       "   OBS_ID success  labels_categories_0  transaction_count   holder_count  \\\n",
       "0  235691       0                   23       48262.141038   13576.305982   \n",
       "1  235692       1                   29      975773.000000  109840.000000   \n",
       "2  235693       0                   29       22730.000000   13914.000000   \n",
       "3  235694       0                   26         125.000000      51.000000   \n",
       "4  235695       0                   26       16417.000000    6250.000000   \n",
       "\n",
       "   market_data_current_price_usd  market_data_ath_usd  \\\n",
       "0                       0.001677             0.034182   \n",
       "1                       0.231561         43587.000000   \n",
       "2                       0.000717             0.043750   \n",
       "3                       0.033603         43505.000000   \n",
       "4                       0.000887             0.030843   \n",
       "\n",
       "   market_data_total_supply  market_data_circulating_supply  \\\n",
       "0              6.565882e+07                    8.627700e+13   \n",
       "1              1.000000e+09                    6.008030e+15   \n",
       "2              5.000000e+08                    4.400000e+08   \n",
       "3              5.000000e+06                    0.000000e+00   \n",
       "4              1.000000e+07                    0.000000e+00   \n",
       "\n",
       "   public_interest_stats_bing_matches  \n",
       "0                             23900.0  \n",
       "1                            686000.0  \n",
       "2                             27500.0  \n",
       "3                             27500.0  \n",
       "4                            703000.0  "
      ]
     },
     "execution_count": 3,
     "metadata": {},
     "output_type": "execute_result"
    }
   ],
   "source": [
    "fe = FeatureEngineering(df, df_bitcoin, df_test)\n",
    "fe.construct_features()\n",
    "fe.df_features.head()"
   ]
  },
  {
   "cell_type": "code",
   "execution_count": 4,
   "metadata": {},
   "outputs": [],
   "source": [
    "from sklearn.model_selection import train_test_split\n",
    "from sklearn.ensemble import RandomForestClassifier\n"
   ]
  },
  {
   "cell_type": "code",
   "execution_count": 8,
   "metadata": {},
   "outputs": [],
   "source": [
    "X_train, y_train, X_test = fe.get_X_y()\n",
    "\n",
    "X_train = X_train.values\n",
    "y_train = y_train.values.astype(int)"
   ]
  },
  {
   "cell_type": "code",
   "execution_count": 9,
   "metadata": {},
   "outputs": [
    {
     "data": {
      "text/plain": [
       "array([[2.3000000e+01, 4.8262141e+04, 1.3576306e+04, ..., 6.5658824e+07,\n",
       "        8.6277000e+13, 2.3900000e+04],\n",
       "       [2.9000000e+01, 9.7577300e+05, 1.0984000e+05, ..., 1.0000000e+09,\n",
       "        6.0080300e+15, 6.8600000e+05],\n",
       "       [2.9000000e+01, 2.2730000e+04, 1.3914000e+04, ..., 5.0000000e+08,\n",
       "        4.4000000e+08, 2.7500000e+04],\n",
       "       ...,\n",
       "       [2.6000000e+01, 4.8262141e+04, 1.3576306e+04, ..., 1.2750000e+08,\n",
       "        0.0000000e+00, 8.9000000e+04],\n",
       "       [2.6000000e+01, 1.6800000e+02, 3.4000000e+01, ..., 2.0000000e+11,\n",
       "        0.0000000e+00, 8.2800000e+04],\n",
       "       [2.3000000e+01, 4.8262141e+04, 1.3576306e+04, ..., 3.0000000e+08,\n",
       "        0.0000000e+00, 2.7400000e+04]])"
      ]
     },
     "execution_count": 9,
     "metadata": {},
     "output_type": "execute_result"
    }
   ],
   "source": [
    "X_train"
   ]
  },
  {
   "cell_type": "code",
   "execution_count": 10,
   "metadata": {},
   "outputs": [
    {
     "data": {
      "text/plain": [
       "array([0, 1, 0, ..., 0, 0, 0])"
      ]
     },
     "execution_count": 10,
     "metadata": {},
     "output_type": "execute_result"
    }
   ],
   "source": [
    "y_train"
   ]
  },
  {
   "cell_type": "code",
   "execution_count": 11,
   "metadata": {},
   "outputs": [],
   "source": [
    "X_train, X_val, y_train, y_val = train_test_split(\n",
    "            X_train, y_train, test_size=0.2, random_state=42)\n",
    "\n",
    "X_val = X_val.astype(int)"
   ]
  },
  {
   "cell_type": "code",
   "execution_count": 12,
   "metadata": {},
   "outputs": [
    {
     "name": "stdout",
     "output_type": "stream",
     "text": [
      "(3805, 8)\n",
      "(3805,)\n",
      "(952, 8)\n",
      "(952,)\n"
     ]
    }
   ],
   "source": [
    "print(X_train.shape)\n",
    "print(y_train.shape)\n",
    "print(X_val.shape)\n",
    "print(y_val.shape)"
   ]
  },
  {
   "cell_type": "code",
   "execution_count": 13,
   "metadata": {},
   "outputs": [],
   "source": [
    "y_train = y_train.astype(int)"
   ]
  },
  {
   "cell_type": "code",
   "execution_count": 20,
   "metadata": {},
   "outputs": [],
   "source": [
    "model = RandomForestClassifier(n_estimators=1000)"
   ]
  },
  {
   "cell_type": "code",
   "execution_count": 21,
   "metadata": {},
   "outputs": [
    {
     "data": {
      "text/plain": [
       "RandomForestClassifier(bootstrap=True, class_weight=None, criterion='gini',\n",
       "                       max_depth=None, max_features='auto', max_leaf_nodes=None,\n",
       "                       min_impurity_decrease=0.0, min_impurity_split=None,\n",
       "                       min_samples_leaf=1, min_samples_split=2,\n",
       "                       min_weight_fraction_leaf=0.0, n_estimators=1000,\n",
       "                       n_jobs=None, oob_score=False, random_state=None,\n",
       "                       verbose=0, warm_start=False)"
      ]
     },
     "execution_count": 21,
     "metadata": {},
     "output_type": "execute_result"
    }
   ],
   "source": [
    "model.fit(X_train, y_train)"
   ]
  },
  {
   "cell_type": "code",
   "execution_count": 22,
   "metadata": {},
   "outputs": [],
   "source": [
    "y_preds = model.predict(X_val)"
   ]
  },
  {
   "cell_type": "code",
   "execution_count": 23,
   "metadata": {},
   "outputs": [],
   "source": [
    "from sklearn.metrics import matthews_corrcoef\n"
   ]
  },
  {
   "cell_type": "code",
   "execution_count": 24,
   "metadata": {},
   "outputs": [],
   "source": [
    "y_val = y_val.astype(int)"
   ]
  },
  {
   "cell_type": "code",
   "execution_count": 25,
   "metadata": {},
   "outputs": [
    {
     "data": {
      "text/plain": [
       "0.09148758026851055"
      ]
     },
     "execution_count": 25,
     "metadata": {},
     "output_type": "execute_result"
    }
   ],
   "source": [
    "matthews_corrcoef(y_val, y_preds)"
   ]
  },
  {
   "cell_type": "markdown",
   "metadata": {},
   "source": [
    "## Test Set"
   ]
  },
  {
   "cell_type": "code",
   "execution_count": 26,
   "metadata": {},
   "outputs": [
    {
     "data": {
      "text/html": [
       "<div>\n",
       "<style scoped>\n",
       "    .dataframe tbody tr th:only-of-type {\n",
       "        vertical-align: middle;\n",
       "    }\n",
       "\n",
       "    .dataframe tbody tr th {\n",
       "        vertical-align: top;\n",
       "    }\n",
       "\n",
       "    .dataframe thead th {\n",
       "        text-align: right;\n",
       "    }\n",
       "</style>\n",
       "<table border=\"1\" class=\"dataframe\">\n",
       "  <thead>\n",
       "    <tr style=\"text-align: right;\">\n",
       "      <th></th>\n",
       "      <th>labels_categories_0</th>\n",
       "      <th>transaction_count</th>\n",
       "      <th>holder_count</th>\n",
       "      <th>market_data_current_price_usd</th>\n",
       "      <th>market_data_ath_usd</th>\n",
       "      <th>market_data_total_supply</th>\n",
       "      <th>market_data_circulating_supply</th>\n",
       "      <th>public_interest_stats_bing_matches</th>\n",
       "    </tr>\n",
       "  </thead>\n",
       "  <tbody>\n",
       "    <tr>\n",
       "      <th>0</th>\n",
       "      <td>23</td>\n",
       "      <td>48262.141038</td>\n",
       "      <td>13576.305982</td>\n",
       "      <td>0.001677</td>\n",
       "      <td>0.034182</td>\n",
       "      <td>6.565882e+07</td>\n",
       "      <td>8.627700e+13</td>\n",
       "      <td>23900.0</td>\n",
       "    </tr>\n",
       "    <tr>\n",
       "      <th>1</th>\n",
       "      <td>29</td>\n",
       "      <td>975773.000000</td>\n",
       "      <td>109840.000000</td>\n",
       "      <td>0.231561</td>\n",
       "      <td>43587.000000</td>\n",
       "      <td>1.000000e+09</td>\n",
       "      <td>6.008030e+15</td>\n",
       "      <td>686000.0</td>\n",
       "    </tr>\n",
       "    <tr>\n",
       "      <th>2</th>\n",
       "      <td>29</td>\n",
       "      <td>22730.000000</td>\n",
       "      <td>13914.000000</td>\n",
       "      <td>0.000717</td>\n",
       "      <td>0.043750</td>\n",
       "      <td>5.000000e+08</td>\n",
       "      <td>4.400000e+08</td>\n",
       "      <td>27500.0</td>\n",
       "    </tr>\n",
       "    <tr>\n",
       "      <th>3</th>\n",
       "      <td>26</td>\n",
       "      <td>125.000000</td>\n",
       "      <td>51.000000</td>\n",
       "      <td>0.033603</td>\n",
       "      <td>43505.000000</td>\n",
       "      <td>5.000000e+06</td>\n",
       "      <td>0.000000e+00</td>\n",
       "      <td>27500.0</td>\n",
       "    </tr>\n",
       "    <tr>\n",
       "      <th>4</th>\n",
       "      <td>26</td>\n",
       "      <td>16417.000000</td>\n",
       "      <td>6250.000000</td>\n",
       "      <td>0.000887</td>\n",
       "      <td>0.030843</td>\n",
       "      <td>1.000000e+07</td>\n",
       "      <td>0.000000e+00</td>\n",
       "      <td>703000.0</td>\n",
       "    </tr>\n",
       "  </tbody>\n",
       "</table>\n",
       "</div>"
      ],
      "text/plain": [
       "   labels_categories_0  transaction_count   holder_count  \\\n",
       "0                   23       48262.141038   13576.305982   \n",
       "1                   29      975773.000000  109840.000000   \n",
       "2                   29       22730.000000   13914.000000   \n",
       "3                   26         125.000000      51.000000   \n",
       "4                   26       16417.000000    6250.000000   \n",
       "\n",
       "   market_data_current_price_usd  market_data_ath_usd  \\\n",
       "0                       0.001677             0.034182   \n",
       "1                       0.231561         43587.000000   \n",
       "2                       0.000717             0.043750   \n",
       "3                       0.033603         43505.000000   \n",
       "4                       0.000887             0.030843   \n",
       "\n",
       "   market_data_total_supply  market_data_circulating_supply  \\\n",
       "0              6.565882e+07                    8.627700e+13   \n",
       "1              1.000000e+09                    6.008030e+15   \n",
       "2              5.000000e+08                    4.400000e+08   \n",
       "3              5.000000e+06                    0.000000e+00   \n",
       "4              1.000000e+07                    0.000000e+00   \n",
       "\n",
       "   public_interest_stats_bing_matches  \n",
       "0                             23900.0  \n",
       "1                            686000.0  \n",
       "2                             27500.0  \n",
       "3                             27500.0  \n",
       "4                            703000.0  "
      ]
     },
     "execution_count": 26,
     "metadata": {},
     "output_type": "execute_result"
    }
   ],
   "source": [
    "X_train, y_train, X_test = fe.get_X_y()\n",
    "X_train.head()"
   ]
  },
  {
   "cell_type": "code",
   "execution_count": 32,
   "metadata": {},
   "outputs": [],
   "source": [
    "a = list(X_test.columns)"
   ]
  },
  {
   "cell_type": "code",
   "execution_count": 36,
   "metadata": {},
   "outputs": [],
   "source": [
    "a.remove('OBS_ID')"
   ]
  },
  {
   "cell_type": "code",
   "execution_count": 37,
   "metadata": {},
   "outputs": [
    {
     "data": {
      "text/plain": [
       "['labels_categories_0',\n",
       " 'transaction_count',\n",
       " 'holder_count',\n",
       " 'market_data_current_price_usd',\n",
       " 'market_data_ath_usd',\n",
       " 'market_data_total_supply',\n",
       " 'market_data_circulating_supply',\n",
       " 'public_interest_stats_bing_matches']"
      ]
     },
     "execution_count": 37,
     "metadata": {},
     "output_type": "execute_result"
    }
   ],
   "source": [
    "a"
   ]
  },
  {
   "cell_type": "code",
   "execution_count": 40,
   "metadata": {},
   "outputs": [],
   "source": [
    "X_test_values = X_test[a].values"
   ]
  },
  {
   "cell_type": "code",
   "execution_count": 41,
   "metadata": {},
   "outputs": [
    {
     "data": {
      "text/plain": [
       "array([[2.60000000e+01, 3.76000000e+02, 2.65000000e+02, ...,\n",
       "        2.85201000e+07, 0.00000000e+00, 1.09000000e+07],\n",
       "       [2.60000000e+01, 7.04080000e+04, 2.31150000e+04, ...,\n",
       "        4.00000000e+08, 4.01161660e+07, 2.86000000e+04],\n",
       "       [2.60000000e+01, 4.82621410e+04, 1.35763060e+04, ...,\n",
       "        2.14188959e+15, 2.92934000e+14, 4.26000000e+05],\n",
       "       ...,\n",
       "       [2.60000000e+01, 4.82621410e+04, 1.35763060e+04, ...,\n",
       "        3.00000000e+07, 0.00000000e+00, 2.69000000e+04],\n",
       "       [2.60000000e+01, 8.77800000e+04, 7.01990000e+04, ...,\n",
       "        2.05000000e+09, 1.45883000e+16, 2.83000000e+04],\n",
       "       [8.00000000e+00, 4.82621410e+04, 1.35763060e+04, ...,\n",
       "        1.00000000e+10, 0.00000000e+00, 0.00000000e+00]])"
      ]
     },
     "execution_count": 41,
     "metadata": {},
     "output_type": "execute_result"
    }
   ],
   "source": [
    "X_test_values"
   ]
  },
  {
   "cell_type": "code",
   "execution_count": 42,
   "metadata": {},
   "outputs": [],
   "source": [
    "preds_test = model.predict(X_test_values)"
   ]
  },
  {
   "cell_type": "code",
   "execution_count": 43,
   "metadata": {},
   "outputs": [],
   "source": [
    "pd.DataFrame({\"OBS_ID\": X_test['OBS_ID'],\n",
    "             \"success\": preds_test}).to_csv('data/processed/submission03', index=None)"
   ]
  },
  {
   "cell_type": "code",
   "execution_count": 45,
   "metadata": {},
   "outputs": [],
   "source": [
    "a = pd.read_csv('data/processed/submission03')"
   ]
  },
  {
   "cell_type": "code",
   "execution_count": 54,
   "metadata": {},
   "outputs": [],
   "source": [
    "b = pd.read_csv('data/processed/submission02')"
   ]
  },
  {
   "cell_type": "code",
   "execution_count": 53,
   "metadata": {},
   "outputs": [
    {
     "data": {
      "text/plain": [
       "0    982\n",
       "1     19\n",
       "Name: success, dtype: int64"
      ]
     },
     "execution_count": 53,
     "metadata": {},
     "output_type": "execute_result"
    }
   ],
   "source": [
    "a.success.value_caounts()"
   ]
  },
  {
   "cell_type": "code",
   "execution_count": 56,
   "metadata": {},
   "outputs": [
    {
     "data": {
      "text/plain": [
       "0    988\n",
       "1     13\n",
       "Name: success, dtype: int64"
      ]
     },
     "execution_count": 56,
     "metadata": {},
     "output_type": "execute_result"
    }
   ],
   "source": [
    "b.success.value_counts()"
   ]
  }
 ],
 "metadata": {
  "kernelspec": {
   "display_name": "Python 3",
   "language": "python",
   "name": "python3"
  },
  "language_info": {
   "codemirror_mode": {
    "name": "ipython",
    "version": 3
   },
   "file_extension": ".py",
   "mimetype": "text/x-python",
   "name": "python",
   "nbconvert_exporter": "python",
   "pygments_lexer": "ipython3",
   "version": "3.7.3"
  }
 },
 "nbformat": 4,
 "nbformat_minor": 2
}
