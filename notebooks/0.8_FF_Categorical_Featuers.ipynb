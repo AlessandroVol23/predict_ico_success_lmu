{
 "cells": [
  {
   "cell_type": "code",
   "execution_count": 1,
   "metadata": {},
   "outputs": [],
   "source": [
    "%load_ext autoreload\n",
    "%autoreload 2\n",
    "import os \n",
    "import pandas as pd\n",
    "import numpy as np\n",
    "os.chdir('..')\n",
    "from src.data.make_dataset import get_preprocessed_datasets\n",
    "from src.features.build_features import FeatureEngineering"
   ]
  },
  {
   "cell_type": "code",
   "execution_count": 2,
   "metadata": {},
   "outputs": [
    {
     "name": "stderr",
     "output_type": "stream",
     "text": [
      "2019-11-15 16:45:55,738 - src.data.make_dataset - INFO - making final data sets from raw data\n",
      "2019-11-15 16:45:56,015 - src.data.make_dataset - INFO - Shape of df_bitcoin: (2355, 2)\n",
      "2019-11-15 16:45:56,015 - src.data.make_dataset - INFO - Shape of df: (4757, 91)\n",
      "2019-11-15 16:45:56,077 - src.data.make_dataset - INFO - Start preprocessing dataframe\n",
      "2019-11-15 16:45:56,101 - src.data.make_dataset - INFO - Replacing market_data_current_price_usd \n",
      "2019-11-15 16:45:56,122 - src.data.make_dataset - INFO - Replacing market_data_ath_usd \n",
      "2019-11-15 16:45:56,141 - src.data.make_dataset - INFO - Replacing market_data_circulating_supply \n",
      "2019-11-15 16:45:56,161 - src.data.make_dataset - INFO - Preprocessing done!\n"
     ]
    }
   ],
   "source": [
    "df_bitcoin, df, df_test = get_preprocessed_datasets()"
   ]
  },
  {
   "cell_type": "code",
   "execution_count": 3,
   "metadata": {},
   "outputs": [
    {
     "data": {
      "text/plain": [
       "(4757, 91)"
      ]
     },
     "execution_count": 3,
     "metadata": {},
     "output_type": "execute_result"
    }
   ],
   "source": [
    "df.shape"
   ]
  },
  {
   "cell_type": "code",
   "execution_count": 4,
   "metadata": {},
   "outputs": [
    {
     "name": "stderr",
     "output_type": "stream",
     "text": [
      "/c/Users/Sandro/repo/data_science_for_business_lmu/src/features/feature_class.py:29: FutureWarning: Sorting because non-concatenation axis is not aligned. A future version\n",
      "of pandas will change to not sort by default.\n",
      "\n",
      "To accept the future behavior, pass 'sort=False'.\n",
      "\n",
      "To retain the current behavior and silence the warning, pass 'sort=True'.\n",
      "\n",
      "  self.df = pd.concat([df, df_test])\n"
     ]
    }
   ],
   "source": [
    "fe = FeatureEngineering(df, df_bitcoin, df_test)"
   ]
  },
  {
   "cell_type": "code",
   "execution_count": 5,
   "metadata": {},
   "outputs": [
    {
     "name": "stderr",
     "output_type": "stream",
     "text": [
      "2019-11-15 16:46:00,796 - src.features.feature_class - INFO - Transform numerical variable for column transaction_count\n",
      "2019-11-15 16:46:00,799 - src.features.feature_class - INFO - Start filling NA values in transaction_count\n",
      "2019-11-15 16:46:00,810 - src.features.feature_class - INFO - Found 2695 NA values in column transaction_count\n",
      "2019-11-15 16:46:00,812 - src.features.feature_class - INFO - Filled NA values\n",
      "2019-11-15 16:46:00,836 - src.features.feature_class - INFO - Transform numerical variable for column holder_count\n",
      "2019-11-15 16:46:00,838 - src.features.feature_class - INFO - Start filling NA values in holder_count\n",
      "2019-11-15 16:46:00,849 - src.features.feature_class - INFO - Found 2699 NA values in column holder_count\n",
      "2019-11-15 16:46:00,853 - src.features.feature_class - INFO - Filled NA values\n",
      "2019-11-15 16:46:00,875 - src.features.feature_class - INFO - Transform numerical variable for column market_data_current_price_usd\n",
      "2019-11-15 16:46:00,877 - src.features.feature_class - INFO - Start filling NA values in market_data_current_price_usd\n",
      "2019-11-15 16:46:00,890 - src.features.feature_class - INFO - Found 48 NA values in column market_data_current_price_usd\n",
      "2019-11-15 16:46:00,894 - src.features.feature_class - INFO - Filled NA values\n",
      "2019-11-15 16:46:00,921 - src.features.feature_class - INFO - Transform numerical variable for column market_data_ath_usd\n",
      "2019-11-15 16:46:00,923 - src.features.feature_class - INFO - Start filling NA values in market_data_ath_usd\n",
      "2019-11-15 16:46:00,934 - src.features.feature_class - INFO - Found 48 NA values in column market_data_ath_usd\n",
      "2019-11-15 16:46:00,937 - src.features.feature_class - INFO - Filled NA values\n",
      "2019-11-15 16:46:00,961 - src.features.feature_class - INFO - Transform numerical variable for column market_data_total_supply\n",
      "2019-11-15 16:46:00,963 - src.features.feature_class - INFO - Start filling NA values in market_data_total_supply\n",
      "2019-11-15 16:46:00,974 - src.features.feature_class - INFO - Found 574 NA values in column market_data_total_supply\n",
      "2019-11-15 16:46:00,978 - src.features.feature_class - INFO - Filled NA values\n",
      "2019-11-15 16:46:01,003 - src.features.feature_class - INFO - Transform numerical variable for column market_data_circulating_supply\n",
      "2019-11-15 16:46:01,007 - src.features.feature_class - INFO - Start filling NA values in market_data_circulating_supply\n",
      "2019-11-15 16:46:01,024 - src.features.feature_class - INFO - Found 47 NA values in column market_data_circulating_supply\n",
      "2019-11-15 16:46:01,028 - src.features.feature_class - INFO - Filled NA values\n",
      "2019-11-15 16:46:01,063 - src.features.feature_class - INFO - Transform numerical variable for column public_interest_stats_bing_matches\n",
      "2019-11-15 16:46:01,067 - src.features.feature_class - INFO - Start filling NA values in public_interest_stats_bing_matches\n",
      "2019-11-15 16:46:01,079 - src.features.feature_class - INFO - Found 4 NA values in column public_interest_stats_bing_matches\n",
      "2019-11-15 16:46:01,082 - src.features.feature_class - INFO - Filled NA values\n",
      "2019-11-15 16:46:01,122 - src.features.feature_class - INFO - Transform categorical variable for column categories_0\n",
      "2019-11-15 16:46:01,180 - src.features.feature_class - INFO - Transform categorical variable for column country_origin\n",
      "2019-11-15 16:46:01,235 - src.features.feature_class - INFO - Transform categorical variable for column ico_data_country_origin\n",
      "2019-11-15 16:46:01,290 - src.features.feature_class - INFO - Transform categorical variable for column ico_data_hardcap_currency\n",
      "2019-11-15 16:46:01,338 - src.features.feature_class - INFO - Transform categorical variable for column ico_data_softcap_currency\n",
      "2019-11-15 16:46:01,389 - src.features.feature_class - INFO - Transform categorical variable for column ico_data_total_raised_currency\n"
     ]
    }
   ],
   "source": [
    "fe.construct_features()"
   ]
  },
  {
   "cell_type": "code",
   "execution_count": 6,
   "metadata": {},
   "outputs": [
    {
     "data": {
      "text/plain": [
       "OBS_ID                                     int64\n",
       "success                                   object\n",
       "transaction_count                        float64\n",
       "holder_count                             float64\n",
       "market_data_current_price_usd            float64\n",
       "market_data_ath_usd                      float64\n",
       "market_data_total_supply                 float64\n",
       "market_data_circulating_supply           float64\n",
       "public_interest_stats_bing_matches       float64\n",
       "labels_categories_0                        int64\n",
       "labels_country_origin                      int64\n",
       "labels_ico_data_country_origin             int64\n",
       "labels_ico_data_hardcap_currency           int64\n",
       "labels_ico_data_softcap_currency           int64\n",
       "labels_ico_data_total_raised_currency      int64\n",
       "dtype: object"
      ]
     },
     "execution_count": 6,
     "metadata": {},
     "output_type": "execute_result"
    }
   ],
   "source": [
    "fe.df_features.dtypes"
   ]
  },
  {
   "cell_type": "code",
   "execution_count": 7,
   "metadata": {},
   "outputs": [],
   "source": [
    "from sklearn.model_selection import train_test_split\n",
    "from sklearn.ensemble import RandomForestClassifier"
   ]
  },
  {
   "cell_type": "code",
   "execution_count": 17,
   "metadata": {},
   "outputs": [],
   "source": [
    "X_train, y_train, X_test = fe.get_X_y()"
   ]
  },
  {
   "cell_type": "code",
   "execution_count": 9,
   "metadata": {},
   "outputs": [],
   "source": [
    "X_train_, X_val, y_train_, y_val = train_test_split(\n",
    "            X_train, y_train, test_size=0.2, random_state=42)\n"
   ]
  },
  {
   "cell_type": "code",
   "execution_count": 10,
   "metadata": {},
   "outputs": [
    {
     "data": {
      "text/plain": [
       "array([[5.9800000e+02, 1.9300000e+02, 9.9200000e-02, ..., 2.3000000e+01,\n",
       "        1.5000000e+01, 7.0000000e+00],\n",
       "       [1.5470000e+03, 9.0000000e+02, 3.3433930e-02, ..., 3.5000000e+01,\n",
       "        1.5000000e+01, 1.0000000e+01],\n",
       "       [3.3883000e+04, 3.8570000e+03, 3.6000000e-07, ..., 1.4000000e+01,\n",
       "        8.0000000e+00, 7.0000000e+00],\n",
       "       ...,\n",
       "       [6.9600000e+02, 5.4400000e+02, 5.2300000e-05, ..., 2.3000000e+01,\n",
       "        1.5000000e+01, 7.0000000e+00],\n",
       "       [4.8262141e+04, 1.3576306e+04, 1.5900000e-02, ..., 2.3000000e+01,\n",
       "        1.5000000e+01, 7.0000000e+00],\n",
       "       [5.9498000e+04, 3.7080000e+03, 3.4701120e-02, ..., 3.5000000e+01,\n",
       "        1.5000000e+01, 1.0000000e+01]])"
      ]
     },
     "execution_count": 10,
     "metadata": {},
     "output_type": "execute_result"
    }
   ],
   "source": [
    "X_train"
   ]
  },
  {
   "cell_type": "code",
   "execution_count": 11,
   "metadata": {},
   "outputs": [
    {
     "name": "stdout",
     "output_type": "stream",
     "text": [
      "(3805, 13)\n",
      "(3805,)\n",
      "(952, 13)\n",
      "(952,)\n"
     ]
    }
   ],
   "source": [
    "print(X_train.shape)\n",
    "print(y_train.shape)\n",
    "print(X_val.shape)\n",
    "print(y_val.shape)"
   ]
  },
  {
   "cell_type": "code",
   "execution_count": 12,
   "metadata": {},
   "outputs": [
    {
     "data": {
      "text/plain": [
       "RandomForestClassifier(bootstrap=True, class_weight=None, criterion='gini',\n",
       "                       max_depth=None, max_features='auto', max_leaf_nodes=None,\n",
       "                       min_impurity_decrease=0.0, min_impurity_split=None,\n",
       "                       min_samples_leaf=1, min_samples_split=2,\n",
       "                       min_weight_fraction_leaf=0.0, n_estimators=1000,\n",
       "                       n_jobs=None, oob_score=False, random_state=None,\n",
       "                       verbose=0, warm_start=False)"
      ]
     },
     "execution_count": 12,
     "metadata": {},
     "output_type": "execute_result"
    }
   ],
   "source": [
    "model = RandomForestClassifier(n_estimators=1000)\n",
    "model.fit(X_train, y_train)"
   ]
  },
  {
   "cell_type": "code",
   "execution_count": 13,
   "metadata": {},
   "outputs": [],
   "source": [
    "y_preds = model.predict(X_val)"
   ]
  },
  {
   "cell_type": "code",
   "execution_count": 14,
   "metadata": {},
   "outputs": [],
   "source": [
    "from sklearn.metrics import matthews_corrcoef\n"
   ]
  },
  {
   "cell_type": "code",
   "execution_count": 15,
   "metadata": {},
   "outputs": [],
   "source": [
    "y_val = y_val.astype(int)"
   ]
  },
  {
   "cell_type": "code",
   "execution_count": 16,
   "metadata": {},
   "outputs": [
    {
     "data": {
      "text/plain": [
       "0.10277449599824294"
      ]
     },
     "execution_count": 16,
     "metadata": {},
     "output_type": "execute_result"
    }
   ],
   "source": [
    "matthews_corrcoef(y_val, y_preds)"
   ]
  },
  {
   "cell_type": "code",
   "execution_count": 18,
   "metadata": {},
   "outputs": [
    {
     "data": {
      "text/plain": [
       "RandomForestClassifier(bootstrap=True, class_weight=None, criterion='gini',\n",
       "                       max_depth=None, max_features='auto', max_leaf_nodes=None,\n",
       "                       min_impurity_decrease=0.0, min_impurity_split=None,\n",
       "                       min_samples_leaf=1, min_samples_split=2,\n",
       "                       min_weight_fraction_leaf=0.0, n_estimators=1000,\n",
       "                       n_jobs=None, oob_score=False, random_state=None,\n",
       "                       verbose=0, warm_start=False)"
      ]
     },
     "execution_count": 18,
     "metadata": {},
     "output_type": "execute_result"
    }
   ],
   "source": [
    "model.fit(X_train, y_train)"
   ]
  },
  {
   "cell_type": "markdown",
   "metadata": {},
   "source": [
    "## Test Set"
   ]
  },
  {
   "cell_type": "code",
   "execution_count": 31,
   "metadata": {},
   "outputs": [
    {
     "data": {
      "text/html": [
       "<div>\n",
       "<style scoped>\n",
       "    .dataframe tbody tr th:only-of-type {\n",
       "        vertical-align: middle;\n",
       "    }\n",
       "\n",
       "    .dataframe tbody tr th {\n",
       "        vertical-align: top;\n",
       "    }\n",
       "\n",
       "    .dataframe thead th {\n",
       "        text-align: right;\n",
       "    }\n",
       "</style>\n",
       "<table border=\"1\" class=\"dataframe\">\n",
       "  <thead>\n",
       "    <tr style=\"text-align: right;\">\n",
       "      <th></th>\n",
       "      <th>transaction_count</th>\n",
       "      <th>holder_count</th>\n",
       "      <th>market_data_current_price_usd</th>\n",
       "      <th>market_data_ath_usd</th>\n",
       "      <th>market_data_total_supply</th>\n",
       "      <th>market_data_circulating_supply</th>\n",
       "      <th>public_interest_stats_bing_matches</th>\n",
       "      <th>labels_categories_0</th>\n",
       "      <th>labels_country_origin</th>\n",
       "      <th>labels_ico_data_country_origin</th>\n",
       "      <th>labels_ico_data_hardcap_currency</th>\n",
       "      <th>labels_ico_data_softcap_currency</th>\n",
       "      <th>labels_ico_data_total_raised_currency</th>\n",
       "    </tr>\n",
       "  </thead>\n",
       "  <tbody>\n",
       "    <tr>\n",
       "      <td>0</td>\n",
       "      <td>48262.141038</td>\n",
       "      <td>13576.305982</td>\n",
       "      <td>0.001677</td>\n",
       "      <td>0.034182</td>\n",
       "      <td>6.565882e+07</td>\n",
       "      <td>8.627700e+13</td>\n",
       "      <td>23900.0</td>\n",
       "      <td>23</td>\n",
       "      <td>79</td>\n",
       "      <td>59</td>\n",
       "      <td>23</td>\n",
       "      <td>15</td>\n",
       "      <td>7</td>\n",
       "    </tr>\n",
       "    <tr>\n",
       "      <td>1</td>\n",
       "      <td>975773.000000</td>\n",
       "      <td>109840.000000</td>\n",
       "      <td>0.231561</td>\n",
       "      <td>43587.000000</td>\n",
       "      <td>1.000000e+09</td>\n",
       "      <td>6.008030e+15</td>\n",
       "      <td>686000.0</td>\n",
       "      <td>29</td>\n",
       "      <td>111</td>\n",
       "      <td>82</td>\n",
       "      <td>23</td>\n",
       "      <td>15</td>\n",
       "      <td>10</td>\n",
       "    </tr>\n",
       "    <tr>\n",
       "      <td>2</td>\n",
       "      <td>22730.000000</td>\n",
       "      <td>13914.000000</td>\n",
       "      <td>0.000717</td>\n",
       "      <td>0.043750</td>\n",
       "      <td>5.000000e+08</td>\n",
       "      <td>4.400000e+08</td>\n",
       "      <td>27500.0</td>\n",
       "      <td>29</td>\n",
       "      <td>102</td>\n",
       "      <td>76</td>\n",
       "      <td>14</td>\n",
       "      <td>8</td>\n",
       "      <td>10</td>\n",
       "    </tr>\n",
       "    <tr>\n",
       "      <td>3</td>\n",
       "      <td>125.000000</td>\n",
       "      <td>51.000000</td>\n",
       "      <td>0.033603</td>\n",
       "      <td>43505.000000</td>\n",
       "      <td>5.000000e+06</td>\n",
       "      <td>0.000000e+00</td>\n",
       "      <td>27500.0</td>\n",
       "      <td>26</td>\n",
       "      <td>79</td>\n",
       "      <td>59</td>\n",
       "      <td>23</td>\n",
       "      <td>15</td>\n",
       "      <td>7</td>\n",
       "    </tr>\n",
       "    <tr>\n",
       "      <td>4</td>\n",
       "      <td>16417.000000</td>\n",
       "      <td>6250.000000</td>\n",
       "      <td>0.000887</td>\n",
       "      <td>0.030843</td>\n",
       "      <td>1.000000e+07</td>\n",
       "      <td>0.000000e+00</td>\n",
       "      <td>703000.0</td>\n",
       "      <td>26</td>\n",
       "      <td>79</td>\n",
       "      <td>59</td>\n",
       "      <td>23</td>\n",
       "      <td>15</td>\n",
       "      <td>7</td>\n",
       "    </tr>\n",
       "  </tbody>\n",
       "</table>\n",
       "</div>"
      ],
      "text/plain": [
       "   transaction_count   holder_count  market_data_current_price_usd  \\\n",
       "0       48262.141038   13576.305982                       0.001677   \n",
       "1      975773.000000  109840.000000                       0.231561   \n",
       "2       22730.000000   13914.000000                       0.000717   \n",
       "3         125.000000      51.000000                       0.033603   \n",
       "4       16417.000000    6250.000000                       0.000887   \n",
       "\n",
       "   market_data_ath_usd  market_data_total_supply  \\\n",
       "0             0.034182              6.565882e+07   \n",
       "1         43587.000000              1.000000e+09   \n",
       "2             0.043750              5.000000e+08   \n",
       "3         43505.000000              5.000000e+06   \n",
       "4             0.030843              1.000000e+07   \n",
       "\n",
       "   market_data_circulating_supply  public_interest_stats_bing_matches  \\\n",
       "0                    8.627700e+13                             23900.0   \n",
       "1                    6.008030e+15                            686000.0   \n",
       "2                    4.400000e+08                             27500.0   \n",
       "3                    0.000000e+00                             27500.0   \n",
       "4                    0.000000e+00                            703000.0   \n",
       "\n",
       "   labels_categories_0  labels_country_origin  labels_ico_data_country_origin  \\\n",
       "0                   23                     79                              59   \n",
       "1                   29                    111                              82   \n",
       "2                   29                    102                              76   \n",
       "3                   26                     79                              59   \n",
       "4                   26                     79                              59   \n",
       "\n",
       "   labels_ico_data_hardcap_currency  labels_ico_data_softcap_currency  \\\n",
       "0                                23                                15   \n",
       "1                                23                                15   \n",
       "2                                14                                 8   \n",
       "3                                23                                15   \n",
       "4                                23                                15   \n",
       "\n",
       "   labels_ico_data_total_raised_currency  \n",
       "0                                      7  \n",
       "1                                     10  \n",
       "2                                     10  \n",
       "3                                      7  \n",
       "4                                      7  "
      ]
     },
     "execution_count": 31,
     "metadata": {},
     "output_type": "execute_result"
    }
   ],
   "source": [
    "X_train, y_train, X_test = fe.get_X_y()\n",
    "X_train.head()"
   ]
  },
  {
   "cell_type": "code",
   "execution_count": 19,
   "metadata": {},
   "outputs": [],
   "source": [
    "a = list(X_test.columns)"
   ]
  },
  {
   "cell_type": "code",
   "execution_count": 20,
   "metadata": {},
   "outputs": [],
   "source": [
    "a.remove('OBS_ID')"
   ]
  },
  {
   "cell_type": "code",
   "execution_count": 21,
   "metadata": {},
   "outputs": [
    {
     "data": {
      "text/plain": [
       "['transaction_count',\n",
       " 'holder_count',\n",
       " 'market_data_current_price_usd',\n",
       " 'market_data_ath_usd',\n",
       " 'market_data_total_supply',\n",
       " 'market_data_circulating_supply',\n",
       " 'public_interest_stats_bing_matches',\n",
       " 'labels_categories_0',\n",
       " 'labels_country_origin',\n",
       " 'labels_ico_data_country_origin',\n",
       " 'labels_ico_data_hardcap_currency',\n",
       " 'labels_ico_data_softcap_currency',\n",
       " 'labels_ico_data_total_raised_currency']"
      ]
     },
     "execution_count": 21,
     "metadata": {},
     "output_type": "execute_result"
    }
   ],
   "source": [
    "a"
   ]
  },
  {
   "cell_type": "code",
   "execution_count": 22,
   "metadata": {},
   "outputs": [],
   "source": [
    "X_test_values = X_test[a].values"
   ]
  },
  {
   "cell_type": "code",
   "execution_count": 23,
   "metadata": {},
   "outputs": [
    {
     "data": {
      "text/plain": [
       "array([[3.7600000e+02, 2.6500000e+02, 8.3971000e-04, ..., 2.3000000e+01,\n",
       "        1.5000000e+01, 7.0000000e+00],\n",
       "       [7.0408000e+04, 2.3115000e+04, 5.0284000e-02, ..., 2.3000000e+01,\n",
       "        1.5000000e+01, 7.0000000e+00],\n",
       "       [4.8262141e+04, 1.3576306e+04, 1.3500000e-02, ..., 2.3000000e+01,\n",
       "        1.5000000e+01, 7.0000000e+00],\n",
       "       ...,\n",
       "       [4.8262141e+04, 1.3576306e+04, 3.0392000e-01, ..., 2.3000000e+01,\n",
       "        1.5000000e+01, 7.0000000e+00],\n",
       "       [8.7780000e+04, 7.0199000e+04, 7.6088000e-04, ..., 2.3000000e+01,\n",
       "        1.5000000e+01, 7.0000000e+00],\n",
       "       [4.8262141e+04, 1.3576306e+04, 2.8610300e-03, ..., 2.3000000e+01,\n",
       "        1.5000000e+01, 7.0000000e+00]])"
      ]
     },
     "execution_count": 23,
     "metadata": {},
     "output_type": "execute_result"
    }
   ],
   "source": [
    "X_test_values"
   ]
  },
  {
   "cell_type": "code",
   "execution_count": 24,
   "metadata": {},
   "outputs": [],
   "source": [
    "preds_test = model.predict(X_test_values)"
   ]
  },
  {
   "cell_type": "code",
   "execution_count": 26,
   "metadata": {},
   "outputs": [],
   "source": [
    "pd.DataFrame({\"OBS_ID\": X_test['OBS_ID'],\n",
    "             \"success\": preds_test}).to_csv('data/processed/submission05', index=None)"
   ]
  },
  {
   "cell_type": "code",
   "execution_count": 27,
   "metadata": {},
   "outputs": [
    {
     "data": {
      "text/html": [
       "<div>\n",
       "<style scoped>\n",
       "    .dataframe tbody tr th:only-of-type {\n",
       "        vertical-align: middle;\n",
       "    }\n",
       "\n",
       "    .dataframe tbody tr th {\n",
       "        vertical-align: top;\n",
       "    }\n",
       "\n",
       "    .dataframe thead th {\n",
       "        text-align: right;\n",
       "    }\n",
       "</style>\n",
       "<table border=\"1\" class=\"dataframe\">\n",
       "  <thead>\n",
       "    <tr style=\"text-align: right;\">\n",
       "      <th></th>\n",
       "      <th>OBS_ID</th>\n",
       "      <th>success</th>\n",
       "    </tr>\n",
       "  </thead>\n",
       "  <tbody>\n",
       "    <tr>\n",
       "      <th>0</th>\n",
       "      <td>1</td>\n",
       "      <td>0</td>\n",
       "    </tr>\n",
       "    <tr>\n",
       "      <th>1</th>\n",
       "      <td>2</td>\n",
       "      <td>0</td>\n",
       "    </tr>\n",
       "    <tr>\n",
       "      <th>2</th>\n",
       "      <td>3</td>\n",
       "      <td>0</td>\n",
       "    </tr>\n",
       "    <tr>\n",
       "      <th>3</th>\n",
       "      <td>4</td>\n",
       "      <td>0</td>\n",
       "    </tr>\n",
       "    <tr>\n",
       "      <th>4</th>\n",
       "      <td>5</td>\n",
       "      <td>0</td>\n",
       "    </tr>\n",
       "    <tr>\n",
       "      <th>...</th>\n",
       "      <td>...</td>\n",
       "      <td>...</td>\n",
       "    </tr>\n",
       "    <tr>\n",
       "      <th>996</th>\n",
       "      <td>997</td>\n",
       "      <td>0</td>\n",
       "    </tr>\n",
       "    <tr>\n",
       "      <th>997</th>\n",
       "      <td>998</td>\n",
       "      <td>0</td>\n",
       "    </tr>\n",
       "    <tr>\n",
       "      <th>998</th>\n",
       "      <td>999</td>\n",
       "      <td>0</td>\n",
       "    </tr>\n",
       "    <tr>\n",
       "      <th>999</th>\n",
       "      <td>1000</td>\n",
       "      <td>0</td>\n",
       "    </tr>\n",
       "    <tr>\n",
       "      <th>1000</th>\n",
       "      <td>1001</td>\n",
       "      <td>0</td>\n",
       "    </tr>\n",
       "  </tbody>\n",
       "</table>\n",
       "<p>1001 rows × 2 columns</p>\n",
       "</div>"
      ],
      "text/plain": [
       "      OBS_ID  success\n",
       "0          1        0\n",
       "1          2        0\n",
       "2          3        0\n",
       "3          4        0\n",
       "4          5        0\n",
       "...      ...      ...\n",
       "996      997        0\n",
       "997      998        0\n",
       "998      999        0\n",
       "999     1000        0\n",
       "1000    1001        0\n",
       "\n",
       "[1001 rows x 2 columns]"
      ]
     },
     "execution_count": 27,
     "metadata": {},
     "output_type": "execute_result"
    }
   ],
   "source": [
    "pd.read_csv('data/processed/submission05')"
   ]
  },
  {
   "cell_type": "code",
   "execution_count": 60,
   "metadata": {},
   "outputs": [],
   "source": [
    "b = pd.read_csv('data/processed/submission03')"
   ]
  },
  {
   "cell_type": "code",
   "execution_count": 61,
   "metadata": {},
   "outputs": [
    {
     "ename": "AttributeError",
     "evalue": "'Series' object has no attribute 'value_caounts'",
     "output_type": "error",
     "traceback": [
      "\u001b[0;31m---------------------------------------------------------------------------\u001b[0m",
      "\u001b[0;31mAttributeError\u001b[0m                            Traceback (most recent call last)",
      "\u001b[0;32m<ipython-input-61-3a01b992f5e9>\u001b[0m in \u001b[0;36m<module>\u001b[0;34m\u001b[0m\n\u001b[0;32m----> 1\u001b[0;31m \u001b[0ma\u001b[0m\u001b[0;34m.\u001b[0m\u001b[0msuccess\u001b[0m\u001b[0;34m.\u001b[0m\u001b[0mvalue_caounts\u001b[0m\u001b[0;34m(\u001b[0m\u001b[0;34m)\u001b[0m\u001b[0;34m\u001b[0m\u001b[0;34m\u001b[0m\u001b[0m\n\u001b[0m",
      "\u001b[0;32m~/anaconda3/lib/python3.7/site-packages/pandas/core/generic.py\u001b[0m in \u001b[0;36m__getattr__\u001b[0;34m(self, name)\u001b[0m\n\u001b[1;32m   5177\u001b[0m             \u001b[0;32mif\u001b[0m \u001b[0mself\u001b[0m\u001b[0;34m.\u001b[0m\u001b[0m_info_axis\u001b[0m\u001b[0;34m.\u001b[0m\u001b[0m_can_hold_identifiers_and_holds_name\u001b[0m\u001b[0;34m(\u001b[0m\u001b[0mname\u001b[0m\u001b[0;34m)\u001b[0m\u001b[0;34m:\u001b[0m\u001b[0;34m\u001b[0m\u001b[0;34m\u001b[0m\u001b[0m\n\u001b[1;32m   5178\u001b[0m                 \u001b[0;32mreturn\u001b[0m \u001b[0mself\u001b[0m\u001b[0;34m[\u001b[0m\u001b[0mname\u001b[0m\u001b[0;34m]\u001b[0m\u001b[0;34m\u001b[0m\u001b[0;34m\u001b[0m\u001b[0m\n\u001b[0;32m-> 5179\u001b[0;31m             \u001b[0;32mreturn\u001b[0m \u001b[0mobject\u001b[0m\u001b[0;34m.\u001b[0m\u001b[0m__getattribute__\u001b[0m\u001b[0;34m(\u001b[0m\u001b[0mself\u001b[0m\u001b[0;34m,\u001b[0m \u001b[0mname\u001b[0m\u001b[0;34m)\u001b[0m\u001b[0;34m\u001b[0m\u001b[0;34m\u001b[0m\u001b[0m\n\u001b[0m\u001b[1;32m   5180\u001b[0m \u001b[0;34m\u001b[0m\u001b[0m\n\u001b[1;32m   5181\u001b[0m     \u001b[0;32mdef\u001b[0m \u001b[0m__setattr__\u001b[0m\u001b[0;34m(\u001b[0m\u001b[0mself\u001b[0m\u001b[0;34m,\u001b[0m \u001b[0mname\u001b[0m\u001b[0;34m,\u001b[0m \u001b[0mvalue\u001b[0m\u001b[0;34m)\u001b[0m\u001b[0;34m:\u001b[0m\u001b[0;34m\u001b[0m\u001b[0;34m\u001b[0m\u001b[0m\n",
      "\u001b[0;31mAttributeError\u001b[0m: 'Series' object has no attribute 'value_caounts'"
     ]
    }
   ],
   "source": [
    "a.success.value_caounts()"
   ]
  },
  {
   "cell_type": "code",
   "execution_count": 62,
   "metadata": {},
   "outputs": [
    {
     "data": {
      "text/plain": [
       "0    982\n",
       "1     19\n",
       "Name: success, dtype: int64"
      ]
     },
     "execution_count": 62,
     "metadata": {},
     "output_type": "execute_result"
    }
   ],
   "source": [
    "b.success.value_counts()"
   ]
  },
  {
   "cell_type": "code",
   "execution_count": null,
   "metadata": {},
   "outputs": [],
   "source": []
  }
 ],
 "metadata": {
  "kernelspec": {
   "display_name": "Python 3",
   "language": "python",
   "name": "python3"
  },
  "language_info": {
   "codemirror_mode": {
    "name": "ipython",
    "version": 3
   },
   "file_extension": ".py",
   "mimetype": "text/x-python",
   "name": "python",
   "nbconvert_exporter": "python",
   "pygments_lexer": "ipython3",
   "version": "3.7.3"
  }
 },
 "nbformat": 4,
 "nbformat_minor": 2
}
