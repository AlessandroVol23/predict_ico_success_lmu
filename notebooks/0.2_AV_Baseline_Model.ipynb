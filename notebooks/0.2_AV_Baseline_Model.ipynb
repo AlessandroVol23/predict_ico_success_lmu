{
 "cells": [
  {
   "cell_type": "code",
   "execution_count": 1,
   "metadata": {},
   "outputs": [
    {
     "name": "stdout",
     "output_type": "stream",
     "text": [
      "/home/sandro/.local/share/virtualenvs/data_science_for_business_lmu-1wV0OWeh/bin/python\r\n"
     ]
    }
   ],
   "source": [
    "!which python"
   ]
  },
  {
   "cell_type": "markdown",
   "metadata": {},
   "source": [
    "# Baseline\n",
    "\n",
    "In here I create a basic baseline model with just some features and less preprocessing."
   ]
  },
  {
   "cell_type": "code",
   "execution_count": 2,
   "metadata": {},
   "outputs": [],
   "source": [
    "def read_in_data(path_bitcoin_df = '../data/raw/1_training_data_sets/1_bitcoin_price_data_set.csv',\n",
    "                path_training_df = '../data/raw/1_training_data_sets/1_training_data.csv'):\n",
    "    df_bitcoin = pd.read_csv('../data/raw/1_training_data_sets/1_bitcoin_price_data_set.csv', \n",
    "                            encoding = \"ISO-8859-1\")\n",
    "    df = pd.read_csv('../data/raw/1_training_data_sets/1_training_data.csv',\n",
    "                             encoding = \"ISO-8859-1\")\n",
    "    \n",
    "    print(\"Shape of df_bitcoin: {}\".format(df_bitcoin.shape))\n",
    "    print(\"Shape of df: {}\".format(df.shape))\n",
    "    return df_bitcoin, df"
   ]
  },
  {
   "cell_type": "code",
   "execution_count": 3,
   "metadata": {},
   "outputs": [],
   "source": [
    "import pandas as pd\n",
    "import numpy as np \n",
    "from datetime import datetime"
   ]
  },
  {
   "cell_type": "code",
   "execution_count": 4,
   "metadata": {},
   "outputs": [
    {
     "name": "stdout",
     "output_type": "stream",
     "text": [
      "Shape of df_bitcoin: (2355, 1)\n",
      "Shape of df: (4757, 91)\n"
     ]
    }
   ],
   "source": [
    "df_bitcoin, df = read_in_data()"
   ]
  },
  {
   "cell_type": "markdown",
   "metadata": {},
   "source": [
    "Too less -> Pick features first"
   ]
  },
  {
   "cell_type": "markdown",
   "metadata": {},
   "source": [
    "## Pick basic features"
   ]
  },
  {
   "cell_type": "code",
   "execution_count": 5,
   "metadata": {},
   "outputs": [],
   "source": [
    "df_features = df[[\n",
    "    'categories_0',\n",
    "    'transaction_count',\n",
    "    'holder_count',\n",
    "    'timestamp',\n",
    "    'country_origin'\n",
    "]]"
   ]
  },
  {
   "cell_type": "code",
   "execution_count": 6,
   "metadata": {},
   "outputs": [
    {
     "data": {
      "text/html": [
       "<div>\n",
       "<style scoped>\n",
       "    .dataframe tbody tr th:only-of-type {\n",
       "        vertical-align: middle;\n",
       "    }\n",
       "\n",
       "    .dataframe tbody tr th {\n",
       "        vertical-align: top;\n",
       "    }\n",
       "\n",
       "    .dataframe thead th {\n",
       "        text-align: right;\n",
       "    }\n",
       "</style>\n",
       "<table border=\"1\" class=\"dataframe\">\n",
       "  <thead>\n",
       "    <tr style=\"text-align: right;\">\n",
       "      <th></th>\n",
       "      <th>categories_0</th>\n",
       "      <th>transaction_count</th>\n",
       "      <th>holder_count</th>\n",
       "      <th>timestamp</th>\n",
       "      <th>country_origin</th>\n",
       "    </tr>\n",
       "  </thead>\n",
       "  <tbody>\n",
       "    <tr>\n",
       "      <th>0</th>\n",
       "      <td>Masternodes</td>\n",
       "      <td>NaN</td>\n",
       "      <td>NaN</td>\n",
       "      <td>Sep-26-2019 15:59:01 PM</td>\n",
       "      <td>NaN</td>\n",
       "    </tr>\n",
       "    <tr>\n",
       "      <th>1</th>\n",
       "      <td>Protocol</td>\n",
       "      <td>975773.0</td>\n",
       "      <td>109840.0</td>\n",
       "      <td>Sep-26-2019 01:56:58 PM</td>\n",
       "      <td>US</td>\n",
       "    </tr>\n",
       "    <tr>\n",
       "      <th>2</th>\n",
       "      <td>Protocol</td>\n",
       "      <td>22730.0</td>\n",
       "      <td>13914.0</td>\n",
       "      <td>Sep-25-2019 11:58:48 PM</td>\n",
       "      <td>SI</td>\n",
       "    </tr>\n",
       "    <tr>\n",
       "      <th>3</th>\n",
       "      <td>NaN</td>\n",
       "      <td>125.0</td>\n",
       "      <td>51.0</td>\n",
       "      <td>Sep-26-2019 04:58:35 AM</td>\n",
       "      <td>NaN</td>\n",
       "    </tr>\n",
       "    <tr>\n",
       "      <th>4</th>\n",
       "      <td>NaN</td>\n",
       "      <td>16417.0</td>\n",
       "      <td>6250.0</td>\n",
       "      <td>Sep-25-2019 11:14:11 PM</td>\n",
       "      <td>NaN</td>\n",
       "    </tr>\n",
       "  </tbody>\n",
       "</table>\n",
       "</div>"
      ],
      "text/plain": [
       "  categories_0  transaction_count  holder_count                timestamp  \\\n",
       "0  Masternodes                NaN           NaN  Sep-26-2019 15:59:01 PM   \n",
       "1     Protocol           975773.0      109840.0  Sep-26-2019 01:56:58 PM   \n",
       "2     Protocol            22730.0       13914.0  Sep-25-2019 11:58:48 PM   \n",
       "3          NaN              125.0          51.0  Sep-26-2019 04:58:35 AM   \n",
       "4          NaN            16417.0        6250.0  Sep-25-2019 11:14:11 PM   \n",
       "\n",
       "  country_origin  \n",
       "0            NaN  \n",
       "1             US  \n",
       "2             SI  \n",
       "3            NaN  \n",
       "4            NaN  "
      ]
     },
     "execution_count": 6,
     "metadata": {},
     "output_type": "execute_result"
    }
   ],
   "source": [
    "df_features.head()"
   ]
  },
  {
   "cell_type": "code",
   "execution_count": 7,
   "metadata": {},
   "outputs": [
    {
     "name": "stdout",
     "output_type": "stream",
     "text": [
      "Column categories_0 has 2609 NA values\n",
      "Column transaction_count has 2233 NA values\n",
      "Column holder_count has 2237 NA values\n",
      "Column timestamp has 1908 NA values\n",
      "Column country_origin has 2826 NA values\n"
     ]
    }
   ],
   "source": [
    "for col in df_features.columns:\n",
    "    print(\"Column {} has {} NA values\".format(col, df_features[col].isna().sum()))"
   ]
  },
  {
   "cell_type": "code",
   "execution_count": 8,
   "metadata": {},
   "outputs": [],
   "source": [
    "# Categories NA: OHE \n",
    "# Transaction count avg\n",
    "# Holder count avg\n",
    "# Timestamp remove\n",
    "# Country origin OHE"
   ]
  },
  {
   "cell_type": "markdown",
   "metadata": {},
   "source": [
    "## Category 1"
   ]
  },
  {
   "cell_type": "code",
   "execution_count": 46,
   "metadata": {},
   "outputs": [],
   "source": [
    "def add_category_feature(df, header=None):\n",
    "    ohe_cat1 = pd.get_dummies(df.categories_0, prefix='categories_1', dummy_na=True)\n",
    "    ohe_cat1 = pd.concat([df['OBS_ID'], ohe_cat1], axis=1)\n",
    "    return ohe_cat1"
   ]
  },
  {
   "cell_type": "code",
   "execution_count": 52,
   "metadata": {},
   "outputs": [],
   "source": [
    "ohe_cat_test = add_category_feature(df_test)"
   ]
  },
  {
   "cell_type": "code",
   "execution_count": 54,
   "metadata": {},
   "outputs": [
    {
     "data": {
      "text/html": [
       "<div>\n",
       "<style scoped>\n",
       "    .dataframe tbody tr th:only-of-type {\n",
       "        vertical-align: middle;\n",
       "    }\n",
       "\n",
       "    .dataframe tbody tr th {\n",
       "        vertical-align: top;\n",
       "    }\n",
       "\n",
       "    .dataframe thead th {\n",
       "        text-align: right;\n",
       "    }\n",
       "</style>\n",
       "<table border=\"1\" class=\"dataframe\">\n",
       "  <thead>\n",
       "    <tr style=\"text-align: right;\">\n",
       "      <th></th>\n",
       "      <th>OBS_ID</th>\n",
       "      <th>categories_1_Artificial Intelligence</th>\n",
       "      <th>categories_1_Asset-backed Tokens</th>\n",
       "      <th>categories_1_Big Data</th>\n",
       "      <th>categories_1_Business Platform</th>\n",
       "      <th>categories_1_Business Services</th>\n",
       "      <th>categories_1_Charity</th>\n",
       "      <th>categories_1_Communication</th>\n",
       "      <th>categories_1_Cryptocurrency</th>\n",
       "      <th>categories_1_Decentralized Exchange</th>\n",
       "      <th>...</th>\n",
       "      <th>categories_1_Retail</th>\n",
       "      <th>categories_1_Smart Contract Platform</th>\n",
       "      <th>categories_1_Software</th>\n",
       "      <th>categories_1_Sports</th>\n",
       "      <th>categories_1_Stablecoins</th>\n",
       "      <th>categories_1_Storage</th>\n",
       "      <th>categories_1_Technology &amp; Science</th>\n",
       "      <th>categories_1_Tourism</th>\n",
       "      <th>categories_1_Virtual Reality</th>\n",
       "      <th>categories_1_nan</th>\n",
       "    </tr>\n",
       "  </thead>\n",
       "  <tbody>\n",
       "    <tr>\n",
       "      <th>0</th>\n",
       "      <td>1</td>\n",
       "      <td>0</td>\n",
       "      <td>0</td>\n",
       "      <td>0</td>\n",
       "      <td>0</td>\n",
       "      <td>0</td>\n",
       "      <td>0</td>\n",
       "      <td>0</td>\n",
       "      <td>0</td>\n",
       "      <td>0</td>\n",
       "      <td>...</td>\n",
       "      <td>0</td>\n",
       "      <td>0</td>\n",
       "      <td>0</td>\n",
       "      <td>0</td>\n",
       "      <td>0</td>\n",
       "      <td>0</td>\n",
       "      <td>0</td>\n",
       "      <td>0</td>\n",
       "      <td>0</td>\n",
       "      <td>1</td>\n",
       "    </tr>\n",
       "    <tr>\n",
       "      <th>1</th>\n",
       "      <td>2</td>\n",
       "      <td>0</td>\n",
       "      <td>0</td>\n",
       "      <td>0</td>\n",
       "      <td>0</td>\n",
       "      <td>0</td>\n",
       "      <td>0</td>\n",
       "      <td>0</td>\n",
       "      <td>0</td>\n",
       "      <td>0</td>\n",
       "      <td>...</td>\n",
       "      <td>0</td>\n",
       "      <td>0</td>\n",
       "      <td>0</td>\n",
       "      <td>0</td>\n",
       "      <td>0</td>\n",
       "      <td>0</td>\n",
       "      <td>0</td>\n",
       "      <td>0</td>\n",
       "      <td>0</td>\n",
       "      <td>1</td>\n",
       "    </tr>\n",
       "    <tr>\n",
       "      <th>2</th>\n",
       "      <td>3</td>\n",
       "      <td>0</td>\n",
       "      <td>0</td>\n",
       "      <td>0</td>\n",
       "      <td>0</td>\n",
       "      <td>0</td>\n",
       "      <td>0</td>\n",
       "      <td>0</td>\n",
       "      <td>0</td>\n",
       "      <td>0</td>\n",
       "      <td>...</td>\n",
       "      <td>0</td>\n",
       "      <td>0</td>\n",
       "      <td>0</td>\n",
       "      <td>0</td>\n",
       "      <td>0</td>\n",
       "      <td>0</td>\n",
       "      <td>0</td>\n",
       "      <td>0</td>\n",
       "      <td>0</td>\n",
       "      <td>1</td>\n",
       "    </tr>\n",
       "    <tr>\n",
       "      <th>3</th>\n",
       "      <td>4</td>\n",
       "      <td>0</td>\n",
       "      <td>0</td>\n",
       "      <td>0</td>\n",
       "      <td>0</td>\n",
       "      <td>0</td>\n",
       "      <td>0</td>\n",
       "      <td>0</td>\n",
       "      <td>0</td>\n",
       "      <td>0</td>\n",
       "      <td>...</td>\n",
       "      <td>0</td>\n",
       "      <td>0</td>\n",
       "      <td>0</td>\n",
       "      <td>0</td>\n",
       "      <td>0</td>\n",
       "      <td>0</td>\n",
       "      <td>0</td>\n",
       "      <td>0</td>\n",
       "      <td>0</td>\n",
       "      <td>1</td>\n",
       "    </tr>\n",
       "    <tr>\n",
       "      <th>4</th>\n",
       "      <td>5</td>\n",
       "      <td>0</td>\n",
       "      <td>0</td>\n",
       "      <td>0</td>\n",
       "      <td>0</td>\n",
       "      <td>0</td>\n",
       "      <td>0</td>\n",
       "      <td>0</td>\n",
       "      <td>0</td>\n",
       "      <td>0</td>\n",
       "      <td>...</td>\n",
       "      <td>0</td>\n",
       "      <td>0</td>\n",
       "      <td>0</td>\n",
       "      <td>0</td>\n",
       "      <td>0</td>\n",
       "      <td>0</td>\n",
       "      <td>0</td>\n",
       "      <td>0</td>\n",
       "      <td>0</td>\n",
       "      <td>1</td>\n",
       "    </tr>\n",
       "    <tr>\n",
       "      <th>...</th>\n",
       "      <td>...</td>\n",
       "      <td>...</td>\n",
       "      <td>...</td>\n",
       "      <td>...</td>\n",
       "      <td>...</td>\n",
       "      <td>...</td>\n",
       "      <td>...</td>\n",
       "      <td>...</td>\n",
       "      <td>...</td>\n",
       "      <td>...</td>\n",
       "      <td>...</td>\n",
       "      <td>...</td>\n",
       "      <td>...</td>\n",
       "      <td>...</td>\n",
       "      <td>...</td>\n",
       "      <td>...</td>\n",
       "      <td>...</td>\n",
       "      <td>...</td>\n",
       "      <td>...</td>\n",
       "      <td>...</td>\n",
       "      <td>...</td>\n",
       "    </tr>\n",
       "    <tr>\n",
       "      <th>996</th>\n",
       "      <td>997</td>\n",
       "      <td>0</td>\n",
       "      <td>0</td>\n",
       "      <td>0</td>\n",
       "      <td>0</td>\n",
       "      <td>0</td>\n",
       "      <td>0</td>\n",
       "      <td>0</td>\n",
       "      <td>0</td>\n",
       "      <td>0</td>\n",
       "      <td>...</td>\n",
       "      <td>0</td>\n",
       "      <td>0</td>\n",
       "      <td>0</td>\n",
       "      <td>0</td>\n",
       "      <td>0</td>\n",
       "      <td>0</td>\n",
       "      <td>0</td>\n",
       "      <td>0</td>\n",
       "      <td>0</td>\n",
       "      <td>0</td>\n",
       "    </tr>\n",
       "    <tr>\n",
       "      <th>997</th>\n",
       "      <td>998</td>\n",
       "      <td>0</td>\n",
       "      <td>0</td>\n",
       "      <td>0</td>\n",
       "      <td>0</td>\n",
       "      <td>0</td>\n",
       "      <td>0</td>\n",
       "      <td>0</td>\n",
       "      <td>0</td>\n",
       "      <td>0</td>\n",
       "      <td>...</td>\n",
       "      <td>0</td>\n",
       "      <td>0</td>\n",
       "      <td>0</td>\n",
       "      <td>0</td>\n",
       "      <td>0</td>\n",
       "      <td>0</td>\n",
       "      <td>0</td>\n",
       "      <td>0</td>\n",
       "      <td>0</td>\n",
       "      <td>1</td>\n",
       "    </tr>\n",
       "    <tr>\n",
       "      <th>998</th>\n",
       "      <td>999</td>\n",
       "      <td>0</td>\n",
       "      <td>0</td>\n",
       "      <td>0</td>\n",
       "      <td>0</td>\n",
       "      <td>0</td>\n",
       "      <td>0</td>\n",
       "      <td>0</td>\n",
       "      <td>0</td>\n",
       "      <td>0</td>\n",
       "      <td>...</td>\n",
       "      <td>0</td>\n",
       "      <td>0</td>\n",
       "      <td>0</td>\n",
       "      <td>0</td>\n",
       "      <td>0</td>\n",
       "      <td>0</td>\n",
       "      <td>0</td>\n",
       "      <td>0</td>\n",
       "      <td>0</td>\n",
       "      <td>1</td>\n",
       "    </tr>\n",
       "    <tr>\n",
       "      <th>999</th>\n",
       "      <td>1000</td>\n",
       "      <td>0</td>\n",
       "      <td>0</td>\n",
       "      <td>0</td>\n",
       "      <td>0</td>\n",
       "      <td>0</td>\n",
       "      <td>0</td>\n",
       "      <td>0</td>\n",
       "      <td>0</td>\n",
       "      <td>0</td>\n",
       "      <td>...</td>\n",
       "      <td>0</td>\n",
       "      <td>0</td>\n",
       "      <td>0</td>\n",
       "      <td>0</td>\n",
       "      <td>0</td>\n",
       "      <td>0</td>\n",
       "      <td>0</td>\n",
       "      <td>0</td>\n",
       "      <td>0</td>\n",
       "      <td>1</td>\n",
       "    </tr>\n",
       "    <tr>\n",
       "      <th>1000</th>\n",
       "      <td>1001</td>\n",
       "      <td>0</td>\n",
       "      <td>0</td>\n",
       "      <td>0</td>\n",
       "      <td>0</td>\n",
       "      <td>0</td>\n",
       "      <td>0</td>\n",
       "      <td>0</td>\n",
       "      <td>1</td>\n",
       "      <td>0</td>\n",
       "      <td>...</td>\n",
       "      <td>0</td>\n",
       "      <td>0</td>\n",
       "      <td>0</td>\n",
       "      <td>0</td>\n",
       "      <td>0</td>\n",
       "      <td>0</td>\n",
       "      <td>0</td>\n",
       "      <td>0</td>\n",
       "      <td>0</td>\n",
       "      <td>0</td>\n",
       "    </tr>\n",
       "  </tbody>\n",
       "</table>\n",
       "<p>1001 rows × 38 columns</p>\n",
       "</div>"
      ],
      "text/plain": [
       "      OBS_ID  categories_1_Artificial Intelligence  \\\n",
       "0          1                                     0   \n",
       "1          2                                     0   \n",
       "2          3                                     0   \n",
       "3          4                                     0   \n",
       "4          5                                     0   \n",
       "...      ...                                   ...   \n",
       "996      997                                     0   \n",
       "997      998                                     0   \n",
       "998      999                                     0   \n",
       "999     1000                                     0   \n",
       "1000    1001                                     0   \n",
       "\n",
       "      categories_1_Asset-backed Tokens  categories_1_Big Data  \\\n",
       "0                                    0                      0   \n",
       "1                                    0                      0   \n",
       "2                                    0                      0   \n",
       "3                                    0                      0   \n",
       "4                                    0                      0   \n",
       "...                                ...                    ...   \n",
       "996                                  0                      0   \n",
       "997                                  0                      0   \n",
       "998                                  0                      0   \n",
       "999                                  0                      0   \n",
       "1000                                 0                      0   \n",
       "\n",
       "      categories_1_Business Platform  categories_1_Business Services  \\\n",
       "0                                  0                               0   \n",
       "1                                  0                               0   \n",
       "2                                  0                               0   \n",
       "3                                  0                               0   \n",
       "4                                  0                               0   \n",
       "...                              ...                             ...   \n",
       "996                                0                               0   \n",
       "997                                0                               0   \n",
       "998                                0                               0   \n",
       "999                                0                               0   \n",
       "1000                               0                               0   \n",
       "\n",
       "      categories_1_Charity  categories_1_Communication  \\\n",
       "0                        0                           0   \n",
       "1                        0                           0   \n",
       "2                        0                           0   \n",
       "3                        0                           0   \n",
       "4                        0                           0   \n",
       "...                    ...                         ...   \n",
       "996                      0                           0   \n",
       "997                      0                           0   \n",
       "998                      0                           0   \n",
       "999                      0                           0   \n",
       "1000                     0                           0   \n",
       "\n",
       "      categories_1_Cryptocurrency  categories_1_Decentralized Exchange  ...  \\\n",
       "0                               0                                    0  ...   \n",
       "1                               0                                    0  ...   \n",
       "2                               0                                    0  ...   \n",
       "3                               0                                    0  ...   \n",
       "4                               0                                    0  ...   \n",
       "...                           ...                                  ...  ...   \n",
       "996                             0                                    0  ...   \n",
       "997                             0                                    0  ...   \n",
       "998                             0                                    0  ...   \n",
       "999                             0                                    0  ...   \n",
       "1000                            1                                    0  ...   \n",
       "\n",
       "      categories_1_Retail  categories_1_Smart Contract Platform  \\\n",
       "0                       0                                     0   \n",
       "1                       0                                     0   \n",
       "2                       0                                     0   \n",
       "3                       0                                     0   \n",
       "4                       0                                     0   \n",
       "...                   ...                                   ...   \n",
       "996                     0                                     0   \n",
       "997                     0                                     0   \n",
       "998                     0                                     0   \n",
       "999                     0                                     0   \n",
       "1000                    0                                     0   \n",
       "\n",
       "      categories_1_Software  categories_1_Sports  categories_1_Stablecoins  \\\n",
       "0                         0                    0                         0   \n",
       "1                         0                    0                         0   \n",
       "2                         0                    0                         0   \n",
       "3                         0                    0                         0   \n",
       "4                         0                    0                         0   \n",
       "...                     ...                  ...                       ...   \n",
       "996                       0                    0                         0   \n",
       "997                       0                    0                         0   \n",
       "998                       0                    0                         0   \n",
       "999                       0                    0                         0   \n",
       "1000                      0                    0                         0   \n",
       "\n",
       "      categories_1_Storage  categories_1_Technology & Science  \\\n",
       "0                        0                                  0   \n",
       "1                        0                                  0   \n",
       "2                        0                                  0   \n",
       "3                        0                                  0   \n",
       "4                        0                                  0   \n",
       "...                    ...                                ...   \n",
       "996                      0                                  0   \n",
       "997                      0                                  0   \n",
       "998                      0                                  0   \n",
       "999                      0                                  0   \n",
       "1000                     0                                  0   \n",
       "\n",
       "      categories_1_Tourism  categories_1_Virtual Reality  categories_1_nan  \n",
       "0                        0                             0                 1  \n",
       "1                        0                             0                 1  \n",
       "2                        0                             0                 1  \n",
       "3                        0                             0                 1  \n",
       "4                        0                             0                 1  \n",
       "...                    ...                           ...               ...  \n",
       "996                      0                             0                 0  \n",
       "997                      0                             0                 1  \n",
       "998                      0                             0                 1  \n",
       "999                      0                             0                 1  \n",
       "1000                     0                             0                 0  \n",
       "\n",
       "[1001 rows x 38 columns]"
      ]
     },
     "execution_count": 54,
     "metadata": {},
     "output_type": "execute_result"
    }
   ],
   "source": [
    "ohe_cat_test"
   ]
  },
  {
   "cell_type": "code",
   "execution_count": 9,
   "metadata": {
    "scrolled": true
   },
   "outputs": [],
   "source": [
    "# End df for model\n",
    "df_X = df['OBS_ID'].copy()"
   ]
  },
  {
   "cell_type": "code",
   "execution_count": 10,
   "metadata": {},
   "outputs": [],
   "source": [
    "ohe_cat1 = pd.get_dummies(df.categories_0, prefix='categories_1', dummy_na=True)\n",
    "ohe_cat1 = pd.concat([df['OBS_ID'], ohe_cat1], axis=1) "
   ]
  },
  {
   "cell_type": "code",
   "execution_count": 43,
   "metadata": {},
   "outputs": [
    {
     "data": {
      "text/plain": [
       "0          Masternodes\n",
       "1             Protocol\n",
       "2             Protocol\n",
       "3                  NaN\n",
       "4                  NaN\n",
       "             ...      \n",
       "4749               NaN\n",
       "4750    Cryptocurrency\n",
       "4751    Cryptocurrency\n",
       "4752               NaN\n",
       "4755               NaN\n",
       "Name: categories_0, Length: 2844, dtype: object"
      ]
     },
     "execution_count": 43,
     "metadata": {},
     "output_type": "execute_result"
    }
   ],
   "source": [
    "df.categories_0"
   ]
  },
  {
   "cell_type": "code",
   "execution_count": 11,
   "metadata": {},
   "outputs": [
    {
     "data": {
      "text/html": [
       "<div>\n",
       "<style scoped>\n",
       "    .dataframe tbody tr th:only-of-type {\n",
       "        vertical-align: middle;\n",
       "    }\n",
       "\n",
       "    .dataframe tbody tr th {\n",
       "        vertical-align: top;\n",
       "    }\n",
       "\n",
       "    .dataframe thead th {\n",
       "        text-align: right;\n",
       "    }\n",
       "</style>\n",
       "<table border=\"1\" class=\"dataframe\">\n",
       "  <thead>\n",
       "    <tr style=\"text-align: right;\">\n",
       "      <th></th>\n",
       "      <th>OBS_ID</th>\n",
       "      <th>categories_1_Artificial Intelligence</th>\n",
       "      <th>categories_1_Asset-backed Tokens</th>\n",
       "      <th>categories_1_Augmented Reality</th>\n",
       "      <th>categories_1_Big Data</th>\n",
       "      <th>categories_1_Business Platform</th>\n",
       "      <th>categories_1_Business Services</th>\n",
       "      <th>categories_1_Charity</th>\n",
       "      <th>categories_1_Communication</th>\n",
       "      <th>categories_1_Cryptocurrency</th>\n",
       "      <th>...</th>\n",
       "      <th>categories_1_Retail</th>\n",
       "      <th>categories_1_Smart Contract Platform</th>\n",
       "      <th>categories_1_Software</th>\n",
       "      <th>categories_1_Sports</th>\n",
       "      <th>categories_1_Stablecoins</th>\n",
       "      <th>categories_1_Storage</th>\n",
       "      <th>categories_1_Technology &amp; Science</th>\n",
       "      <th>categories_1_Tourism</th>\n",
       "      <th>categories_1_Virtual Reality</th>\n",
       "      <th>categories_1_nan</th>\n",
       "    </tr>\n",
       "  </thead>\n",
       "  <tbody>\n",
       "    <tr>\n",
       "      <th>0</th>\n",
       "      <td>235691</td>\n",
       "      <td>0</td>\n",
       "      <td>0</td>\n",
       "      <td>0</td>\n",
       "      <td>0</td>\n",
       "      <td>0</td>\n",
       "      <td>0</td>\n",
       "      <td>0</td>\n",
       "      <td>0</td>\n",
       "      <td>0</td>\n",
       "      <td>...</td>\n",
       "      <td>0</td>\n",
       "      <td>0</td>\n",
       "      <td>0</td>\n",
       "      <td>0</td>\n",
       "      <td>0</td>\n",
       "      <td>0</td>\n",
       "      <td>0</td>\n",
       "      <td>0</td>\n",
       "      <td>0</td>\n",
       "      <td>0</td>\n",
       "    </tr>\n",
       "    <tr>\n",
       "      <th>1</th>\n",
       "      <td>235692</td>\n",
       "      <td>0</td>\n",
       "      <td>0</td>\n",
       "      <td>0</td>\n",
       "      <td>0</td>\n",
       "      <td>0</td>\n",
       "      <td>0</td>\n",
       "      <td>0</td>\n",
       "      <td>0</td>\n",
       "      <td>0</td>\n",
       "      <td>...</td>\n",
       "      <td>0</td>\n",
       "      <td>0</td>\n",
       "      <td>0</td>\n",
       "      <td>0</td>\n",
       "      <td>0</td>\n",
       "      <td>0</td>\n",
       "      <td>0</td>\n",
       "      <td>0</td>\n",
       "      <td>0</td>\n",
       "      <td>0</td>\n",
       "    </tr>\n",
       "    <tr>\n",
       "      <th>2</th>\n",
       "      <td>235693</td>\n",
       "      <td>0</td>\n",
       "      <td>0</td>\n",
       "      <td>0</td>\n",
       "      <td>0</td>\n",
       "      <td>0</td>\n",
       "      <td>0</td>\n",
       "      <td>0</td>\n",
       "      <td>0</td>\n",
       "      <td>0</td>\n",
       "      <td>...</td>\n",
       "      <td>0</td>\n",
       "      <td>0</td>\n",
       "      <td>0</td>\n",
       "      <td>0</td>\n",
       "      <td>0</td>\n",
       "      <td>0</td>\n",
       "      <td>0</td>\n",
       "      <td>0</td>\n",
       "      <td>0</td>\n",
       "      <td>0</td>\n",
       "    </tr>\n",
       "    <tr>\n",
       "      <th>3</th>\n",
       "      <td>235694</td>\n",
       "      <td>0</td>\n",
       "      <td>0</td>\n",
       "      <td>0</td>\n",
       "      <td>0</td>\n",
       "      <td>0</td>\n",
       "      <td>0</td>\n",
       "      <td>0</td>\n",
       "      <td>0</td>\n",
       "      <td>0</td>\n",
       "      <td>...</td>\n",
       "      <td>0</td>\n",
       "      <td>0</td>\n",
       "      <td>0</td>\n",
       "      <td>0</td>\n",
       "      <td>0</td>\n",
       "      <td>0</td>\n",
       "      <td>0</td>\n",
       "      <td>0</td>\n",
       "      <td>0</td>\n",
       "      <td>1</td>\n",
       "    </tr>\n",
       "    <tr>\n",
       "      <th>4</th>\n",
       "      <td>235695</td>\n",
       "      <td>0</td>\n",
       "      <td>0</td>\n",
       "      <td>0</td>\n",
       "      <td>0</td>\n",
       "      <td>0</td>\n",
       "      <td>0</td>\n",
       "      <td>0</td>\n",
       "      <td>0</td>\n",
       "      <td>0</td>\n",
       "      <td>...</td>\n",
       "      <td>0</td>\n",
       "      <td>0</td>\n",
       "      <td>0</td>\n",
       "      <td>0</td>\n",
       "      <td>0</td>\n",
       "      <td>0</td>\n",
       "      <td>0</td>\n",
       "      <td>0</td>\n",
       "      <td>0</td>\n",
       "      <td>1</td>\n",
       "    </tr>\n",
       "  </tbody>\n",
       "</table>\n",
       "<p>5 rows × 41 columns</p>\n",
       "</div>"
      ],
      "text/plain": [
       "   OBS_ID  categories_1_Artificial Intelligence  \\\n",
       "0  235691                                     0   \n",
       "1  235692                                     0   \n",
       "2  235693                                     0   \n",
       "3  235694                                     0   \n",
       "4  235695                                     0   \n",
       "\n",
       "   categories_1_Asset-backed Tokens  categories_1_Augmented Reality  \\\n",
       "0                                 0                               0   \n",
       "1                                 0                               0   \n",
       "2                                 0                               0   \n",
       "3                                 0                               0   \n",
       "4                                 0                               0   \n",
       "\n",
       "   categories_1_Big Data  categories_1_Business Platform  \\\n",
       "0                      0                               0   \n",
       "1                      0                               0   \n",
       "2                      0                               0   \n",
       "3                      0                               0   \n",
       "4                      0                               0   \n",
       "\n",
       "   categories_1_Business Services  categories_1_Charity  \\\n",
       "0                               0                     0   \n",
       "1                               0                     0   \n",
       "2                               0                     0   \n",
       "3                               0                     0   \n",
       "4                               0                     0   \n",
       "\n",
       "   categories_1_Communication  categories_1_Cryptocurrency  ...  \\\n",
       "0                           0                            0  ...   \n",
       "1                           0                            0  ...   \n",
       "2                           0                            0  ...   \n",
       "3                           0                            0  ...   \n",
       "4                           0                            0  ...   \n",
       "\n",
       "   categories_1_Retail  categories_1_Smart Contract Platform  \\\n",
       "0                    0                                     0   \n",
       "1                    0                                     0   \n",
       "2                    0                                     0   \n",
       "3                    0                                     0   \n",
       "4                    0                                     0   \n",
       "\n",
       "   categories_1_Software  categories_1_Sports  categories_1_Stablecoins  \\\n",
       "0                      0                    0                         0   \n",
       "1                      0                    0                         0   \n",
       "2                      0                    0                         0   \n",
       "3                      0                    0                         0   \n",
       "4                      0                    0                         0   \n",
       "\n",
       "   categories_1_Storage  categories_1_Technology & Science  \\\n",
       "0                     0                                  0   \n",
       "1                     0                                  0   \n",
       "2                     0                                  0   \n",
       "3                     0                                  0   \n",
       "4                     0                                  0   \n",
       "\n",
       "   categories_1_Tourism  categories_1_Virtual Reality  categories_1_nan  \n",
       "0                     0                             0                 0  \n",
       "1                     0                             0                 0  \n",
       "2                     0                             0                 0  \n",
       "3                     0                             0                 1  \n",
       "4                     0                             0                 1  \n",
       "\n",
       "[5 rows x 41 columns]"
      ]
     },
     "execution_count": 11,
     "metadata": {},
     "output_type": "execute_result"
    }
   ],
   "source": [
    "ohe_cat1.head()"
   ]
  },
  {
   "cell_type": "code",
   "execution_count": 12,
   "metadata": {},
   "outputs": [],
   "source": [
    "df_X = pd.merge(df_X, ohe_cat1)"
   ]
  },
  {
   "cell_type": "code",
   "execution_count": 13,
   "metadata": {},
   "outputs": [
    {
     "data": {
      "text/plain": [
       "(4757, 41)"
      ]
     },
     "execution_count": 13,
     "metadata": {},
     "output_type": "execute_result"
    }
   ],
   "source": [
    "df_X.shape"
   ]
  },
  {
   "cell_type": "markdown",
   "metadata": {},
   "source": [
    "## Transaction Count"
   ]
  },
  {
   "cell_type": "code",
   "execution_count": 14,
   "metadata": {},
   "outputs": [],
   "source": [
    "df.transaction_count.fillna(df.transaction_count.mean(), inplace=True)"
   ]
  },
  {
   "cell_type": "code",
   "execution_count": 15,
   "metadata": {},
   "outputs": [],
   "source": [
    "df_X = pd.merge(df_X, df[['OBS_ID', 'transaction_count']])"
   ]
  },
  {
   "cell_type": "code",
   "execution_count": 16,
   "metadata": {},
   "outputs": [
    {
     "data": {
      "text/plain": [
       "(4757, 42)"
      ]
     },
     "execution_count": 16,
     "metadata": {},
     "output_type": "execute_result"
    }
   ],
   "source": [
    "df_X.shape"
   ]
  },
  {
   "cell_type": "markdown",
   "metadata": {},
   "source": [
    "## Holder Count"
   ]
  },
  {
   "cell_type": "code",
   "execution_count": 17,
   "metadata": {},
   "outputs": [],
   "source": [
    "df.holder_count.fillna(df.holder_count.mean(), inplace=True)"
   ]
  },
  {
   "cell_type": "code",
   "execution_count": 18,
   "metadata": {},
   "outputs": [],
   "source": [
    "df_X = pd.merge(df_X, df[['OBS_ID', 'holder_count']])"
   ]
  },
  {
   "cell_type": "code",
   "execution_count": 19,
   "metadata": {},
   "outputs": [
    {
     "data": {
      "text/plain": [
       "(4757, 43)"
      ]
     },
     "execution_count": 19,
     "metadata": {},
     "output_type": "execute_result"
    }
   ],
   "source": [
    "df_X.shape"
   ]
  },
  {
   "cell_type": "markdown",
   "metadata": {},
   "source": [
    "## Timestamp"
   ]
  },
  {
   "cell_type": "code",
   "execution_count": 20,
   "metadata": {},
   "outputs": [],
   "source": [
    "df = df[~df.timestamp.isna()]"
   ]
  },
  {
   "cell_type": "code",
   "execution_count": 21,
   "metadata": {},
   "outputs": [],
   "source": [
    "df['timestamp']=df.timestamp.astype(str)"
   ]
  },
  {
   "cell_type": "code",
   "execution_count": 22,
   "metadata": {},
   "outputs": [
    {
     "data": {
      "text/plain": [
       "(2849, 91)"
      ]
     },
     "execution_count": 22,
     "metadata": {},
     "output_type": "execute_result"
    }
   ],
   "source": [
    "df.shape"
   ]
  },
  {
   "cell_type": "code",
   "execution_count": 23,
   "metadata": {},
   "outputs": [],
   "source": [
    "df = df.assign(timestamp_datetime = df.apply(lambda x:\n",
    "                                            datetime.strptime(str(x.timestamp), '%b-%d-%Y %H:%M:%S %p'),\n",
    "                                            axis=1))"
   ]
  },
  {
   "cell_type": "code",
   "execution_count": 24,
   "metadata": {},
   "outputs": [],
   "source": [
    "df = df.assign(hour = df.apply(lambda x: x.timestamp_datetime.hour, axis=1))\n",
    "df = df.assign(minute = df.apply(lambda x: x.timestamp_datetime.minute, axis=1))\n",
    "df = df.assign(second = df.apply(lambda x: x.timestamp_datetime.second, axis=1))\n",
    "df = df.assign(month = df.apply(lambda x: x.timestamp_datetime.month, axis=1))\n",
    "df = df.assign(day = df.apply(lambda x: x.timestamp_datetime.day, axis=1))\n",
    "df = df.assign(year = df.apply(lambda x: x.timestamp_datetime.year, axis=1))\n",
    "\n",
    "df = df[df.year != 1970]\n",
    "df = df[df.year != 2017]"
   ]
  },
  {
   "cell_type": "code",
   "execution_count": 25,
   "metadata": {},
   "outputs": [],
   "source": [
    "df_X = pd.merge(df_X, df[['OBS_ID', 'hour', 'minute', 'second', 'month', 'day', 'year']])"
   ]
  },
  {
   "cell_type": "code",
   "execution_count": 26,
   "metadata": {},
   "outputs": [
    {
     "data": {
      "text/plain": [
       "(2844, 49)"
      ]
     },
     "execution_count": 26,
     "metadata": {},
     "output_type": "execute_result"
    }
   ],
   "source": [
    "df_X.shape"
   ]
  },
  {
   "cell_type": "markdown",
   "metadata": {},
   "source": [
    "## Country origin"
   ]
  },
  {
   "cell_type": "code",
   "execution_count": 27,
   "metadata": {},
   "outputs": [],
   "source": [
    "ohe_country = pd.get_dummies(df.country_origin, prefix='country', dummy_na=True)\n",
    "ohe_country = pd.concat([df['OBS_ID'], ohe_country], axis=1) "
   ]
  },
  {
   "cell_type": "code",
   "execution_count": 28,
   "metadata": {},
   "outputs": [],
   "source": [
    "df_X = pd.merge(df_X, ohe_country)"
   ]
  },
  {
   "cell_type": "code",
   "execution_count": 29,
   "metadata": {
    "scrolled": true
   },
   "outputs": [
    {
     "data": {
      "text/plain": [
       "(2844, 145)"
      ]
     },
     "execution_count": 29,
     "metadata": {},
     "output_type": "execute_result"
    }
   ],
   "source": [
    "df_X.shape"
   ]
  },
  {
   "cell_type": "code",
   "execution_count": 30,
   "metadata": {},
   "outputs": [],
   "source": [
    "df_X = pd.merge(df_X, df[['OBS_ID', 'success']])"
   ]
  },
  {
   "cell_type": "code",
   "execution_count": 31,
   "metadata": {},
   "outputs": [],
   "source": [
    "df_X.to_csv('../data/processed/baselince.csv', index=None)"
   ]
  },
  {
   "cell_type": "code",
   "execution_count": 32,
   "metadata": {
    "scrolled": true
   },
   "outputs": [
    {
     "data": {
      "text/plain": [
       "(2844, 146)"
      ]
     },
     "execution_count": 32,
     "metadata": {},
     "output_type": "execute_result"
    }
   ],
   "source": [
    "df_X.shape"
   ]
  },
  {
   "cell_type": "markdown",
   "metadata": {},
   "source": [
    "# Training"
   ]
  },
  {
   "cell_type": "code",
   "execution_count": 33,
   "metadata": {},
   "outputs": [],
   "source": [
    "from sklearn.ensemble import RandomForestClassifier"
   ]
  },
  {
   "cell_type": "code",
   "execution_count": 34,
   "metadata": {},
   "outputs": [],
   "source": [
    "X = df_X.iloc[:, :-1]"
   ]
  },
  {
   "cell_type": "code",
   "execution_count": 35,
   "metadata": {},
   "outputs": [],
   "source": [
    "y = df_X.iloc[:, -1]"
   ]
  },
  {
   "cell_type": "code",
   "execution_count": 36,
   "metadata": {},
   "outputs": [],
   "source": [
    "from sklearn.model_selection import train_test_split"
   ]
  },
  {
   "cell_type": "code",
   "execution_count": 37,
   "metadata": {},
   "outputs": [],
   "source": [
    "clf = RandomForestClassifier(n_estimators=500)"
   ]
  },
  {
   "cell_type": "code",
   "execution_count": 38,
   "metadata": {},
   "outputs": [],
   "source": [
    "X_train, X_test, y_train, y_test = train_test_split(X, y, test_size=0.2, random_state=42)"
   ]
  },
  {
   "cell_type": "code",
   "execution_count": 39,
   "metadata": {},
   "outputs": [
    {
     "data": {
      "text/plain": [
       "RandomForestClassifier(bootstrap=True, class_weight=None, criterion='gini',\n",
       "                       max_depth=None, max_features='auto', max_leaf_nodes=None,\n",
       "                       min_impurity_decrease=0.0, min_impurity_split=None,\n",
       "                       min_samples_leaf=1, min_samples_split=2,\n",
       "                       min_weight_fraction_leaf=0.0, n_estimators=500,\n",
       "                       n_jobs=None, oob_score=False, random_state=None,\n",
       "                       verbose=0, warm_start=False)"
      ]
     },
     "execution_count": 39,
     "metadata": {},
     "output_type": "execute_result"
    }
   ],
   "source": [
    "clf.fit(X_train, y_train)"
   ]
  },
  {
   "cell_type": "code",
   "execution_count": 40,
   "metadata": {},
   "outputs": [],
   "source": [
    "from sklearn.metrics import matthews_corrcoef"
   ]
  },
  {
   "cell_type": "code",
   "execution_count": 41,
   "metadata": {},
   "outputs": [
    {
     "data": {
      "text/plain": [
       "0.11474387998748653"
      ]
     },
     "execution_count": 41,
     "metadata": {},
     "output_type": "execute_result"
    }
   ],
   "source": [
    "matthews_corrcoef(y_test, clf.predict(X_test))"
   ]
  },
  {
   "cell_type": "code",
   "execution_count": 47,
   "metadata": {},
   "outputs": [],
   "source": [
    "df_test = pd.read_csv('../data/raw/2_classification_data.csv', encoding = \"ISO-8859-1\")"
   ]
  },
  {
   "cell_type": "code",
   "execution_count": 45,
   "metadata": {},
   "outputs": [
    {
     "data": {
      "text/plain": [
       "Index(['OBS_ID', 'categories_1_Artificial Intelligence',\n",
       "       'categories_1_Asset-backed Tokens', 'categories_1_Augmented Reality',\n",
       "       'categories_1_Big Data', 'categories_1_Business Platform',\n",
       "       'categories_1_Business Services', 'categories_1_Charity',\n",
       "       'categories_1_Communication', 'categories_1_Cryptocurrency',\n",
       "       ...\n",
       "       'country_VC', 'country_VE', 'country_VG', 'country_VN', 'country_VU',\n",
       "       'country_YD', 'country_ZA', 'country_ZZ', 'country_nan', 'success'],\n",
       "      dtype='object', length=146)"
      ]
     },
     "execution_count": 45,
     "metadata": {},
     "output_type": "execute_result"
    }
   ],
   "source": [
    "df_X.columns"
   ]
  }
 ],
 "metadata": {
  "kernelspec": {
   "display_name": "Python 3",
   "language": "python",
   "name": "python3"
  },
  "language_info": {
   "codemirror_mode": {
    "name": "ipython",
    "version": 3
   },
   "file_extension": ".py",
   "mimetype": "text/x-python",
   "name": "python",
   "nbconvert_exporter": "python",
   "pygments_lexer": "ipython3",
   "version": "3.7.3"
  }
 },
 "nbformat": 4,
 "nbformat_minor": 2
}
