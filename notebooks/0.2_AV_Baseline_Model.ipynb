{
 "cells": [
  {
   "cell_type": "markdown",
   "metadata": {},
   "source": [
    "# Baseline\n",
    "\n",
    "In here I create a basic baseline model with just some features and less preprocessing."
   ]
  },
  {
   "cell_type": "code",
   "execution_count": 1,
   "metadata": {},
   "outputs": [],
   "source": [
    "def read_in_data(path_bitcoin_df = '../data/raw/1_training_data_sets/1_bitcoin_price_data_set.csv',\n",
    "                path_training_df = '../data/raw/1_training_data_sets/1_training_data.csv'):\n",
    "    df_bitcoin = pd.read_csv('../data/raw/1_training_data_sets/1_bitcoin_price_data_set.csv', \n",
    "                            encoding = \"ISO-8859-1\")\n",
    "    df = pd.read_csv('../data/raw/1_training_data_sets/1_training_data.csv',\n",
    "                             encoding = \"ISO-8859-1\")\n",
    "    \n",
    "    print(\"Shape of df_bitcoin: {}\".format(df_bitcoin.shape))\n",
    "    print(\"Shape of df: {}\".format(df.shape))\n",
    "    return df_bitcoin, df"
   ]
  },
  {
   "cell_type": "code",
   "execution_count": 2,
   "metadata": {},
   "outputs": [],
   "source": [
    "import pandas as pd\n",
    "import numpy as np \n",
    "from datetime import datetime"
   ]
  },
  {
   "cell_type": "code",
   "execution_count": 3,
   "metadata": {},
   "outputs": [
    {
     "name": "stdout",
     "output_type": "stream",
     "text": [
      "Shape of df_bitcoin: (2355, 1)\n",
      "Shape of df: (4757, 91)\n"
     ]
    }
   ],
   "source": [
    "df_bitcoin, df = read_in_data()"
   ]
  },
  {
   "cell_type": "code",
   "execution_count": 4,
   "metadata": {},
   "outputs": [
    {
     "name": "stdout",
     "output_type": "stream",
     "text": [
      "Shape after cleaning: {} (34, 91)\n"
     ]
    }
   ],
   "source": [
    "# Drop all NAs -> Just for baseline\n",
    "df.dropna(inplace=True)\n",
    "print(\"Shape after cleaning: {}\", df.shape)"
   ]
  },
  {
   "cell_type": "markdown",
   "metadata": {},
   "source": [
    "Too less -> Pick features first"
   ]
  },
  {
   "cell_type": "markdown",
   "metadata": {},
   "source": [
    "## Pick basic features"
   ]
  },
  {
   "cell_type": "code",
   "execution_count": 5,
   "metadata": {},
   "outputs": [],
   "source": [
    "df_features = df[[\n",
    "    'categories_0',\n",
    "    'transaction_count',\n",
    "    'holder_count',\n",
    "    'timestamp',\n",
    "    'country_origin'\n",
    "]]"
   ]
  },
  {
   "cell_type": "code",
   "execution_count": 6,
   "metadata": {},
   "outputs": [
    {
     "data": {
      "text/html": [
       "<div>\n",
       "<style scoped>\n",
       "    .dataframe tbody tr th:only-of-type {\n",
       "        vertical-align: middle;\n",
       "    }\n",
       "\n",
       "    .dataframe tbody tr th {\n",
       "        vertical-align: top;\n",
       "    }\n",
       "\n",
       "    .dataframe thead th {\n",
       "        text-align: right;\n",
       "    }\n",
       "</style>\n",
       "<table border=\"1\" class=\"dataframe\">\n",
       "  <thead>\n",
       "    <tr style=\"text-align: right;\">\n",
       "      <th></th>\n",
       "      <th>categories_0</th>\n",
       "      <th>transaction_count</th>\n",
       "      <th>holder_count</th>\n",
       "      <th>timestamp</th>\n",
       "      <th>country_origin</th>\n",
       "    </tr>\n",
       "  </thead>\n",
       "  <tbody>\n",
       "    <tr>\n",
       "      <th>2</th>\n",
       "      <td>Protocol</td>\n",
       "      <td>22730.0</td>\n",
       "      <td>13914.0</td>\n",
       "      <td>Sep-25-2019 11:58:48 PM</td>\n",
       "      <td>SI</td>\n",
       "    </tr>\n",
       "    <tr>\n",
       "      <th>85</th>\n",
       "      <td>Business Services</td>\n",
       "      <td>52659.0</td>\n",
       "      <td>32556.0</td>\n",
       "      <td>Sep-26-2019 12:17:20 PM</td>\n",
       "      <td>SC</td>\n",
       "    </tr>\n",
       "    <tr>\n",
       "      <th>585</th>\n",
       "      <td>Cryptocurrency</td>\n",
       "      <td>1407.0</td>\n",
       "      <td>545.0</td>\n",
       "      <td>Sep-24-2019 08:09:22 AM</td>\n",
       "      <td>GB</td>\n",
       "    </tr>\n",
       "    <tr>\n",
       "      <th>649</th>\n",
       "      <td>Communication</td>\n",
       "      <td>2018.0</td>\n",
       "      <td>512.0</td>\n",
       "      <td>Sep-26-2019 02:00:39 PM</td>\n",
       "      <td>MU</td>\n",
       "    </tr>\n",
       "    <tr>\n",
       "      <th>671</th>\n",
       "      <td>Business Platform</td>\n",
       "      <td>12341.0</td>\n",
       "      <td>3202.0</td>\n",
       "      <td>Sep-26-2019 01:24:41 PM</td>\n",
       "      <td>SG</td>\n",
       "    </tr>\n",
       "  </tbody>\n",
       "</table>\n",
       "</div>"
      ],
      "text/plain": [
       "          categories_0  transaction_count  holder_count  \\\n",
       "2             Protocol            22730.0       13914.0   \n",
       "85   Business Services            52659.0       32556.0   \n",
       "585     Cryptocurrency             1407.0         545.0   \n",
       "649      Communication             2018.0         512.0   \n",
       "671  Business Platform            12341.0        3202.0   \n",
       "\n",
       "                   timestamp country_origin  \n",
       "2    Sep-25-2019 11:58:48 PM             SI  \n",
       "85   Sep-26-2019 12:17:20 PM             SC  \n",
       "585  Sep-24-2019 08:09:22 AM             GB  \n",
       "649  Sep-26-2019 02:00:39 PM             MU  \n",
       "671  Sep-26-2019 01:24:41 PM             SG  "
      ]
     },
     "execution_count": 6,
     "metadata": {},
     "output_type": "execute_result"
    }
   ],
   "source": [
    "df_features.head()"
   ]
  },
  {
   "cell_type": "code",
   "execution_count": 7,
   "metadata": {},
   "outputs": [
    {
     "name": "stdout",
     "output_type": "stream",
     "text": [
      "Column categories_0 has 0 NA values\n",
      "Column transaction_count has 0 NA values\n",
      "Column holder_count has 0 NA values\n",
      "Column timestamp has 0 NA values\n",
      "Column country_origin has 0 NA values\n"
     ]
    }
   ],
   "source": [
    "for col in df_features.columns:\n",
    "    print(\"Column {} has {} NA values\".format(col, df_features[col].isna().sum()))"
   ]
  },
  {
   "cell_type": "code",
   "execution_count": 8,
   "metadata": {},
   "outputs": [],
   "source": [
    "# Categories NA: OHE \n",
    "# Transaction count avg\n",
    "# Holder count avg\n",
    "# Timestamp remove\n",
    "# Country origin OHE"
   ]
  },
  {
   "cell_type": "markdown",
   "metadata": {},
   "source": [
    "## Category 1"
   ]
  },
  {
   "cell_type": "code",
   "execution_count": 9,
   "metadata": {
    "scrolled": true
   },
   "outputs": [],
   "source": [
    "# End df for model\n",
    "df_X = df['OBS_ID'].copy()"
   ]
  },
  {
   "cell_type": "code",
   "execution_count": 10,
   "metadata": {},
   "outputs": [],
   "source": [
    "ohe_cat1 = pd.get_dummies(df.categories_0, prefix='categories_1', dummy_na=True)\n",
    "ohe_cat1 = pd.concat([df['OBS_ID'], ohe_cat1], axis=1) "
   ]
  },
  {
   "cell_type": "code",
   "execution_count": 11,
   "metadata": {},
   "outputs": [
    {
     "data": {
      "text/html": [
       "<div>\n",
       "<style scoped>\n",
       "    .dataframe tbody tr th:only-of-type {\n",
       "        vertical-align: middle;\n",
       "    }\n",
       "\n",
       "    .dataframe tbody tr th {\n",
       "        vertical-align: top;\n",
       "    }\n",
       "\n",
       "    .dataframe thead th {\n",
       "        text-align: right;\n",
       "    }\n",
       "</style>\n",
       "<table border=\"1\" class=\"dataframe\">\n",
       "  <thead>\n",
       "    <tr style=\"text-align: right;\">\n",
       "      <th></th>\n",
       "      <th>OBS_ID</th>\n",
       "      <th>categories_1_Artificial Intelligence</th>\n",
       "      <th>categories_1_Business Platform</th>\n",
       "      <th>categories_1_Business Services</th>\n",
       "      <th>categories_1_Charity</th>\n",
       "      <th>categories_1_Communication</th>\n",
       "      <th>categories_1_Cryptocurrency</th>\n",
       "      <th>categories_1_Decentralized Exchange</th>\n",
       "      <th>categories_1_Entertainment</th>\n",
       "      <th>categories_1_Exchange-based Tokens</th>\n",
       "      <th>categories_1_Finance / Banking</th>\n",
       "      <th>categories_1_Gambling</th>\n",
       "      <th>categories_1_Infrastructure</th>\n",
       "      <th>categories_1_Internet of Things (IOT)</th>\n",
       "      <th>categories_1_Media</th>\n",
       "      <th>categories_1_Other</th>\n",
       "      <th>categories_1_Protocol</th>\n",
       "      <th>categories_1_Software</th>\n",
       "      <th>categories_1_nan</th>\n",
       "    </tr>\n",
       "  </thead>\n",
       "  <tbody>\n",
       "    <tr>\n",
       "      <th>2</th>\n",
       "      <td>235693</td>\n",
       "      <td>0</td>\n",
       "      <td>0</td>\n",
       "      <td>0</td>\n",
       "      <td>0</td>\n",
       "      <td>0</td>\n",
       "      <td>0</td>\n",
       "      <td>0</td>\n",
       "      <td>0</td>\n",
       "      <td>0</td>\n",
       "      <td>0</td>\n",
       "      <td>0</td>\n",
       "      <td>0</td>\n",
       "      <td>0</td>\n",
       "      <td>0</td>\n",
       "      <td>0</td>\n",
       "      <td>1</td>\n",
       "      <td>0</td>\n",
       "      <td>0</td>\n",
       "    </tr>\n",
       "    <tr>\n",
       "      <th>85</th>\n",
       "      <td>235776</td>\n",
       "      <td>0</td>\n",
       "      <td>0</td>\n",
       "      <td>1</td>\n",
       "      <td>0</td>\n",
       "      <td>0</td>\n",
       "      <td>0</td>\n",
       "      <td>0</td>\n",
       "      <td>0</td>\n",
       "      <td>0</td>\n",
       "      <td>0</td>\n",
       "      <td>0</td>\n",
       "      <td>0</td>\n",
       "      <td>0</td>\n",
       "      <td>0</td>\n",
       "      <td>0</td>\n",
       "      <td>0</td>\n",
       "      <td>0</td>\n",
       "      <td>0</td>\n",
       "    </tr>\n",
       "    <tr>\n",
       "      <th>585</th>\n",
       "      <td>236276</td>\n",
       "      <td>0</td>\n",
       "      <td>0</td>\n",
       "      <td>0</td>\n",
       "      <td>0</td>\n",
       "      <td>0</td>\n",
       "      <td>1</td>\n",
       "      <td>0</td>\n",
       "      <td>0</td>\n",
       "      <td>0</td>\n",
       "      <td>0</td>\n",
       "      <td>0</td>\n",
       "      <td>0</td>\n",
       "      <td>0</td>\n",
       "      <td>0</td>\n",
       "      <td>0</td>\n",
       "      <td>0</td>\n",
       "      <td>0</td>\n",
       "      <td>0</td>\n",
       "    </tr>\n",
       "    <tr>\n",
       "      <th>649</th>\n",
       "      <td>236340</td>\n",
       "      <td>0</td>\n",
       "      <td>0</td>\n",
       "      <td>0</td>\n",
       "      <td>0</td>\n",
       "      <td>1</td>\n",
       "      <td>0</td>\n",
       "      <td>0</td>\n",
       "      <td>0</td>\n",
       "      <td>0</td>\n",
       "      <td>0</td>\n",
       "      <td>0</td>\n",
       "      <td>0</td>\n",
       "      <td>0</td>\n",
       "      <td>0</td>\n",
       "      <td>0</td>\n",
       "      <td>0</td>\n",
       "      <td>0</td>\n",
       "      <td>0</td>\n",
       "    </tr>\n",
       "    <tr>\n",
       "      <th>671</th>\n",
       "      <td>236362</td>\n",
       "      <td>0</td>\n",
       "      <td>1</td>\n",
       "      <td>0</td>\n",
       "      <td>0</td>\n",
       "      <td>0</td>\n",
       "      <td>0</td>\n",
       "      <td>0</td>\n",
       "      <td>0</td>\n",
       "      <td>0</td>\n",
       "      <td>0</td>\n",
       "      <td>0</td>\n",
       "      <td>0</td>\n",
       "      <td>0</td>\n",
       "      <td>0</td>\n",
       "      <td>0</td>\n",
       "      <td>0</td>\n",
       "      <td>0</td>\n",
       "      <td>0</td>\n",
       "    </tr>\n",
       "  </tbody>\n",
       "</table>\n",
       "</div>"
      ],
      "text/plain": [
       "     OBS_ID  categories_1_Artificial Intelligence  \\\n",
       "2    235693                                     0   \n",
       "85   235776                                     0   \n",
       "585  236276                                     0   \n",
       "649  236340                                     0   \n",
       "671  236362                                     0   \n",
       "\n",
       "     categories_1_Business Platform  categories_1_Business Services  \\\n",
       "2                                 0                               0   \n",
       "85                                0                               1   \n",
       "585                               0                               0   \n",
       "649                               0                               0   \n",
       "671                               1                               0   \n",
       "\n",
       "     categories_1_Charity  categories_1_Communication  \\\n",
       "2                       0                           0   \n",
       "85                      0                           0   \n",
       "585                     0                           0   \n",
       "649                     0                           1   \n",
       "671                     0                           0   \n",
       "\n",
       "     categories_1_Cryptocurrency  categories_1_Decentralized Exchange  \\\n",
       "2                              0                                    0   \n",
       "85                             0                                    0   \n",
       "585                            1                                    0   \n",
       "649                            0                                    0   \n",
       "671                            0                                    0   \n",
       "\n",
       "     categories_1_Entertainment  categories_1_Exchange-based Tokens  \\\n",
       "2                             0                                   0   \n",
       "85                            0                                   0   \n",
       "585                           0                                   0   \n",
       "649                           0                                   0   \n",
       "671                           0                                   0   \n",
       "\n",
       "     categories_1_Finance / Banking  categories_1_Gambling  \\\n",
       "2                                 0                      0   \n",
       "85                                0                      0   \n",
       "585                               0                      0   \n",
       "649                               0                      0   \n",
       "671                               0                      0   \n",
       "\n",
       "     categories_1_Infrastructure  categories_1_Internet of Things (IOT)  \\\n",
       "2                              0                                      0   \n",
       "85                             0                                      0   \n",
       "585                            0                                      0   \n",
       "649                            0                                      0   \n",
       "671                            0                                      0   \n",
       "\n",
       "     categories_1_Media  categories_1_Other  categories_1_Protocol  \\\n",
       "2                     0                   0                      1   \n",
       "85                    0                   0                      0   \n",
       "585                   0                   0                      0   \n",
       "649                   0                   0                      0   \n",
       "671                   0                   0                      0   \n",
       "\n",
       "     categories_1_Software  categories_1_nan  \n",
       "2                        0                 0  \n",
       "85                       0                 0  \n",
       "585                      0                 0  \n",
       "649                      0                 0  \n",
       "671                      0                 0  "
      ]
     },
     "execution_count": 11,
     "metadata": {},
     "output_type": "execute_result"
    }
   ],
   "source": [
    "ohe_cat1.head()"
   ]
  },
  {
   "cell_type": "code",
   "execution_count": 12,
   "metadata": {},
   "outputs": [],
   "source": [
    "df_X = pd.merge(df_X, ohe_cat1)"
   ]
  },
  {
   "cell_type": "markdown",
   "metadata": {},
   "source": [
    "## Transaction Count"
   ]
  },
  {
   "cell_type": "code",
   "execution_count": 13,
   "metadata": {},
   "outputs": [],
   "source": [
    "df.transaction_count.fillna(df.transaction_count.mean(), inplace=True)"
   ]
  },
  {
   "cell_type": "code",
   "execution_count": 14,
   "metadata": {},
   "outputs": [],
   "source": [
    "df_X = pd.merge(df_X, df[['OBS_ID', 'transaction_count']])"
   ]
  },
  {
   "cell_type": "markdown",
   "metadata": {},
   "source": [
    "## Holder Count"
   ]
  },
  {
   "cell_type": "code",
   "execution_count": 15,
   "metadata": {},
   "outputs": [],
   "source": [
    "df.holder_count.fillna(df.holder_count.mean(), inplace=True)"
   ]
  },
  {
   "cell_type": "code",
   "execution_count": 16,
   "metadata": {},
   "outputs": [],
   "source": [
    "df_X = pd.merge(df_X, df[['OBS_ID', 'holder_count']])"
   ]
  },
  {
   "cell_type": "markdown",
   "metadata": {},
   "source": [
    "## Timestamp"
   ]
  },
  {
   "cell_type": "code",
   "execution_count": 17,
   "metadata": {},
   "outputs": [],
   "source": [
    "df = df[~df.timestamp.isna()]"
   ]
  },
  {
   "cell_type": "code",
   "execution_count": 18,
   "metadata": {},
   "outputs": [],
   "source": [
    "df['timestamp']=df.timestamp.astype(str)"
   ]
  },
  {
   "cell_type": "code",
   "execution_count": 19,
   "metadata": {},
   "outputs": [
    {
     "data": {
      "text/plain": [
       "(34, 91)"
      ]
     },
     "execution_count": 19,
     "metadata": {},
     "output_type": "execute_result"
    }
   ],
   "source": [
    "df.shape"
   ]
  },
  {
   "cell_type": "code",
   "execution_count": 20,
   "metadata": {},
   "outputs": [],
   "source": [
    "df = df.assign(timestamp_datetime = df.apply(lambda x:\n",
    "                                            datetime.strptime(str(x.timestamp), '%b-%d-%Y %H:%M:%S %p'),\n",
    "                                            axis=1))"
   ]
  },
  {
   "cell_type": "code",
   "execution_count": 21,
   "metadata": {},
   "outputs": [],
   "source": [
    "df = df.assign(hour = df.apply(lambda x: x.timestamp_datetime.hour, axis=1))\n",
    "df = df.assign(minute = df.apply(lambda x: x.timestamp_datetime.minute, axis=1))\n",
    "df = df.assign(second = df.apply(lambda x: x.timestamp_datetime.second, axis=1))\n",
    "df = df.assign(month = df.apply(lambda x: x.timestamp_datetime.month, axis=1))\n",
    "df = df.assign(day = df.apply(lambda x: x.timestamp_datetime.day, axis=1))\n",
    "df = df.assign(year = df.apply(lambda x: x.timestamp_datetime.year, axis=1))\n",
    "\n",
    "df = df[df.year != 1970]\n",
    "df = df[df.year != 2017]"
   ]
  },
  {
   "cell_type": "code",
   "execution_count": 22,
   "metadata": {},
   "outputs": [],
   "source": [
    "df_X = pd.merge(df_X, df[['OBS_ID', 'hour', 'minute', 'second', 'month', 'day', 'year']])"
   ]
  },
  {
   "cell_type": "markdown",
   "metadata": {},
   "source": [
    "## Country origin"
   ]
  },
  {
   "cell_type": "code",
   "execution_count": 23,
   "metadata": {},
   "outputs": [],
   "source": [
    "ohe_country = pd.get_dummies(df.country_origin, prefix='country', dummy_na=True)\n",
    "ohe_country = pd.concat([df['OBS_ID'], ohe_country], axis=1) "
   ]
  },
  {
   "cell_type": "code",
   "execution_count": 24,
   "metadata": {},
   "outputs": [],
   "source": [
    "df_X = pd.merge(df_X, ohe_country)"
   ]
  },
  {
   "cell_type": "code",
   "execution_count": 25,
   "metadata": {},
   "outputs": [
    {
     "data": {
      "text/plain": [
       "(34, 47)"
      ]
     },
     "execution_count": 25,
     "metadata": {},
     "output_type": "execute_result"
    }
   ],
   "source": [
    "df_X.shape"
   ]
  },
  {
   "cell_type": "markdown",
   "metadata": {},
   "source": [
    "# Training"
   ]
  },
  {
   "cell_type": "code",
   "execution_count": 26,
   "metadata": {},
   "outputs": [
    {
     "ename": "ImportError",
     "evalue": "cannot import name 'matthews_corrcoef' from 'sklearn.metrics' (unknown location)",
     "output_type": "error",
     "traceback": [
      "\u001b[0;31m---------------------------------------------------------------------------\u001b[0m",
      "\u001b[0;31mImportError\u001b[0m                               Traceback (most recent call last)",
      "\u001b[0;32m<ipython-input-26-afc6822b5fa8>\u001b[0m in \u001b[0;36m<module>\u001b[0;34m\u001b[0m\n\u001b[0;32m----> 1\u001b[0;31m \u001b[0;32mfrom\u001b[0m \u001b[0msklearn\u001b[0m\u001b[0;34m.\u001b[0m\u001b[0mmetrics\u001b[0m \u001b[0;32mimport\u001b[0m \u001b[0mmatthews_corrcoef\u001b[0m\u001b[0;34m\u001b[0m\u001b[0;34m\u001b[0m\u001b[0m\n\u001b[0m",
      "\u001b[0;31mImportError\u001b[0m: cannot import name 'matthews_corrcoef' from 'sklearn.metrics' (unknown location)"
     ]
    }
   ],
   "source": []
  }
 ],
 "metadata": {
  "kernelspec": {
   "display_name": "Python 3",
   "language": "python",
   "name": "python3"
  },
  "language_info": {
   "codemirror_mode": {
    "name": "ipython",
    "version": 3
   },
   "file_extension": ".py",
   "mimetype": "text/x-python",
   "name": "python",
   "nbconvert_exporter": "python",
   "pygments_lexer": "ipython3",
   "version": "3.7.3"
  }
 },
 "nbformat": 4,
 "nbformat_minor": 2
}
