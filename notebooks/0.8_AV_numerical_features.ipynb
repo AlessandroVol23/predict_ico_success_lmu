{
 "cells": [
  {
   "cell_type": "code",
   "execution_count": 1,
   "metadata": {},
   "outputs": [],
   "source": [
    "%load_ext autoreload\n",
    "%autoreload 2\n",
    "import os \n",
    "import pandas as pd\n",
    "import numpy as np\n",
    "os.chdir('..')\n",
    "from src.data.make_dataset import get_preprocessed_datasets\n",
    "from src.features.build_features import FeatureEngineering"
   ]
  },
  {
   "cell_type": "code",
   "execution_count": 49,
   "metadata": {},
   "outputs": [
    {
     "name": "stderr",
     "output_type": "stream",
     "text": [
      "2019-11-03 20:28:02,266 - src.data.make_dataset - INFO - making final data sets from raw data\n",
      "2019-11-03 20:28:02,485 - src.data.make_dataset - INFO - Shape of df_bitcoin: (2355, 2)\n",
      "2019-11-03 20:28:02,486 - src.data.make_dataset - INFO - Shape of df: (4757, 91)\n",
      "2019-11-03 20:28:02,537 - src.data.make_dataset - INFO - Start preprocessing dataframe\n",
      "2019-11-03 20:28:02,556 - src.data.make_dataset - INFO - Replacing market_data_current_price_usd \n",
      "2019-11-03 20:28:02,571 - src.data.make_dataset - INFO - Replacing market_data_ath_usd \n",
      "2019-11-03 20:28:02,588 - src.data.make_dataset - INFO - Replacing market_data_circulating_supply \n",
      "2019-11-03 20:28:02,606 - src.data.make_dataset - INFO - Preprocessing done!\n"
     ]
    }
   ],
   "source": [
    "df_bitcoin, df, df_test = get_preprocessed_datasets()"
   ]
  },
  {
   "cell_type": "code",
   "execution_count": 31,
   "metadata": {},
   "outputs": [
    {
     "data": {
      "text/plain": [
       "(4757, 91)"
      ]
     },
     "execution_count": 31,
     "metadata": {},
     "output_type": "execute_result"
    }
   ],
   "source": [
    "df.shape"
   ]
  },
  {
   "cell_type": "code",
   "execution_count": 32,
   "metadata": {},
   "outputs": [
    {
     "data": {
      "text/plain": [
       "(1001, 90)"
      ]
     },
     "execution_count": 32,
     "metadata": {},
     "output_type": "execute_result"
    }
   ],
   "source": [
    "df_test.shape"
   ]
  },
  {
   "cell_type": "code",
   "execution_count": 33,
   "metadata": {},
   "outputs": [
    {
     "data": {
      "text/plain": [
       "Index(['OBS_ID', 'ï..id', 'symbol', 'name', 'categories_0', 'contract_address',\n",
       "       'transaction_count', 'holder_count', 'timestamp', 'country_origin',\n",
       "       'links_homepage', 'links_blockchain_site', 'links_twitter_screen_name',\n",
       "       'links_facebook_username', 'links_subreddit_url',\n",
       "       'links_repos_url_github', 'market_data_current_price_usd',\n",
       "       'market_data_ath_usd', 'market_data_ath_date_usd',\n",
       "       'market_data_high_24h_usd', 'market_data_low_24h_usd',\n",
       "       'market_data_total_supply', 'market_data_circulating_supply',\n",
       "       'market_data_first_time_trading', 'community_data_facebook_likes',\n",
       "       'community_data_twitter_followers',\n",
       "       'community_data_reddit_average_posts_48h',\n",
       "       'community_data_reddit_average_comments_48h',\n",
       "       'community_data_reddit_subscribers',\n",
       "       'community_data_reddit_accounts_active_48h',\n",
       "       'community_data_telegram_channel_user_count', 'developer_data_forks',\n",
       "       'developer_data_stars', 'developer_data_subscribers',\n",
       "       'developer_data_total_issues', 'developer_data_closed_issues',\n",
       "       'developer_data_pull_requests_merged',\n",
       "       'developer_data_pull_request_contributors',\n",
       "       'developer_data_commit_count_4_weeks', 'ico_data_amount_for_sale',\n",
       "       'ico_data_country_origin', 'ico_data_hardcap_amount',\n",
       "       'ico_data_hardcap_currency', 'ico_data_kyc_required',\n",
       "       'ico_data_pre_sale_available', 'ico_data_softcap_amount',\n",
       "       'ico_data_softcap_currency', 'ico_data_total_raised',\n",
       "       'ico_data_total_raised_currency', 'public_interest_stats_alexa_rank',\n",
       "       'public_interest_stats_bing_matches', 'KW1', 'KW2', 'KW3', 'KW4', 'KW5',\n",
       "       'KW6', 'KW7', 'KW8', 'KW9', 'KW10', 'KW11', 'KW12', 'KW13', 'KW14',\n",
       "       'KW15', 'KW16', 'KW17', 'KW18', 'KW19', 'KW20', 'KW21', 'KW22', 'KW23',\n",
       "       'KW24', 'KW25', 'KW26', 'KW27', 'KW28', 'KW29', 'KW30', 'KW31', 'KW32',\n",
       "       'KW33', 'KW34', 'KW35', 'KW36', 'KW37', 'KW38', 'KW39', 'success'],\n",
       "      dtype='object')"
      ]
     },
     "execution_count": 33,
     "metadata": {},
     "output_type": "execute_result"
    }
   ],
   "source": [
    "df.columns"
   ]
  },
  {
   "cell_type": "code",
   "execution_count": 34,
   "metadata": {},
   "outputs": [
    {
     "data": {
      "text/plain": [
       "0       1.676610e-03\n",
       "1       2.315610e-01\n",
       "2       7.173600e-04\n",
       "3       3.360274e-02\n",
       "4       8.870100e-04\n",
       "            ...     \n",
       "4752    2.988830e-03\n",
       "4753    1.745867e-02\n",
       "4754    8.420000e-02\n",
       "4755    6.000000e-07\n",
       "4756    3.400000e-02\n",
       "Name: market_data_current_price_usd, Length: 4757, dtype: float64"
      ]
     },
     "execution_count": 34,
     "metadata": {},
     "output_type": "execute_result"
    }
   ],
   "source": [
    "df.market_data_current_price_usd"
   ]
  },
  {
   "cell_type": "code",
   "execution_count": 38,
   "metadata": {},
   "outputs": [
    {
     "data": {
      "text/plain": [
       "0           0.034182\n",
       "1       43587.000000\n",
       "2           0.043750\n",
       "3       43505.000000\n",
       "4           0.030843\n",
       "            ...     \n",
       "4752    25965.000000\n",
       "4753        0.740470\n",
       "4754        0.012000\n",
       "4755        0.003540\n",
       "4756        0.000786\n",
       "Name: market_data_ath_usd, Length: 4757, dtype: float64"
      ]
     },
     "execution_count": 38,
     "metadata": {},
     "output_type": "execute_result"
    }
   ],
   "source": [
    "df.market_data_ath_usd"
   ]
  },
  {
   "cell_type": "code",
   "execution_count": 45,
   "metadata": {},
   "outputs": [
    {
     "data": {
      "text/plain": [
       "0       8.627700e+13\n",
       "1       6.008030e+15\n",
       "2       4.400000e+08\n",
       "3       0.000000e+00\n",
       "4       0.000000e+00\n",
       "            ...     \n",
       "4752    0.000000e+00\n",
       "4753    0.000000e+00\n",
       "4754    0.000000e+00\n",
       "4755    0.000000e+00\n",
       "4756    0.000000e+00\n",
       "Name: market_data_circulating_supply, Length: 4757, dtype: float64"
      ]
     },
     "execution_count": 45,
     "metadata": {},
     "output_type": "execute_result"
    }
   ],
   "source": [
    "df.market_data_circulating_supply"
   ]
  },
  {
   "cell_type": "code",
   "execution_count": 48,
   "metadata": {},
   "outputs": [
    {
     "data": {
      "text/plain": [
       "0        23900.0\n",
       "1       686000.0\n",
       "2        27500.0\n",
       "3        27500.0\n",
       "4       703000.0\n",
       "          ...   \n",
       "4752     62100.0\n",
       "4753     27400.0\n",
       "4754     89000.0\n",
       "4755     82800.0\n",
       "4756     27400.0\n",
       "Name: public_interest_stats_bing_matches, Length: 4757, dtype: float64"
      ]
     },
     "execution_count": 48,
     "metadata": {},
     "output_type": "execute_result"
    }
   ],
   "source": [
    "df.public_interest_stats_bing_matches"
   ]
  },
  {
   "cell_type": "code",
   "execution_count": 50,
   "metadata": {},
   "outputs": [
    {
     "name": "stderr",
     "output_type": "stream",
     "text": [
      "/c/Users/Sandro/repo/data_science_for_business_lmu/src/features/build_features.py:29: FutureWarning: Sorting because non-concatenation axis is not aligned. A future version\n",
      "of pandas will change to not sort by default.\n",
      "\n",
      "To accept the future behavior, pass 'sort=False'.\n",
      "\n",
      "To retain the current behavior and silence the warning, pass 'sort=True'.\n",
      "\n",
      "  self.df = pd.concat([df, df_test])\n"
     ]
    }
   ],
   "source": [
    "fe = FeatureEngineering(df, df_bitcoin, df_test)"
   ]
  },
  {
   "cell_type": "code",
   "execution_count": 51,
   "metadata": {},
   "outputs": [
    {
     "name": "stderr",
     "output_type": "stream",
     "text": [
      "2019-11-03 20:28:27,244 - src.features.build_features - INFO - Adding categories_0\n",
      "2019-11-03 20:28:27,291 - src.features.build_features - INFO - Transform numerical variable for column transaction_count\n",
      "2019-11-03 20:28:27,293 - src.features.build_features - INFO - Start filling NA values in transaction_count\n",
      "2019-11-03 20:28:27,307 - src.features.build_features - INFO - Found 2695 NA values in column transaction_count\n",
      "2019-11-03 20:28:27,308 - src.features.build_features - INFO - Filled NA values\n",
      "2019-11-03 20:28:27,326 - src.features.build_features - INFO - Transform numerical variable for column holder_count\n",
      "2019-11-03 20:28:27,327 - src.features.build_features - INFO - Start filling NA values in holder_count\n",
      "2019-11-03 20:28:27,339 - src.features.build_features - INFO - Found 2699 NA values in column holder_count\n",
      "2019-11-03 20:28:27,342 - src.features.build_features - INFO - Filled NA values\n",
      "2019-11-03 20:28:27,359 - src.features.build_features - INFO - Transform numerical variable for column market_data_current_price_usd\n",
      "2019-11-03 20:28:27,361 - src.features.build_features - INFO - Start filling NA values in market_data_current_price_usd\n",
      "2019-11-03 20:28:27,372 - src.features.build_features - INFO - Found 48 NA values in column market_data_current_price_usd\n",
      "2019-11-03 20:28:27,375 - src.features.build_features - INFO - Filled NA values\n",
      "2019-11-03 20:28:27,394 - src.features.build_features - INFO - Transform numerical variable for column market_data_ath_usd\n",
      "2019-11-03 20:28:27,395 - src.features.build_features - INFO - Start filling NA values in market_data_ath_usd\n",
      "2019-11-03 20:28:27,405 - src.features.build_features - INFO - Found 48 NA values in column market_data_ath_usd\n",
      "2019-11-03 20:28:27,406 - src.features.build_features - INFO - Filled NA values\n",
      "2019-11-03 20:28:27,419 - src.features.build_features - INFO - Transform numerical variable for column market_data_total_supply\n",
      "2019-11-03 20:28:27,420 - src.features.build_features - INFO - Start filling NA values in market_data_total_supply\n",
      "2019-11-03 20:28:27,428 - src.features.build_features - INFO - Found 574 NA values in column market_data_total_supply\n",
      "2019-11-03 20:28:27,430 - src.features.build_features - INFO - Filled NA values\n",
      "2019-11-03 20:28:27,451 - src.features.build_features - INFO - Transform numerical variable for column market_data_circulating_supply\n",
      "2019-11-03 20:28:27,452 - src.features.build_features - INFO - Start filling NA values in market_data_circulating_supply\n",
      "2019-11-03 20:28:27,463 - src.features.build_features - INFO - Found 47 NA values in column market_data_circulating_supply\n",
      "2019-11-03 20:28:27,466 - src.features.build_features - INFO - Filled NA values\n",
      "2019-11-03 20:28:27,488 - src.features.build_features - INFO - Transform numerical variable for column public_interest_stats_bing_matches\n",
      "2019-11-03 20:28:27,490 - src.features.build_features - INFO - Start filling NA values in public_interest_stats_bing_matches\n",
      "2019-11-03 20:28:27,501 - src.features.build_features - INFO - Found 4 NA values in column public_interest_stats_bing_matches\n",
      "2019-11-03 20:28:27,504 - src.features.build_features - INFO - Filled NA values\n"
     ]
    }
   ],
   "source": [
    "fe.construct_features()"
   ]
  },
  {
   "cell_type": "code",
   "execution_count": 53,
   "metadata": {},
   "outputs": [
    {
     "data": {
      "text/plain": [
       "OBS_ID                                  int64\n",
       "success                                object\n",
       "labels_categories_0                     int64\n",
       "transaction_count                     float64\n",
       "holder_count                          float64\n",
       "market_data_current_price_usd         float64\n",
       "market_data_ath_usd                   float64\n",
       "market_data_total_supply              float64\n",
       "market_data_circulating_supply        float64\n",
       "public_interest_stats_bing_matches    float64\n",
       "dtype: object"
      ]
     },
     "execution_count": 53,
     "metadata": {},
     "output_type": "execute_result"
    }
   ],
   "source": [
    "fe.df_features.dtypes"
   ]
  },
  {
   "cell_type": "code",
   "execution_count": null,
   "metadata": {},
   "outputs": [],
   "source": []
  }
 ],
 "metadata": {
  "kernelspec": {
   "display_name": "Python 3",
   "language": "python",
   "name": "python3"
  },
  "language_info": {
   "codemirror_mode": {
    "name": "ipython",
    "version": 3
   },
   "file_extension": ".py",
   "mimetype": "text/x-python",
   "name": "python",
   "nbconvert_exporter": "python",
   "pygments_lexer": "ipython3",
   "version": "3.7.3"
  }
 },
 "nbformat": 4,
 "nbformat_minor": 2
}
