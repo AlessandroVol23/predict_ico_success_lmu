{
 "cells": [
  {
   "cell_type": "code",
   "execution_count": 4,
   "metadata": {},
   "outputs": [
    {
     "name": "stdout",
     "output_type": "stream",
     "text": [
      "The autoreload extension is already loaded. To reload it, use:\n",
      "  %reload_ext autoreload\n"
     ]
    }
   ],
   "source": [
    "%load_ext autoreload\n",
    "%autoreload 2\n",
    "import os \n",
    "import numpy as np\n",
    "import pandas as pd"
   ]
  },
  {
   "cell_type": "code",
   "execution_count": 5,
   "metadata": {},
   "outputs": [],
   "source": [
    "os.chdir('..')"
   ]
  },
  {
   "cell_type": "code",
   "execution_count": 7,
   "metadata": {},
   "outputs": [
    {
     "ename": "ModuleNotFoundError",
     "evalue": "No module named 'lightgbm'",
     "output_type": "error",
     "traceback": [
      "\u001b[0;31m---------------------------------------------------------------------------\u001b[0m",
      "\u001b[0;31mModuleNotFoundError\u001b[0m                       Traceback (most recent call last)",
      "\u001b[0;32m<ipython-input-7-56675abbaea2>\u001b[0m in \u001b[0;36m<module>\u001b[0;34m\u001b[0m\n\u001b[0;32m----> 1\u001b[0;31m \u001b[0;32mfrom\u001b[0m \u001b[0msrc\u001b[0m\u001b[0;34m.\u001b[0m\u001b[0mmodels\u001b[0m\u001b[0;34m.\u001b[0m\u001b[0mlight_gbm\u001b[0m \u001b[0;32mimport\u001b[0m \u001b[0mLightGbmModel\u001b[0m\u001b[0;34m\u001b[0m\u001b[0;34m\u001b[0m\u001b[0m\n\u001b[0m",
      "\u001b[0;32m/mnt/d/Workspace/data_science_for_business_lmu/src/models/light_gbm.py\u001b[0m in \u001b[0;36m<module>\u001b[0;34m\u001b[0m\n\u001b[1;32m      5\u001b[0m \u001b[0;32mimport\u001b[0m \u001b[0mpandas\u001b[0m \u001b[0;32mas\u001b[0m \u001b[0mpd\u001b[0m\u001b[0;34m\u001b[0m\u001b[0;34m\u001b[0m\u001b[0m\n\u001b[1;32m      6\u001b[0m \u001b[0;32mfrom\u001b[0m \u001b[0msklearn\u001b[0m\u001b[0;34m.\u001b[0m\u001b[0mmodel_selection\u001b[0m \u001b[0;32mimport\u001b[0m \u001b[0mtrain_test_split\u001b[0m\u001b[0;34m\u001b[0m\u001b[0;34m\u001b[0m\u001b[0m\n\u001b[0;32m----> 7\u001b[0;31m \u001b[0;32mimport\u001b[0m \u001b[0mlightgbm\u001b[0m \u001b[0;32mas\u001b[0m \u001b[0mlgb\u001b[0m\u001b[0;34m\u001b[0m\u001b[0;34m\u001b[0m\u001b[0m\n\u001b[0m\u001b[1;32m      8\u001b[0m \u001b[0;32mfrom\u001b[0m \u001b[0mlightgbm\u001b[0m \u001b[0;32mimport\u001b[0m \u001b[0mLGBMClassifier\u001b[0m\u001b[0;34m\u001b[0m\u001b[0;34m\u001b[0m\u001b[0m\n\u001b[1;32m      9\u001b[0m \u001b[0;32mfrom\u001b[0m \u001b[0msklearn\u001b[0m\u001b[0;34m.\u001b[0m\u001b[0mmetrics\u001b[0m \u001b[0;32mimport\u001b[0m \u001b[0mmatthews_corrcoef\u001b[0m\u001b[0;34m\u001b[0m\u001b[0;34m\u001b[0m\u001b[0m\n",
      "\u001b[0;31mModuleNotFoundError\u001b[0m: No module named 'lightgbm'"
     ]
    }
   ],
   "source": [
    "from src.models.light_gbm import LightGbmModel\n"
   ]
  },
  {
   "cell_type": "code",
   "execution_count": 8,
   "metadata": {},
   "outputs": [
    {
     "ename": "NameError",
     "evalue": "name 'LightGbmModel' is not defined",
     "output_type": "error",
     "traceback": [
      "\u001b[0;31m---------------------------------------------------------------------------\u001b[0m",
      "\u001b[0;31mNameError\u001b[0m                                 Traceback (most recent call last)",
      "\u001b[0;32m<ipython-input-8-be47f36f5e0e>\u001b[0m in \u001b[0;36m<module>\u001b[0;34m\u001b[0m\n\u001b[0;32m----> 1\u001b[0;31m \u001b[0mlbm\u001b[0m \u001b[0;34m=\u001b[0m \u001b[0mLightGbmModel\u001b[0m\u001b[0;34m(\u001b[0m\u001b[0;34m)\u001b[0m\u001b[0;34m\u001b[0m\u001b[0;34m\u001b[0m\u001b[0m\n\u001b[0m",
      "\u001b[0;31mNameError\u001b[0m: name 'LightGbmModel' is not defined"
     ]
    }
   ],
   "source": [
    "lbm = LightGbmModel()"
   ]
  },
  {
   "cell_type": "code",
   "execution_count": 11,
   "metadata": {},
   "outputs": [
    {
     "data": {
      "text/plain": [
       "(4757, 13)"
      ]
     },
     "execution_count": 11,
     "metadata": {},
     "output_type": "execute_result"
    }
   ],
   "source": [
    "lbm.X_train.shape"
   ]
  },
  {
   "cell_type": "code",
   "execution_count": 12,
   "metadata": {},
   "outputs": [
    {
     "data": {
      "text/plain": [
       "(4757, 1)"
      ]
     },
     "execution_count": 12,
     "metadata": {},
     "output_type": "execute_result"
    }
   ],
   "source": [
    "lbm.y_train.shape"
   ]
  },
  {
   "cell_type": "code",
   "execution_count": 13,
   "metadata": {},
   "outputs": [
    {
     "data": {
      "text/plain": [
       "array([0, 1])"
      ]
     },
     "execution_count": 13,
     "metadata": {},
     "output_type": "execute_result"
    }
   ],
   "source": [
    "np.unique(lbm.y_train.round())"
   ]
  },
  {
   "cell_type": "code",
   "execution_count": 14,
   "metadata": {},
   "outputs": [
    {
     "data": {
      "text/html": [
       "<div>\n",
       "<style scoped>\n",
       "    .dataframe tbody tr th:only-of-type {\n",
       "        vertical-align: middle;\n",
       "    }\n",
       "\n",
       "    .dataframe tbody tr th {\n",
       "        vertical-align: top;\n",
       "    }\n",
       "\n",
       "    .dataframe thead th {\n",
       "        text-align: right;\n",
       "    }\n",
       "</style>\n",
       "<table border=\"1\" class=\"dataframe\">\n",
       "  <thead>\n",
       "    <tr style=\"text-align: right;\">\n",
       "      <th></th>\n",
       "    </tr>\n",
       "    <tr>\n",
       "      <th>0</th>\n",
       "    </tr>\n",
       "  </thead>\n",
       "  <tbody>\n",
       "    <tr>\n",
       "      <th>0</th>\n",
       "    </tr>\n",
       "    <tr>\n",
       "      <th>1</th>\n",
       "    </tr>\n",
       "  </tbody>\n",
       "</table>\n",
       "</div>"
      ],
      "text/plain": [
       "Empty DataFrame\n",
       "Columns: []\n",
       "Index: [0, 1]"
      ]
     },
     "execution_count": 14,
     "metadata": {},
     "output_type": "execute_result"
    }
   ],
   "source": [
    "lbm.y_train.groupby(0).count()"
   ]
  },
  {
   "cell_type": "code",
   "execution_count": 15,
   "metadata": {},
   "outputs": [
    {
     "data": {
      "text/plain": [
       "(4757, 1)"
      ]
     },
     "execution_count": 15,
     "metadata": {},
     "output_type": "execute_result"
    }
   ],
   "source": [
    "pd.DataFrame(lbm.y_train).shape"
   ]
  },
  {
   "cell_type": "code",
   "execution_count": 16,
   "metadata": {},
   "outputs": [
    {
     "name": "stderr",
     "output_type": "stream",
     "text": [
      "2019-11-15 21:03:25,805 - src.models.light_gbm - INFO - X_train shape: (4757, 13)\n",
      "2019-11-15 21:03:25,815 - src.models.light_gbm - INFO - y_train shape: (4757, 1)\n",
      "2019-11-15 21:03:25,818 - src.models.light_gbm - INFO - x_test shape: (1001, 13)\n"
     ]
    },
    {
     "name": "stdout",
     "output_type": "stream",
     "text": [
      "UNIQUE: Empty DataFrame\n",
      "Columns: []\n",
      "Index: [0, 1]\n"
     ]
    },
    {
     "name": "stderr",
     "output_type": "stream",
     "text": [
      "/home/sandro/.local/share/virtualenvs/data_science_for_business_lmu-1wV0OWeh/lib/python3.7/site-packages/sklearn/preprocessing/label.py:219: DataConversionWarning: A column-vector y was passed when a 1d array was expected. Please change the shape of y to (n_samples, ), for example using ravel().\n",
      "  y = column_or_1d(y, warn=True)\n",
      "/home/sandro/.local/share/virtualenvs/data_science_for_business_lmu-1wV0OWeh/lib/python3.7/site-packages/sklearn/preprocessing/label.py:252: DataConversionWarning: A column-vector y was passed when a 1d array was expected. Please change the shape of y to (n_samples, ), for example using ravel().\n",
      "  y = column_or_1d(y, warn=True)\n"
     ]
    },
    {
     "name": "stdout",
     "output_type": "stream",
     "text": [
      "Training until validation scores don't improve for 150 rounds\n",
      "[250]\ttraining's binary_logloss: 0.195206\tvalid_1's binary_logloss: 0.371025\n",
      "Early stopping, best iteration is:\n",
      "[200]\ttraining's binary_logloss: 0.21775\tvalid_1's binary_logloss: 0.369539\n"
     ]
    },
    {
     "name": "stderr",
     "output_type": "stream",
     "text": [
      "2019-11-15 21:03:29,323 - src.models.light_gbm - INFO - unique elements: [0. 1.]: counts_elements: [4745   12]\n"
     ]
    },
    {
     "name": "stdout",
     "output_type": "stream",
     "text": [
      "Fold  1 mcc : 0.060977\n",
      "Training until validation scores don't improve for 150 rounds\n",
      "[250]\ttraining's binary_logloss: 0.197134\tvalid_1's binary_logloss: 0.357679\n",
      "Early stopping, best iteration is:\n",
      "[342]\ttraining's binary_logloss: 0.167002\tvalid_1's binary_logloss: 0.356181\n"
     ]
    },
    {
     "name": "stderr",
     "output_type": "stream",
     "text": [
      "2019-11-15 21:03:32,393 - src.models.light_gbm - INFO - unique elements: [0. 1.]: counts_elements: [4721   36]\n"
     ]
    },
    {
     "name": "stdout",
     "output_type": "stream",
     "text": [
      "Fold  2 mcc : 0.124971\n",
      "Training until validation scores don't improve for 150 rounds\n",
      "[250]\ttraining's binary_logloss: 0.195813\tvalid_1's binary_logloss: 0.3702\n"
     ]
    },
    {
     "name": "stderr",
     "output_type": "stream",
     "text": [
      "2019-11-15 21:03:34,227 - src.models.light_gbm - INFO - unique elements: [0. 1.]: counts_elements: [4715   42]\n"
     ]
    },
    {
     "name": "stdout",
     "output_type": "stream",
     "text": [
      "Early stopping, best iteration is:\n",
      "[163]\ttraining's binary_logloss: 0.238627\tvalid_1's binary_logloss: 0.368058\n",
      "Fold  3 mcc : 0.043320\n",
      "Training until validation scores don't improve for 150 rounds\n",
      "[250]\ttraining's binary_logloss: 0.202345\tvalid_1's binary_logloss: 0.355748\n"
     ]
    },
    {
     "name": "stderr",
     "output_type": "stream",
     "text": [
      "2019-11-15 21:03:36,162 - src.models.light_gbm - INFO - unique elements: [0. 1.]: counts_elements: [4702   55]\n"
     ]
    },
    {
     "name": "stdout",
     "output_type": "stream",
     "text": [
      "Early stopping, best iteration is:\n",
      "[198]\ttraining's binary_logloss: 0.22452\tvalid_1's binary_logloss: 0.355\n",
      "Fold  4 mcc : 0.081248\n",
      "Training until validation scores don't improve for 150 rounds\n",
      "[250]\ttraining's binary_logloss: 0.196606\tvalid_1's binary_logloss: 0.363794\n",
      "Early stopping, best iteration is:\n",
      "[280]\ttraining's binary_logloss: 0.18595\tvalid_1's binary_logloss: 0.363271\n"
     ]
    },
    {
     "name": "stderr",
     "output_type": "stream",
     "text": [
      "2019-11-15 21:03:38,385 - src.models.light_gbm - INFO - unique elements: [0. 1.]: counts_elements: [4684   73]\n"
     ]
    },
    {
     "name": "stdout",
     "output_type": "stream",
     "text": [
      "Fold  5 mcc : 0.053471\n"
     ]
    }
   ],
   "source": [
    "model = LightGbmModel()\n",
    "model.cross_validation()"
   ]
  },
  {
   "cell_type": "code",
   "execution_count": 19,
   "metadata": {},
   "outputs": [
    {
     "data": {
      "text/plain": [
       "(array([0., 1.]), array([987,  14]))"
      ]
     },
     "execution_count": 19,
     "metadata": {},
     "output_type": "execute_result"
    }
   ],
   "source": [
    "np.unique(model.sub_preds_abs, return_counts=True)"
   ]
  },
  {
   "cell_type": "code",
   "execution_count": 25,
   "metadata": {},
   "outputs": [
    {
     "data": {
      "text/plain": [
       "array([   1,    2,    3, ...,  999, 1000, 1001])"
      ]
     },
     "execution_count": 25,
     "metadata": {},
     "output_type": "execute_result"
    }
   ],
   "source": [
    "model.test_ids.values.transpose()"
   ]
  },
  {
   "cell_type": "code",
   "execution_count": 29,
   "metadata": {},
   "outputs": [],
   "source": [
    "df_submission = pd.DataFrame([model.test_ids.values, model.sub_preds_abs]).transpose()"
   ]
  },
  {
   "cell_type": "code",
   "execution_count": 30,
   "metadata": {},
   "outputs": [],
   "source": [
    "df_submission.columns=['OBS_ID', 'success']"
   ]
  },
  {
   "cell_type": "code",
   "execution_count": 35,
   "metadata": {},
   "outputs": [],
   "source": [
    "df_submission['OBS_ID']=df_submission.OBS_ID.astype(int)"
   ]
  },
  {
   "cell_type": "code",
   "execution_count": 37,
   "metadata": {},
   "outputs": [],
   "source": [
    "df_submission['success'] = df_submission.success.astype(int)"
   ]
  },
  {
   "cell_type": "code",
   "execution_count": 38,
   "metadata": {},
   "outputs": [],
   "source": [
    "df_submission.to_csv('data/submissions/submission06.csv',index=None)"
   ]
  },
  {
   "cell_type": "code",
   "execution_count": 8,
   "metadata": {},
   "outputs": [],
   "source": [
    "from sklearn.model_selection import KFold\n"
   ]
  },
  {
   "cell_type": "code",
   "execution_count": 9,
   "metadata": {},
   "outputs": [],
   "source": [
    "folds = KFold(n_splits=5, shuffle=True, random_state=123)"
   ]
  },
  {
   "cell_type": "code",
   "execution_count": 15,
   "metadata": {},
   "outputs": [],
   "source": [
    "oof_preds = np.zeros(lbm.X_train.shape[0])\n",
    "sub_preds = np.zeros(lbm.X_test.shape[0])"
   ]
  },
  {
   "cell_type": "code",
   "execution_count": 18,
   "metadata": {},
   "outputs": [
    {
     "data": {
      "text/plain": [
       "(4757,)"
      ]
     },
     "execution_count": 18,
     "metadata": {},
     "output_type": "execute_result"
    }
   ],
   "source": [
    "oof_preds.shape"
   ]
  },
  {
   "cell_type": "code",
   "execution_count": 19,
   "metadata": {},
   "outputs": [
    {
     "data": {
      "text/plain": [
       "(1001,)"
      ]
     },
     "execution_count": 19,
     "metadata": {},
     "output_type": "execute_result"
    }
   ],
   "source": [
    "sub_preds.shape"
   ]
  },
  {
   "cell_type": "code",
   "execution_count": 23,
   "metadata": {},
   "outputs": [
    {
     "name": "stdout",
     "output_type": "stream",
     "text": [
      "0\n",
      "3805\n",
      "952\n",
      "==========================\n",
      "1\n",
      "3805\n",
      "952\n",
      "==========================\n",
      "2\n",
      "3806\n",
      "951\n",
      "==========================\n",
      "3\n",
      "3806\n",
      "951\n",
      "==========================\n",
      "4\n",
      "3806\n",
      "951\n",
      "==========================\n"
     ]
    }
   ],
   "source": [
    "for n_fold, (trn_idx, val_idx) in enumerate(folds.split(lbm.X_train)):\n",
    "    print(n_fold)\n",
    "    print(len(trn_idx))\n",
    "    print(len(val_idx))\n",
    "    print(\"==========================\")"
   ]
  },
  {
   "cell_type": "code",
   "execution_count": 27,
   "metadata": {},
   "outputs": [
    {
     "name": "stdout",
     "output_type": "stream",
     "text": [
      "[   0    1    2 ... 4754 4755 4756]\n"
     ]
    },
    {
     "ename": "IndexError",
     "evalue": "positional indexers are out-of-bounds",
     "output_type": "error",
     "traceback": [
      "\u001b[0;31m---------------------------------------------------------------------------\u001b[0m",
      "\u001b[0;31mIndexError\u001b[0m                                Traceback (most recent call last)",
      "\u001b[0;32m~/.local/share/virtualenvs/data_science_for_business_lmu-1wV0OWeh/lib/python3.7/site-packages/pandas/core/indexing.py\u001b[0m in \u001b[0;36m_get_list_axis\u001b[0;34m(self, key, axis)\u001b[0m\n\u001b[1;32m   2129\u001b[0m         \u001b[0;32mtry\u001b[0m\u001b[0;34m:\u001b[0m\u001b[0;34m\u001b[0m\u001b[0;34m\u001b[0m\u001b[0m\n\u001b[0;32m-> 2130\u001b[0;31m             \u001b[0;32mreturn\u001b[0m \u001b[0mself\u001b[0m\u001b[0;34m.\u001b[0m\u001b[0mobj\u001b[0m\u001b[0;34m.\u001b[0m\u001b[0mtake\u001b[0m\u001b[0;34m(\u001b[0m\u001b[0mkey\u001b[0m\u001b[0;34m,\u001b[0m \u001b[0maxis\u001b[0m\u001b[0;34m=\u001b[0m\u001b[0maxis\u001b[0m\u001b[0;34m)\u001b[0m\u001b[0;34m\u001b[0m\u001b[0;34m\u001b[0m\u001b[0m\n\u001b[0m\u001b[1;32m   2131\u001b[0m         \u001b[0;32mexcept\u001b[0m \u001b[0mIndexError\u001b[0m\u001b[0;34m:\u001b[0m\u001b[0;34m\u001b[0m\u001b[0;34m\u001b[0m\u001b[0m\n",
      "\u001b[0;32m~/.local/share/virtualenvs/data_science_for_business_lmu-1wV0OWeh/lib/python3.7/site-packages/pandas/core/generic.py\u001b[0m in \u001b[0;36mtake\u001b[0;34m(self, indices, axis, is_copy, **kwargs)\u001b[0m\n\u001b[1;32m   3603\u001b[0m         new_data = self._data.take(\n\u001b[0;32m-> 3604\u001b[0;31m             \u001b[0mindices\u001b[0m\u001b[0;34m,\u001b[0m \u001b[0maxis\u001b[0m\u001b[0;34m=\u001b[0m\u001b[0mself\u001b[0m\u001b[0;34m.\u001b[0m\u001b[0m_get_block_manager_axis\u001b[0m\u001b[0;34m(\u001b[0m\u001b[0maxis\u001b[0m\u001b[0;34m)\u001b[0m\u001b[0;34m,\u001b[0m \u001b[0mverify\u001b[0m\u001b[0;34m=\u001b[0m\u001b[0;32mTrue\u001b[0m\u001b[0;34m\u001b[0m\u001b[0;34m\u001b[0m\u001b[0m\n\u001b[0m\u001b[1;32m   3605\u001b[0m         )\n",
      "\u001b[0;32m~/.local/share/virtualenvs/data_science_for_business_lmu-1wV0OWeh/lib/python3.7/site-packages/pandas/core/internals/managers.py\u001b[0m in \u001b[0;36mtake\u001b[0;34m(self, indexer, axis, verify, convert)\u001b[0m\n\u001b[1;32m   1388\u001b[0m         \u001b[0;32mif\u001b[0m \u001b[0mconvert\u001b[0m\u001b[0;34m:\u001b[0m\u001b[0;34m\u001b[0m\u001b[0;34m\u001b[0m\u001b[0m\n\u001b[0;32m-> 1389\u001b[0;31m             \u001b[0mindexer\u001b[0m \u001b[0;34m=\u001b[0m \u001b[0mmaybe_convert_indices\u001b[0m\u001b[0;34m(\u001b[0m\u001b[0mindexer\u001b[0m\u001b[0;34m,\u001b[0m \u001b[0mn\u001b[0m\u001b[0;34m)\u001b[0m\u001b[0;34m\u001b[0m\u001b[0;34m\u001b[0m\u001b[0m\n\u001b[0m\u001b[1;32m   1390\u001b[0m \u001b[0;34m\u001b[0m\u001b[0m\n",
      "\u001b[0;32m~/.local/share/virtualenvs/data_science_for_business_lmu-1wV0OWeh/lib/python3.7/site-packages/pandas/core/indexers.py\u001b[0m in \u001b[0;36mmaybe_convert_indices\u001b[0;34m(indices, n)\u001b[0m\n\u001b[1;32m    200\u001b[0m     \u001b[0;32mif\u001b[0m \u001b[0mmask\u001b[0m\u001b[0;34m.\u001b[0m\u001b[0many\u001b[0m\u001b[0;34m(\u001b[0m\u001b[0;34m)\u001b[0m\u001b[0;34m:\u001b[0m\u001b[0;34m\u001b[0m\u001b[0;34m\u001b[0m\u001b[0m\n\u001b[0;32m--> 201\u001b[0;31m         \u001b[0;32mraise\u001b[0m \u001b[0mIndexError\u001b[0m\u001b[0;34m(\u001b[0m\u001b[0;34m\"indices are out-of-bounds\"\u001b[0m\u001b[0;34m)\u001b[0m\u001b[0;34m\u001b[0m\u001b[0;34m\u001b[0m\u001b[0m\n\u001b[0m\u001b[1;32m    202\u001b[0m     \u001b[0;32mreturn\u001b[0m \u001b[0mindices\u001b[0m\u001b[0;34m\u001b[0m\u001b[0;34m\u001b[0m\u001b[0m\n",
      "\u001b[0;31mIndexError\u001b[0m: indices are out-of-bounds",
      "\nDuring handling of the above exception, another exception occurred:\n",
      "\u001b[0;31mIndexError\u001b[0m                                Traceback (most recent call last)",
      "\u001b[0;32m<ipython-input-27-ca3cab5c2553>\u001b[0m in \u001b[0;36m<module>\u001b[0;34m\u001b[0m\n\u001b[1;32m      1\u001b[0m \u001b[0;32mfor\u001b[0m \u001b[0mn_fold\u001b[0m\u001b[0;34m,\u001b[0m \u001b[0;34m(\u001b[0m\u001b[0mtrn_idx\u001b[0m\u001b[0;34m,\u001b[0m \u001b[0mval_idx\u001b[0m\u001b[0;34m)\u001b[0m \u001b[0;32min\u001b[0m \u001b[0menumerate\u001b[0m\u001b[0;34m(\u001b[0m\u001b[0mfolds\u001b[0m\u001b[0;34m.\u001b[0m\u001b[0msplit\u001b[0m\u001b[0;34m(\u001b[0m\u001b[0mlbm\u001b[0m\u001b[0;34m.\u001b[0m\u001b[0mX_train\u001b[0m\u001b[0;34m)\u001b[0m\u001b[0;34m)\u001b[0m\u001b[0;34m:\u001b[0m\u001b[0;34m\u001b[0m\u001b[0;34m\u001b[0m\u001b[0m\n\u001b[1;32m      2\u001b[0m     \u001b[0mprint\u001b[0m\u001b[0;34m(\u001b[0m\u001b[0mtrn_idx\u001b[0m\u001b[0;34m)\u001b[0m\u001b[0;34m\u001b[0m\u001b[0;34m\u001b[0m\u001b[0m\n\u001b[0;32m----> 3\u001b[0;31m     \u001b[0mtrn_x\u001b[0m\u001b[0;34m,\u001b[0m \u001b[0mtrn_y\u001b[0m \u001b[0;34m=\u001b[0m \u001b[0mlbm\u001b[0m\u001b[0;34m.\u001b[0m\u001b[0mX_train\u001b[0m\u001b[0;34m.\u001b[0m\u001b[0miloc\u001b[0m\u001b[0;34m[\u001b[0m\u001b[0mtrn_idx\u001b[0m\u001b[0;34m]\u001b[0m\u001b[0;34m,\u001b[0m \u001b[0mlbm\u001b[0m\u001b[0;34m.\u001b[0m\u001b[0my_train\u001b[0m\u001b[0;34m.\u001b[0m\u001b[0miloc\u001b[0m\u001b[0;34m[\u001b[0m\u001b[0mtrn_idx\u001b[0m\u001b[0;34m]\u001b[0m\u001b[0;34m\u001b[0m\u001b[0;34m\u001b[0m\u001b[0m\n\u001b[0m\u001b[1;32m      4\u001b[0m     \u001b[0mval_x\u001b[0m\u001b[0;34m,\u001b[0m \u001b[0mval_y\u001b[0m \u001b[0;34m=\u001b[0m \u001b[0mlbm\u001b[0m\u001b[0;34m.\u001b[0m\u001b[0mX_train\u001b[0m\u001b[0;34m.\u001b[0m\u001b[0miloc\u001b[0m\u001b[0;34m[\u001b[0m\u001b[0mval_idx\u001b[0m\u001b[0;34m]\u001b[0m\u001b[0;34m,\u001b[0m \u001b[0mlbm\u001b[0m\u001b[0;34m.\u001b[0m\u001b[0my_train\u001b[0m\u001b[0;34m.\u001b[0m\u001b[0miloc\u001b[0m\u001b[0;34m[\u001b[0m\u001b[0mval_idx\u001b[0m\u001b[0;34m]\u001b[0m\u001b[0;34m\u001b[0m\u001b[0;34m\u001b[0m\u001b[0m\n",
      "\u001b[0;32m~/.local/share/virtualenvs/data_science_for_business_lmu-1wV0OWeh/lib/python3.7/site-packages/pandas/core/indexing.py\u001b[0m in \u001b[0;36m__getitem__\u001b[0;34m(self, key)\u001b[0m\n\u001b[1;32m   1422\u001b[0m \u001b[0;34m\u001b[0m\u001b[0m\n\u001b[1;32m   1423\u001b[0m             \u001b[0mmaybe_callable\u001b[0m \u001b[0;34m=\u001b[0m \u001b[0mcom\u001b[0m\u001b[0;34m.\u001b[0m\u001b[0mapply_if_callable\u001b[0m\u001b[0;34m(\u001b[0m\u001b[0mkey\u001b[0m\u001b[0;34m,\u001b[0m \u001b[0mself\u001b[0m\u001b[0;34m.\u001b[0m\u001b[0mobj\u001b[0m\u001b[0;34m)\u001b[0m\u001b[0;34m\u001b[0m\u001b[0;34m\u001b[0m\u001b[0m\n\u001b[0;32m-> 1424\u001b[0;31m             \u001b[0;32mreturn\u001b[0m \u001b[0mself\u001b[0m\u001b[0;34m.\u001b[0m\u001b[0m_getitem_axis\u001b[0m\u001b[0;34m(\u001b[0m\u001b[0mmaybe_callable\u001b[0m\u001b[0;34m,\u001b[0m \u001b[0maxis\u001b[0m\u001b[0;34m=\u001b[0m\u001b[0maxis\u001b[0m\u001b[0;34m)\u001b[0m\u001b[0;34m\u001b[0m\u001b[0;34m\u001b[0m\u001b[0m\n\u001b[0m\u001b[1;32m   1425\u001b[0m \u001b[0;34m\u001b[0m\u001b[0m\n\u001b[1;32m   1426\u001b[0m     \u001b[0;32mdef\u001b[0m \u001b[0m_is_scalar_access\u001b[0m\u001b[0;34m(\u001b[0m\u001b[0mself\u001b[0m\u001b[0;34m,\u001b[0m \u001b[0mkey\u001b[0m\u001b[0;34m:\u001b[0m \u001b[0mTuple\u001b[0m\u001b[0;34m)\u001b[0m\u001b[0;34m:\u001b[0m\u001b[0;34m\u001b[0m\u001b[0;34m\u001b[0m\u001b[0m\n",
      "\u001b[0;32m~/.local/share/virtualenvs/data_science_for_business_lmu-1wV0OWeh/lib/python3.7/site-packages/pandas/core/indexing.py\u001b[0m in \u001b[0;36m_getitem_axis\u001b[0;34m(self, key, axis)\u001b[0m\n\u001b[1;32m   2146\u001b[0m         \u001b[0;31m# a list of integers\u001b[0m\u001b[0;34m\u001b[0m\u001b[0;34m\u001b[0m\u001b[0;34m\u001b[0m\u001b[0m\n\u001b[1;32m   2147\u001b[0m         \u001b[0;32melif\u001b[0m \u001b[0mis_list_like_indexer\u001b[0m\u001b[0;34m(\u001b[0m\u001b[0mkey\u001b[0m\u001b[0;34m)\u001b[0m\u001b[0;34m:\u001b[0m\u001b[0;34m\u001b[0m\u001b[0;34m\u001b[0m\u001b[0m\n\u001b[0;32m-> 2148\u001b[0;31m             \u001b[0;32mreturn\u001b[0m \u001b[0mself\u001b[0m\u001b[0;34m.\u001b[0m\u001b[0m_get_list_axis\u001b[0m\u001b[0;34m(\u001b[0m\u001b[0mkey\u001b[0m\u001b[0;34m,\u001b[0m \u001b[0maxis\u001b[0m\u001b[0;34m=\u001b[0m\u001b[0maxis\u001b[0m\u001b[0;34m)\u001b[0m\u001b[0;34m\u001b[0m\u001b[0;34m\u001b[0m\u001b[0m\n\u001b[0m\u001b[1;32m   2149\u001b[0m \u001b[0;34m\u001b[0m\u001b[0m\n\u001b[1;32m   2150\u001b[0m         \u001b[0;31m# a single integer\u001b[0m\u001b[0;34m\u001b[0m\u001b[0;34m\u001b[0m\u001b[0;34m\u001b[0m\u001b[0m\n",
      "\u001b[0;32m~/.local/share/virtualenvs/data_science_for_business_lmu-1wV0OWeh/lib/python3.7/site-packages/pandas/core/indexing.py\u001b[0m in \u001b[0;36m_get_list_axis\u001b[0;34m(self, key, axis)\u001b[0m\n\u001b[1;32m   2131\u001b[0m         \u001b[0;32mexcept\u001b[0m \u001b[0mIndexError\u001b[0m\u001b[0;34m:\u001b[0m\u001b[0;34m\u001b[0m\u001b[0;34m\u001b[0m\u001b[0m\n\u001b[1;32m   2132\u001b[0m             \u001b[0;31m# re-raise with different error message\u001b[0m\u001b[0;34m\u001b[0m\u001b[0;34m\u001b[0m\u001b[0;34m\u001b[0m\u001b[0m\n\u001b[0;32m-> 2133\u001b[0;31m             \u001b[0;32mraise\u001b[0m \u001b[0mIndexError\u001b[0m\u001b[0;34m(\u001b[0m\u001b[0;34m\"positional indexers are out-of-bounds\"\u001b[0m\u001b[0;34m)\u001b[0m\u001b[0;34m\u001b[0m\u001b[0;34m\u001b[0m\u001b[0m\n\u001b[0m\u001b[1;32m   2134\u001b[0m \u001b[0;34m\u001b[0m\u001b[0m\n\u001b[1;32m   2135\u001b[0m     \u001b[0;32mdef\u001b[0m \u001b[0m_getitem_axis\u001b[0m\u001b[0;34m(\u001b[0m\u001b[0mself\u001b[0m\u001b[0;34m,\u001b[0m \u001b[0mkey\u001b[0m\u001b[0;34m,\u001b[0m \u001b[0maxis\u001b[0m\u001b[0;34m:\u001b[0m \u001b[0mint\u001b[0m\u001b[0;34m)\u001b[0m\u001b[0;34m:\u001b[0m\u001b[0;34m\u001b[0m\u001b[0;34m\u001b[0m\u001b[0m\n",
      "\u001b[0;31mIndexError\u001b[0m: positional indexers are out-of-bounds"
     ]
    }
   ],
   "source": [
    "for n_fold, (trn_idx, val_idx) in enumerate(folds.split(lbm.X_train)):\n",
    "    print(trn_idx)\n",
    "    trn_x, trn_y = lbm.X_train.iloc[trn_idx], lbm.y_train.iloc[trn_idx]\n",
    "    val_x, val_y = lbm.X_train.iloc[val_idx], lbm.y_train.iloc[val_idx]\n"
   ]
  },
  {
   "cell_type": "code",
   "execution_count": 29,
   "metadata": {},
   "outputs": [
    {
     "data": {
      "text/plain": [
       "3805"
      ]
     },
     "execution_count": 29,
     "metadata": {},
     "output_type": "execute_result"
    }
   ],
   "source": [
    "len(trn_idx)"
   ]
  },
  {
   "cell_type": "code",
   "execution_count": 30,
   "metadata": {},
   "outputs": [
    {
     "data": {
      "text/html": [
       "<div>\n",
       "<style scoped>\n",
       "    .dataframe tbody tr th:only-of-type {\n",
       "        vertical-align: middle;\n",
       "    }\n",
       "\n",
       "    .dataframe tbody tr th {\n",
       "        vertical-align: top;\n",
       "    }\n",
       "\n",
       "    .dataframe thead th {\n",
       "        text-align: right;\n",
       "    }\n",
       "</style>\n",
       "<table border=\"1\" class=\"dataframe\">\n",
       "  <thead>\n",
       "    <tr style=\"text-align: right;\">\n",
       "      <th></th>\n",
       "      <th>transaction_count</th>\n",
       "      <th>holder_count</th>\n",
       "      <th>market_data_current_price_usd</th>\n",
       "      <th>market_data_ath_usd</th>\n",
       "      <th>market_data_total_supply</th>\n",
       "      <th>market_data_circulating_supply</th>\n",
       "      <th>public_interest_stats_bing_matches</th>\n",
       "      <th>labels_categories_0</th>\n",
       "      <th>labels_country_origin</th>\n",
       "      <th>labels_ico_data_country_origin</th>\n",
       "      <th>labels_ico_data_hardcap_currency</th>\n",
       "      <th>labels_ico_data_softcap_currency</th>\n",
       "      <th>labels_ico_data_total_raised_currency</th>\n",
       "    </tr>\n",
       "  </thead>\n",
       "  <tbody>\n",
       "    <tr>\n",
       "      <th>0</th>\n",
       "      <td>48262.141038</td>\n",
       "      <td>13576.305982</td>\n",
       "      <td>1.676610e-03</td>\n",
       "      <td>0.034182</td>\n",
       "      <td>6.565882e+07</td>\n",
       "      <td>8.627700e+13</td>\n",
       "      <td>23900.0</td>\n",
       "      <td>23</td>\n",
       "      <td>79</td>\n",
       "      <td>59</td>\n",
       "      <td>23</td>\n",
       "      <td>15</td>\n",
       "      <td>7</td>\n",
       "    </tr>\n",
       "    <tr>\n",
       "      <th>1</th>\n",
       "      <td>975773.000000</td>\n",
       "      <td>109840.000000</td>\n",
       "      <td>2.315610e-01</td>\n",
       "      <td>43587.000000</td>\n",
       "      <td>1.000000e+09</td>\n",
       "      <td>6.008030e+15</td>\n",
       "      <td>686000.0</td>\n",
       "      <td>29</td>\n",
       "      <td>111</td>\n",
       "      <td>82</td>\n",
       "      <td>23</td>\n",
       "      <td>15</td>\n",
       "      <td>10</td>\n",
       "    </tr>\n",
       "    <tr>\n",
       "      <th>2</th>\n",
       "      <td>22730.000000</td>\n",
       "      <td>13914.000000</td>\n",
       "      <td>7.173600e-04</td>\n",
       "      <td>0.043750</td>\n",
       "      <td>5.000000e+08</td>\n",
       "      <td>4.400000e+08</td>\n",
       "      <td>27500.0</td>\n",
       "      <td>29</td>\n",
       "      <td>102</td>\n",
       "      <td>76</td>\n",
       "      <td>14</td>\n",
       "      <td>8</td>\n",
       "      <td>10</td>\n",
       "    </tr>\n",
       "    <tr>\n",
       "      <th>3</th>\n",
       "      <td>125.000000</td>\n",
       "      <td>51.000000</td>\n",
       "      <td>3.360274e-02</td>\n",
       "      <td>43505.000000</td>\n",
       "      <td>5.000000e+06</td>\n",
       "      <td>0.000000e+00</td>\n",
       "      <td>27500.0</td>\n",
       "      <td>26</td>\n",
       "      <td>79</td>\n",
       "      <td>59</td>\n",
       "      <td>23</td>\n",
       "      <td>15</td>\n",
       "      <td>7</td>\n",
       "    </tr>\n",
       "    <tr>\n",
       "      <th>5</th>\n",
       "      <td>14377.000000</td>\n",
       "      <td>4396.000000</td>\n",
       "      <td>1.345523e-02</td>\n",
       "      <td>0.129215</td>\n",
       "      <td>5.000000e+09</td>\n",
       "      <td>0.000000e+00</td>\n",
       "      <td>38200.0</td>\n",
       "      <td>26</td>\n",
       "      <td>79</td>\n",
       "      <td>59</td>\n",
       "      <td>23</td>\n",
       "      <td>15</td>\n",
       "      <td>7</td>\n",
       "    </tr>\n",
       "    <tr>\n",
       "      <th>...</th>\n",
       "      <td>...</td>\n",
       "      <td>...</td>\n",
       "      <td>...</td>\n",
       "      <td>...</td>\n",
       "      <td>...</td>\n",
       "      <td>...</td>\n",
       "      <td>...</td>\n",
       "      <td>...</td>\n",
       "      <td>...</td>\n",
       "      <td>...</td>\n",
       "      <td>...</td>\n",
       "      <td>...</td>\n",
       "      <td>...</td>\n",
       "    </tr>\n",
       "    <tr>\n",
       "      <th>4752</th>\n",
       "      <td>16776.000000</td>\n",
       "      <td>4829.000000</td>\n",
       "      <td>2.988830e-03</td>\n",
       "      <td>25965.000000</td>\n",
       "      <td>1.050000e+08</td>\n",
       "      <td>0.000000e+00</td>\n",
       "      <td>62100.0</td>\n",
       "      <td>26</td>\n",
       "      <td>23</td>\n",
       "      <td>59</td>\n",
       "      <td>23</td>\n",
       "      <td>15</td>\n",
       "      <td>7</td>\n",
       "    </tr>\n",
       "    <tr>\n",
       "      <th>4753</th>\n",
       "      <td>48262.141038</td>\n",
       "      <td>13576.305982</td>\n",
       "      <td>1.745867e-02</td>\n",
       "      <td>0.740470</td>\n",
       "      <td>1.261440e+07</td>\n",
       "      <td>0.000000e+00</td>\n",
       "      <td>27400.0</td>\n",
       "      <td>19</td>\n",
       "      <td>39</td>\n",
       "      <td>59</td>\n",
       "      <td>23</td>\n",
       "      <td>15</td>\n",
       "      <td>7</td>\n",
       "    </tr>\n",
       "    <tr>\n",
       "      <th>4754</th>\n",
       "      <td>48262.141038</td>\n",
       "      <td>13576.305982</td>\n",
       "      <td>8.420000e-02</td>\n",
       "      <td>0.012000</td>\n",
       "      <td>1.275000e+08</td>\n",
       "      <td>0.000000e+00</td>\n",
       "      <td>89000.0</td>\n",
       "      <td>26</td>\n",
       "      <td>79</td>\n",
       "      <td>59</td>\n",
       "      <td>23</td>\n",
       "      <td>15</td>\n",
       "      <td>7</td>\n",
       "    </tr>\n",
       "    <tr>\n",
       "      <th>4755</th>\n",
       "      <td>168.000000</td>\n",
       "      <td>34.000000</td>\n",
       "      <td>6.000000e-07</td>\n",
       "      <td>0.003540</td>\n",
       "      <td>2.000000e+11</td>\n",
       "      <td>0.000000e+00</td>\n",
       "      <td>82800.0</td>\n",
       "      <td>26</td>\n",
       "      <td>39</td>\n",
       "      <td>59</td>\n",
       "      <td>23</td>\n",
       "      <td>15</td>\n",
       "      <td>7</td>\n",
       "    </tr>\n",
       "    <tr>\n",
       "      <th>4756</th>\n",
       "      <td>48262.141038</td>\n",
       "      <td>13576.305982</td>\n",
       "      <td>3.400000e-02</td>\n",
       "      <td>0.000786</td>\n",
       "      <td>3.000000e+08</td>\n",
       "      <td>0.000000e+00</td>\n",
       "      <td>27400.0</td>\n",
       "      <td>23</td>\n",
       "      <td>79</td>\n",
       "      <td>59</td>\n",
       "      <td>23</td>\n",
       "      <td>15</td>\n",
       "      <td>7</td>\n",
       "    </tr>\n",
       "  </tbody>\n",
       "</table>\n",
       "<p>3805 rows × 13 columns</p>\n",
       "</div>"
      ],
      "text/plain": [
       "      transaction_count   holder_count  market_data_current_price_usd  ...  labels_ico_data_hardcap_currency  labels_ico_data_softcap_currency  labels_ico_data_total_raised_currency\n",
       "0          48262.141038   13576.305982                   1.676610e-03  ...                                23                                15                                      7\n",
       "1         975773.000000  109840.000000                   2.315610e-01  ...                                23                                15                                     10\n",
       "2          22730.000000   13914.000000                   7.173600e-04  ...                                14                                 8                                     10\n",
       "3            125.000000      51.000000                   3.360274e-02  ...                                23                                15                                      7\n",
       "5          14377.000000    4396.000000                   1.345523e-02  ...                                23                                15                                      7\n",
       "...                 ...            ...                            ...  ...                               ...                               ...                                    ...\n",
       "4752       16776.000000    4829.000000                   2.988830e-03  ...                                23                                15                                      7\n",
       "4753       48262.141038   13576.305982                   1.745867e-02  ...                                23                                15                                      7\n",
       "4754       48262.141038   13576.305982                   8.420000e-02  ...                                23                                15                                      7\n",
       "4755         168.000000      34.000000                   6.000000e-07  ...                                23                                15                                      7\n",
       "4756       48262.141038   13576.305982                   3.400000e-02  ...                                23                                15                                      7\n",
       "\n",
       "[3805 rows x 13 columns]"
      ]
     },
     "execution_count": 30,
     "metadata": {},
     "output_type": "execute_result"
    }
   ],
   "source": [
    "lbm.X_train.iloc[trn_idx]"
   ]
  },
  {
   "cell_type": "code",
   "execution_count": 32,
   "metadata": {},
   "outputs": [
    {
     "data": {
      "text/plain": [
       "(4756, 1)"
      ]
     },
     "execution_count": 32,
     "metadata": {},
     "output_type": "execute_result"
    }
   ],
   "source": [
    "lbm.y_train.shape"
   ]
  },
  {
   "cell_type": "code",
   "execution_count": 35,
   "metadata": {},
   "outputs": [
    {
     "data": {
      "text/plain": [
       "array([   0,    1,    2, ..., 4754, 4755, 4756])"
      ]
     },
     "execution_count": 35,
     "metadata": {},
     "output_type": "execute_result"
    }
   ],
   "source": [
    "trn_idx"
   ]
  },
  {
   "cell_type": "code",
   "execution_count": 39,
   "metadata": {},
   "outputs": [
    {
     "data": {
      "text/plain": [
       "4757"
      ]
     },
     "execution_count": 39,
     "metadata": {},
     "output_type": "execute_result"
    }
   ],
   "source": [
    "len(lbm.X_train)"
   ]
  },
  {
   "cell_type": "code",
   "execution_count": 38,
   "metadata": {},
   "outputs": [
    {
     "data": {
      "text/plain": [
       "4756"
      ]
     },
     "execution_count": 38,
     "metadata": {},
     "output_type": "execute_result"
    }
   ],
   "source": [
    "len(lbm.y_train)"
   ]
  },
  {
   "cell_type": "code",
   "execution_count": 43,
   "metadata": {},
   "outputs": [
    {
     "data": {
      "text/html": [
       "<div>\n",
       "<style scoped>\n",
       "    .dataframe tbody tr th:only-of-type {\n",
       "        vertical-align: middle;\n",
       "    }\n",
       "\n",
       "    .dataframe tbody tr th {\n",
       "        vertical-align: top;\n",
       "    }\n",
       "\n",
       "    .dataframe thead th {\n",
       "        text-align: right;\n",
       "    }\n",
       "</style>\n",
       "<table border=\"1\" class=\"dataframe\">\n",
       "  <thead>\n",
       "    <tr style=\"text-align: right;\">\n",
       "      <th></th>\n",
       "      <th>transaction_count</th>\n",
       "      <th>holder_count</th>\n",
       "      <th>market_data_current_price_usd</th>\n",
       "      <th>market_data_ath_usd</th>\n",
       "      <th>market_data_total_supply</th>\n",
       "      <th>market_data_circulating_supply</th>\n",
       "      <th>public_interest_stats_bing_matches</th>\n",
       "      <th>labels_categories_0</th>\n",
       "      <th>labels_country_origin</th>\n",
       "      <th>labels_ico_data_country_origin</th>\n",
       "      <th>labels_ico_data_hardcap_currency</th>\n",
       "      <th>labels_ico_data_softcap_currency</th>\n",
       "      <th>labels_ico_data_total_raised_currency</th>\n",
       "    </tr>\n",
       "  </thead>\n",
       "  <tbody>\n",
       "    <tr>\n",
       "      <th>0</th>\n",
       "      <td>48262.141038</td>\n",
       "      <td>13576.305982</td>\n",
       "      <td>1.676610e-03</td>\n",
       "      <td>0.034182</td>\n",
       "      <td>6.565882e+07</td>\n",
       "      <td>8.627700e+13</td>\n",
       "      <td>23900.0</td>\n",
       "      <td>23</td>\n",
       "      <td>79</td>\n",
       "      <td>59</td>\n",
       "      <td>23</td>\n",
       "      <td>15</td>\n",
       "      <td>7</td>\n",
       "    </tr>\n",
       "    <tr>\n",
       "      <th>1</th>\n",
       "      <td>975773.000000</td>\n",
       "      <td>109840.000000</td>\n",
       "      <td>2.315610e-01</td>\n",
       "      <td>43587.000000</td>\n",
       "      <td>1.000000e+09</td>\n",
       "      <td>6.008030e+15</td>\n",
       "      <td>686000.0</td>\n",
       "      <td>29</td>\n",
       "      <td>111</td>\n",
       "      <td>82</td>\n",
       "      <td>23</td>\n",
       "      <td>15</td>\n",
       "      <td>10</td>\n",
       "    </tr>\n",
       "    <tr>\n",
       "      <th>2</th>\n",
       "      <td>22730.000000</td>\n",
       "      <td>13914.000000</td>\n",
       "      <td>7.173600e-04</td>\n",
       "      <td>0.043750</td>\n",
       "      <td>5.000000e+08</td>\n",
       "      <td>4.400000e+08</td>\n",
       "      <td>27500.0</td>\n",
       "      <td>29</td>\n",
       "      <td>102</td>\n",
       "      <td>76</td>\n",
       "      <td>14</td>\n",
       "      <td>8</td>\n",
       "      <td>10</td>\n",
       "    </tr>\n",
       "    <tr>\n",
       "      <th>3</th>\n",
       "      <td>125.000000</td>\n",
       "      <td>51.000000</td>\n",
       "      <td>3.360274e-02</td>\n",
       "      <td>43505.000000</td>\n",
       "      <td>5.000000e+06</td>\n",
       "      <td>0.000000e+00</td>\n",
       "      <td>27500.0</td>\n",
       "      <td>26</td>\n",
       "      <td>79</td>\n",
       "      <td>59</td>\n",
       "      <td>23</td>\n",
       "      <td>15</td>\n",
       "      <td>7</td>\n",
       "    </tr>\n",
       "    <tr>\n",
       "      <th>4</th>\n",
       "      <td>16417.000000</td>\n",
       "      <td>6250.000000</td>\n",
       "      <td>8.870100e-04</td>\n",
       "      <td>0.030843</td>\n",
       "      <td>1.000000e+07</td>\n",
       "      <td>0.000000e+00</td>\n",
       "      <td>703000.0</td>\n",
       "      <td>26</td>\n",
       "      <td>79</td>\n",
       "      <td>59</td>\n",
       "      <td>23</td>\n",
       "      <td>15</td>\n",
       "      <td>7</td>\n",
       "    </tr>\n",
       "    <tr>\n",
       "      <th>...</th>\n",
       "      <td>...</td>\n",
       "      <td>...</td>\n",
       "      <td>...</td>\n",
       "      <td>...</td>\n",
       "      <td>...</td>\n",
       "      <td>...</td>\n",
       "      <td>...</td>\n",
       "      <td>...</td>\n",
       "      <td>...</td>\n",
       "      <td>...</td>\n",
       "      <td>...</td>\n",
       "      <td>...</td>\n",
       "      <td>...</td>\n",
       "    </tr>\n",
       "    <tr>\n",
       "      <th>4752</th>\n",
       "      <td>16776.000000</td>\n",
       "      <td>4829.000000</td>\n",
       "      <td>2.988830e-03</td>\n",
       "      <td>25965.000000</td>\n",
       "      <td>1.050000e+08</td>\n",
       "      <td>0.000000e+00</td>\n",
       "      <td>62100.0</td>\n",
       "      <td>26</td>\n",
       "      <td>23</td>\n",
       "      <td>59</td>\n",
       "      <td>23</td>\n",
       "      <td>15</td>\n",
       "      <td>7</td>\n",
       "    </tr>\n",
       "    <tr>\n",
       "      <th>4753</th>\n",
       "      <td>48262.141038</td>\n",
       "      <td>13576.305982</td>\n",
       "      <td>1.745867e-02</td>\n",
       "      <td>0.740470</td>\n",
       "      <td>1.261440e+07</td>\n",
       "      <td>0.000000e+00</td>\n",
       "      <td>27400.0</td>\n",
       "      <td>19</td>\n",
       "      <td>39</td>\n",
       "      <td>59</td>\n",
       "      <td>23</td>\n",
       "      <td>15</td>\n",
       "      <td>7</td>\n",
       "    </tr>\n",
       "    <tr>\n",
       "      <th>4754</th>\n",
       "      <td>48262.141038</td>\n",
       "      <td>13576.305982</td>\n",
       "      <td>8.420000e-02</td>\n",
       "      <td>0.012000</td>\n",
       "      <td>1.275000e+08</td>\n",
       "      <td>0.000000e+00</td>\n",
       "      <td>89000.0</td>\n",
       "      <td>26</td>\n",
       "      <td>79</td>\n",
       "      <td>59</td>\n",
       "      <td>23</td>\n",
       "      <td>15</td>\n",
       "      <td>7</td>\n",
       "    </tr>\n",
       "    <tr>\n",
       "      <th>4755</th>\n",
       "      <td>168.000000</td>\n",
       "      <td>34.000000</td>\n",
       "      <td>6.000000e-07</td>\n",
       "      <td>0.003540</td>\n",
       "      <td>2.000000e+11</td>\n",
       "      <td>0.000000e+00</td>\n",
       "      <td>82800.0</td>\n",
       "      <td>26</td>\n",
       "      <td>39</td>\n",
       "      <td>59</td>\n",
       "      <td>23</td>\n",
       "      <td>15</td>\n",
       "      <td>7</td>\n",
       "    </tr>\n",
       "    <tr>\n",
       "      <th>4756</th>\n",
       "      <td>48262.141038</td>\n",
       "      <td>13576.305982</td>\n",
       "      <td>3.400000e-02</td>\n",
       "      <td>0.000786</td>\n",
       "      <td>3.000000e+08</td>\n",
       "      <td>0.000000e+00</td>\n",
       "      <td>27400.0</td>\n",
       "      <td>23</td>\n",
       "      <td>79</td>\n",
       "      <td>59</td>\n",
       "      <td>23</td>\n",
       "      <td>15</td>\n",
       "      <td>7</td>\n",
       "    </tr>\n",
       "  </tbody>\n",
       "</table>\n",
       "<p>4757 rows × 13 columns</p>\n",
       "</div>"
      ],
      "text/plain": [
       "      transaction_count   holder_count  market_data_current_price_usd  ...  labels_ico_data_hardcap_currency  labels_ico_data_softcap_currency  labels_ico_data_total_raised_currency\n",
       "0          48262.141038   13576.305982                   1.676610e-03  ...                                23                                15                                      7\n",
       "1         975773.000000  109840.000000                   2.315610e-01  ...                                23                                15                                     10\n",
       "2          22730.000000   13914.000000                   7.173600e-04  ...                                14                                 8                                     10\n",
       "3            125.000000      51.000000                   3.360274e-02  ...                                23                                15                                      7\n",
       "4          16417.000000    6250.000000                   8.870100e-04  ...                                23                                15                                      7\n",
       "...                 ...            ...                            ...  ...                               ...                               ...                                    ...\n",
       "4752       16776.000000    4829.000000                   2.988830e-03  ...                                23                                15                                      7\n",
       "4753       48262.141038   13576.305982                   1.745867e-02  ...                                23                                15                                      7\n",
       "4754       48262.141038   13576.305982                   8.420000e-02  ...                                23                                15                                      7\n",
       "4755         168.000000      34.000000                   6.000000e-07  ...                                23                                15                                      7\n",
       "4756       48262.141038   13576.305982                   3.400000e-02  ...                                23                                15                                      7\n",
       "\n",
       "[4757 rows x 13 columns]"
      ]
     },
     "execution_count": 43,
     "metadata": {},
     "output_type": "execute_result"
    }
   ],
   "source": [
    "lbm.X_train"
   ]
  },
  {
   "cell_type": "code",
   "execution_count": 30,
   "metadata": {},
   "outputs": [],
   "source": [
    "from src.features.feature_class import FeatureEngineering\n",
    "from src.features.utils import read_processed_data\n"
   ]
  },
  {
   "cell_type": "code",
   "execution_count": 31,
   "metadata": {},
   "outputs": [
    {
     "name": "stderr",
     "output_type": "stream",
     "text": [
      "2019-11-15 19:43:47,877 - src.features.utils - INFO - Shape of df_bitcoin: (2355, 1)\n",
      "2019-11-15 19:43:47,878 - src.features.utils - INFO - Shape of df: (4757, 92)\n"
     ]
    }
   ],
   "source": [
    "df_bitcoin, df, df_test = read_processed_data()"
   ]
  },
  {
   "cell_type": "code",
   "execution_count": 32,
   "metadata": {},
   "outputs": [
    {
     "name": "stderr",
     "output_type": "stream",
     "text": [
      "/c/Users/Sandro/repo/data_science_for_business_lmu/src/features/feature_class.py:29: FutureWarning: Sorting because non-concatenation axis is not aligned. A future version\n",
      "of pandas will change to not sort by default.\n",
      "\n",
      "To accept the future behavior, pass 'sort=False'.\n",
      "\n",
      "To retain the current behavior and silence the warning, pass 'sort=True'.\n",
      "\n",
      "  self.df = pd.concat([df, df_test])\n"
     ]
    }
   ],
   "source": [
    "fe = FeatureEngineering(df, df_bitcoin, df_test)"
   ]
  },
  {
   "cell_type": "code",
   "execution_count": 33,
   "metadata": {},
   "outputs": [
    {
     "name": "stderr",
     "output_type": "stream",
     "text": [
      "2019-11-15 19:43:49,594 - src.features.feature_class - INFO - Transform numerical variable for column transaction_count\n",
      "2019-11-15 19:43:49,596 - src.features.feature_class - INFO - Start filling NA values in transaction_count\n",
      "2019-11-15 19:43:49,603 - src.features.feature_class - INFO - Found 2695 NA values in column transaction_count\n",
      "2019-11-15 19:43:49,605 - src.features.feature_class - INFO - Filled NA values\n",
      "2019-11-15 19:43:49,618 - src.features.feature_class - INFO - Transform numerical variable for column holder_count\n",
      "2019-11-15 19:43:49,619 - src.features.feature_class - INFO - Start filling NA values in holder_count\n",
      "2019-11-15 19:43:49,626 - src.features.feature_class - INFO - Found 2699 NA values in column holder_count\n",
      "2019-11-15 19:43:49,628 - src.features.feature_class - INFO - Filled NA values\n",
      "2019-11-15 19:43:49,646 - src.features.feature_class - INFO - Transform numerical variable for column market_data_current_price_usd\n",
      "2019-11-15 19:43:49,648 - src.features.feature_class - INFO - Start filling NA values in market_data_current_price_usd\n",
      "2019-11-15 19:43:49,658 - src.features.feature_class - INFO - Found 48 NA values in column market_data_current_price_usd\n",
      "2019-11-15 19:43:49,661 - src.features.feature_class - INFO - Filled NA values\n",
      "2019-11-15 19:43:49,682 - src.features.feature_class - INFO - Transform numerical variable for column market_data_ath_usd\n",
      "2019-11-15 19:43:49,683 - src.features.feature_class - INFO - Start filling NA values in market_data_ath_usd\n",
      "2019-11-15 19:43:49,695 - src.features.feature_class - INFO - Found 48 NA values in column market_data_ath_usd\n",
      "2019-11-15 19:43:49,696 - src.features.feature_class - INFO - Filled NA values\n",
      "2019-11-15 19:43:49,718 - src.features.feature_class - INFO - Transform numerical variable for column market_data_total_supply\n",
      "2019-11-15 19:43:49,719 - src.features.feature_class - INFO - Start filling NA values in market_data_total_supply\n",
      "2019-11-15 19:43:49,729 - src.features.feature_class - INFO - Found 574 NA values in column market_data_total_supply\n",
      "2019-11-15 19:43:49,732 - src.features.feature_class - INFO - Filled NA values\n",
      "2019-11-15 19:43:49,751 - src.features.feature_class - INFO - Transform numerical variable for column market_data_circulating_supply\n",
      "2019-11-15 19:43:49,752 - src.features.feature_class - INFO - Start filling NA values in market_data_circulating_supply\n",
      "2019-11-15 19:43:49,766 - src.features.feature_class - INFO - Found 47 NA values in column market_data_circulating_supply\n",
      "2019-11-15 19:43:49,768 - src.features.feature_class - INFO - Filled NA values\n",
      "2019-11-15 19:43:49,787 - src.features.feature_class - INFO - Transform numerical variable for column public_interest_stats_bing_matches\n",
      "2019-11-15 19:43:49,788 - src.features.feature_class - INFO - Start filling NA values in public_interest_stats_bing_matches\n",
      "2019-11-15 19:43:49,800 - src.features.feature_class - INFO - Found 4 NA values in column public_interest_stats_bing_matches\n",
      "2019-11-15 19:43:49,802 - src.features.feature_class - INFO - Filled NA values\n",
      "2019-11-15 19:43:49,822 - src.features.feature_class - INFO - Transform categorical variable for column categories_0\n",
      "2019-11-15 19:43:49,869 - src.features.feature_class - INFO - Transform categorical variable for column country_origin\n",
      "2019-11-15 19:43:49,916 - src.features.feature_class - INFO - Transform categorical variable for column ico_data_country_origin\n",
      "2019-11-15 19:43:49,957 - src.features.feature_class - INFO - Transform categorical variable for column ico_data_hardcap_currency\n",
      "2019-11-15 19:43:49,998 - src.features.feature_class - INFO - Transform categorical variable for column ico_data_softcap_currency\n",
      "2019-11-15 19:43:50,040 - src.features.feature_class - INFO - Transform categorical variable for column ico_data_total_raised_currency\n"
     ]
    }
   ],
   "source": [
    "fe.construct_features()"
   ]
  },
  {
   "cell_type": "code",
   "execution_count": 34,
   "metadata": {},
   "outputs": [
    {
     "name": "stderr",
     "output_type": "stream",
     "text": [
      "2019-11-15 19:43:52,833 - src.features.feature_class - INFO - DF_train shape: (4757, 15)\n",
      "2019-11-15 19:43:52,839 - src.features.feature_class - INFO - df_test shape: (4757, 15)\n",
      "2019-11-15 19:43:52,844 - src.features.feature_class - INFO - X_train shape: (4757, 13)\n",
      "2019-11-15 19:43:52,846 - src.features.feature_class - INFO - y_train shape: (4757,)\n",
      "2019-11-15 19:43:52,848 - src.features.feature_class - INFO - X_test shape: (1001, 14)\n"
     ]
    }
   ],
   "source": [
    "X_train, y_train, X_test = fe.get_X_y()"
   ]
  },
  {
   "cell_type": "code",
   "execution_count": 56,
   "metadata": {},
   "outputs": [
    {
     "data": {
      "text/plain": [
       "(4757,)"
      ]
     },
     "execution_count": 56,
     "metadata": {},
     "output_type": "execute_result"
    }
   ],
   "source": [
    "y_train.shape"
   ]
  },
  {
   "cell_type": "code",
   "execution_count": 60,
   "metadata": {},
   "outputs": [],
   "source": [
    "y_train = y_train.values.astype(int)"
   ]
  },
  {
   "cell_type": "code",
   "execution_count": 64,
   "metadata": {},
   "outputs": [],
   "source": [
    "y_train.tofile('data/features/features_y_train')"
   ]
  },
  {
   "cell_type": "code",
   "execution_count": 67,
   "metadata": {},
   "outputs": [
    {
     "data": {
      "text/plain": [
       "array([0, 1, 0, ..., 0, 0, 0])"
      ]
     },
     "execution_count": 67,
     "metadata": {},
     "output_type": "execute_result"
    }
   ],
   "source": [
    "np.fromfile('data/features/features_y_train', dtype=int)"
   ]
  },
  {
   "cell_type": "code",
   "execution_count": 53,
   "metadata": {},
   "outputs": [
    {
     "name": "stderr",
     "output_type": "stream",
     "text": [
      "/home/sandro/.local/share/virtualenvs/data_science_for_business_lmu-1wV0OWeh/lib/python3.7/site-packages/ipykernel_launcher.py:1: FutureWarning: The signature of `Series.to_csv` was aligned to that of `DataFrame.to_csv`, and argument 'header' will change its default value from False to True: please pass an explicit value to suppress this warning.\n",
      "  \"\"\"Entry point for launching an IPython kernel.\n"
     ]
    }
   ],
   "source": [
    "y_train.to_csv('data/features/features_y_train.csv', index=False, encoding=\"utf-8\")"
   ]
  },
  {
   "cell_type": "code",
   "execution_count": 54,
   "metadata": {},
   "outputs": [],
   "source": [
    "import pandas as pd"
   ]
  },
  {
   "cell_type": "code",
   "execution_count": 55,
   "metadata": {},
   "outputs": [
    {
     "data": {
      "text/plain": [
       "(4756, 1)"
      ]
     },
     "execution_count": 55,
     "metadata": {},
     "output_type": "execute_result"
    }
   ],
   "source": [
    "pd.read_csv('data/features/features_y_train.csv').shape"
   ]
  },
  {
   "cell_type": "code",
   "execution_count": null,
   "metadata": {},
   "outputs": [],
   "source": []
  }
 ],
 "metadata": {
  "kernelspec": {
   "display_name": "Python 3",
   "language": "python",
   "name": "python3"
  },
  "language_info": {
   "codemirror_mode": {
    "name": "ipython",
    "version": 3
   },
   "file_extension": ".py",
   "mimetype": "text/x-python",
   "name": "python",
   "nbconvert_exporter": "python",
   "pygments_lexer": "ipython3",
   "version": "3.7.4"
  }
 },
 "nbformat": 4,
 "nbformat_minor": 2
}
