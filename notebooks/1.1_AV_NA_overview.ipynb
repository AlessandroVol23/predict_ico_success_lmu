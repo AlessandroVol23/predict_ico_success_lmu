{
 "cells": [
  {
   "cell_type": "code",
   "execution_count": 1,
   "metadata": {},
   "outputs": [],
   "source": [
    "import pandas as pd\n",
    "from src.data.make_dataset import read_in_data\n",
    "import os"
   ]
  },
  {
   "cell_type": "code",
   "execution_count": 2,
   "metadata": {},
   "outputs": [],
   "source": [
    "os.chdir('..')"
   ]
  },
  {
   "cell_type": "code",
   "execution_count": 3,
   "metadata": {},
   "outputs": [],
   "source": [
    "df_bitcoin, df, df_test = read_in_data()"
   ]
  },
  {
   "cell_type": "code",
   "execution_count": 18,
   "metadata": {},
   "outputs": [],
   "source": [
    "ser_nas = df.isna().sum()"
   ]
  },
  {
   "cell_type": "code",
   "execution_count": 26,
   "metadata": {},
   "outputs": [],
   "source": [
    "df_nas = pd.DataFrame(ser_nas, columns=['nas_absolute'])"
   ]
  },
  {
   "cell_type": "code",
   "execution_count": 27,
   "metadata": {},
   "outputs": [],
   "source": [
    "df_nas = df_nas.assign(na_relative = df_nas.apply(lambda x: round(x.nas_absolute / len(df) * 100, 2), axis=1))"
   ]
  },
  {
   "cell_type": "code",
   "execution_count": 28,
   "metadata": {},
   "outputs": [],
   "source": [
    "df_nas = df_nas.sort_values('na_relative', ascending=False)"
   ]
  },
  {
   "cell_type": "code",
   "execution_count": 29,
   "metadata": {},
   "outputs": [
    {
     "data": {
      "text/html": [
       "<div>\n",
       "<style scoped>\n",
       "    .dataframe tbody tr th:only-of-type {\n",
       "        vertical-align: middle;\n",
       "    }\n",
       "\n",
       "    .dataframe tbody tr th {\n",
       "        vertical-align: top;\n",
       "    }\n",
       "\n",
       "    .dataframe thead th {\n",
       "        text-align: right;\n",
       "    }\n",
       "</style>\n",
       "<table border=\"1\" class=\"dataframe\">\n",
       "  <thead>\n",
       "    <tr style=\"text-align: right;\">\n",
       "      <th></th>\n",
       "      <th>nas_absolute</th>\n",
       "      <th>na_relative</th>\n",
       "    </tr>\n",
       "  </thead>\n",
       "  <tbody>\n",
       "    <tr>\n",
       "      <th>ico_data_pre_sale_available</th>\n",
       "      <td>4420</td>\n",
       "      <td>92.92</td>\n",
       "    </tr>\n",
       "    <tr>\n",
       "      <th>ico_data_softcap_amount</th>\n",
       "      <td>4319</td>\n",
       "      <td>90.79</td>\n",
       "    </tr>\n",
       "    <tr>\n",
       "      <th>ico_data_softcap_currency</th>\n",
       "      <td>4319</td>\n",
       "      <td>90.79</td>\n",
       "    </tr>\n",
       "    <tr>\n",
       "      <th>ico_data_total_raised</th>\n",
       "      <td>4056</td>\n",
       "      <td>85.26</td>\n",
       "    </tr>\n",
       "    <tr>\n",
       "      <th>ico_data_amount_for_sale</th>\n",
       "      <td>4047</td>\n",
       "      <td>85.07</td>\n",
       "    </tr>\n",
       "    <tr>\n",
       "      <th>...</th>\n",
       "      <td>...</td>\n",
       "      <td>...</td>\n",
       "    </tr>\n",
       "    <tr>\n",
       "      <th>KW13</th>\n",
       "      <td>0</td>\n",
       "      <td>0.00</td>\n",
       "    </tr>\n",
       "    <tr>\n",
       "      <th>KW14</th>\n",
       "      <td>0</td>\n",
       "      <td>0.00</td>\n",
       "    </tr>\n",
       "    <tr>\n",
       "      <th>KW15</th>\n",
       "      <td>0</td>\n",
       "      <td>0.00</td>\n",
       "    </tr>\n",
       "    <tr>\n",
       "      <th>KW16</th>\n",
       "      <td>0</td>\n",
       "      <td>0.00</td>\n",
       "    </tr>\n",
       "    <tr>\n",
       "      <th>success</th>\n",
       "      <td>0</td>\n",
       "      <td>0.00</td>\n",
       "    </tr>\n",
       "  </tbody>\n",
       "</table>\n",
       "<p>91 rows × 2 columns</p>\n",
       "</div>"
      ],
      "text/plain": [
       "                             nas_absolute  na_relative\n",
       "ico_data_pre_sale_available          4420        92.92\n",
       "ico_data_softcap_amount              4319        90.79\n",
       "ico_data_softcap_currency            4319        90.79\n",
       "ico_data_total_raised                4056        85.26\n",
       "ico_data_amount_for_sale             4047        85.07\n",
       "...                                   ...          ...\n",
       "KW13                                    0         0.00\n",
       "KW14                                    0         0.00\n",
       "KW15                                    0         0.00\n",
       "KW16                                    0         0.00\n",
       "success                                 0         0.00\n",
       "\n",
       "[91 rows x 2 columns]"
      ]
     },
     "execution_count": 29,
     "metadata": {},
     "output_type": "execute_result"
    }
   ],
   "source": [
    "df_nas"
   ]
  },
  {
   "cell_type": "code",
   "execution_count": 13,
   "metadata": {},
   "outputs": [],
   "source": [
    "df_not_na = df_nas[df_nas.na_relative < 20]"
   ]
  },
  {
   "cell_type": "code",
   "execution_count": 16,
   "metadata": {},
   "outputs": [
    {
     "data": {
      "text/plain": [
       "Index(['links_twitter_screen_name', 'market_data_total_supply',\n",
       "       'links_blockchain_site', 'market_data_first_time_trading',\n",
       "       'market_data_high_24h_usd', 'market_data_low_24h_usd', 'links_homepage',\n",
       "       'market_data_ath_date_usd', 'market_data_ath_usd',\n",
       "       'market_data_current_price_usd', 'market_data_circulating_supply',\n",
       "       'community_data_twitter_followers', 'community_data_facebook_likes',\n",
       "       'public_interest_stats_alexa_rank',\n",
       "       'public_interest_stats_bing_matches',\n",
       "       'developer_data_pull_request_contributors',\n",
       "       'developer_data_commit_count_4_weeks', 'developer_data_total_issues',\n",
       "       'developer_data_pull_requests_merged', 'developer_data_closed_issues',\n",
       "       'developer_data_subscribers', 'developer_data_stars',\n",
       "       'developer_data_forks', 'community_data_reddit_subscribers',\n",
       "       'community_data_reddit_average_posts_48h',\n",
       "       'community_data_reddit_average_comments_48h',\n",
       "       'community_data_reddit_accounts_active_48h', 'KW22', 'KW30', 'KW23',\n",
       "       'KW24', 'KW25', 'KW26', 'KW21', 'KW27', 'KW28', 'KW29', 'KW34', 'KW31',\n",
       "       'KW32', 'KW33', 'KW35', 'KW36', 'KW39', 'KW38', 'KW37', 'KW19', 'KW20',\n",
       "       'OBS_ID', 'KW18', 'KW17', 'symbol', 'name', 'ï..id', 'KW1', 'KW2',\n",
       "       'KW3', 'KW4', 'KW5', 'KW6', 'KW7', 'KW8', 'KW9', 'KW10', 'KW11', 'KW12',\n",
       "       'KW13', 'KW14', 'KW15', 'KW16', 'success'],\n",
       "      dtype='object')"
      ]
     },
     "execution_count": 16,
     "metadata": {},
     "output_type": "execute_result"
    }
   ],
   "source": [
    "df_not_na.index"
   ]
  },
  {
   "cell_type": "code",
   "execution_count": null,
   "metadata": {},
   "outputs": [],
   "source": []
  }
 ],
 "metadata": {
  "kernelspec": {
   "display_name": "Python 3",
   "language": "python",
   "name": "python3"
  },
  "language_info": {
   "codemirror_mode": {
    "name": "ipython",
    "version": 3
   },
   "file_extension": ".py",
   "mimetype": "text/x-python",
   "name": "python",
   "nbconvert_exporter": "python",
   "pygments_lexer": "ipython3",
   "version": "3.7.5"
  }
 },
 "nbformat": 4,
 "nbformat_minor": 2
}
