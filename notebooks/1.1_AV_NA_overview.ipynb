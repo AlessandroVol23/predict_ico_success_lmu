{
 "cells": [
  {
   "cell_type": "code",
   "execution_count": 1,
   "metadata": {},
   "outputs": [],
   "source": [
    "import pandas as pd\n",
    "from src.data.make_dataset import read_in_data\n",
    "import os"
   ]
  },
  {
   "cell_type": "code",
   "execution_count": 2,
   "metadata": {},
   "outputs": [],
   "source": [
    "os.chdir('..')"
   ]
  },
  {
   "cell_type": "code",
   "execution_count": 3,
   "metadata": {},
   "outputs": [],
   "source": [
    "df_bitcoin, df, df_test = read_in_data()"
   ]
  },
  {
   "cell_type": "code",
   "execution_count": 4,
   "metadata": {},
   "outputs": [],
   "source": [
    "ser_nas = df.isna().sum()"
   ]
  },
  {
   "cell_type": "code",
   "execution_count": 5,
   "metadata": {},
   "outputs": [],
   "source": [
    "df_nas = pd.DataFrame(ser_nas, columns=['nas_absolute'])"
   ]
  },
  {
   "cell_type": "code",
   "execution_count": 6,
   "metadata": {},
   "outputs": [],
   "source": [
    "df_nas = df_nas.assign(na_relative = df_nas.apply(lambda x: round(x.nas_absolute / len(df) * 100, 2), axis=1))"
   ]
  },
  {
   "cell_type": "code",
   "execution_count": 7,
   "metadata": {},
   "outputs": [],
   "source": [
    "df_nas = df_nas.sort_values('na_relative', ascending=False)"
   ]
  },
  {
   "cell_type": "code",
   "execution_count": 22,
   "metadata": {},
   "outputs": [
    {
     "data": {
      "text/html": [
       "<div>\n",
       "<style scoped>\n",
       "    .dataframe tbody tr th:only-of-type {\n",
       "        vertical-align: middle;\n",
       "    }\n",
       "\n",
       "    .dataframe tbody tr th {\n",
       "        vertical-align: top;\n",
       "    }\n",
       "\n",
       "    .dataframe thead th {\n",
       "        text-align: right;\n",
       "    }\n",
       "</style>\n",
       "<table border=\"1\" class=\"dataframe\">\n",
       "  <thead>\n",
       "    <tr style=\"text-align: right;\">\n",
       "      <th></th>\n",
       "      <th>nas_absolute</th>\n",
       "      <th>na_relative</th>\n",
       "    </tr>\n",
       "  </thead>\n",
       "  <tbody>\n",
       "    <tr>\n",
       "      <th>ico_data_pre_sale_available</th>\n",
       "      <td>4420</td>\n",
       "      <td>92.92</td>\n",
       "    </tr>\n",
       "    <tr>\n",
       "      <th>ico_data_softcap_amount</th>\n",
       "      <td>4319</td>\n",
       "      <td>90.79</td>\n",
       "    </tr>\n",
       "    <tr>\n",
       "      <th>ico_data_softcap_currency</th>\n",
       "      <td>4319</td>\n",
       "      <td>90.79</td>\n",
       "    </tr>\n",
       "    <tr>\n",
       "      <th>ico_data_total_raised</th>\n",
       "      <td>4056</td>\n",
       "      <td>85.26</td>\n",
       "    </tr>\n",
       "    <tr>\n",
       "      <th>ico_data_amount_for_sale</th>\n",
       "      <td>4047</td>\n",
       "      <td>85.07</td>\n",
       "    </tr>\n",
       "    <tr>\n",
       "      <th>ico_data_total_raised_currency</th>\n",
       "      <td>4043</td>\n",
       "      <td>84.99</td>\n",
       "    </tr>\n",
       "    <tr>\n",
       "      <th>ico_data_hardcap_currency</th>\n",
       "      <td>4008</td>\n",
       "      <td>84.25</td>\n",
       "    </tr>\n",
       "    <tr>\n",
       "      <th>ico_data_hardcap_amount</th>\n",
       "      <td>4007</td>\n",
       "      <td>84.23</td>\n",
       "    </tr>\n",
       "    <tr>\n",
       "      <th>ico_data_country_origin</th>\n",
       "      <td>3816</td>\n",
       "      <td>80.22</td>\n",
       "    </tr>\n",
       "    <tr>\n",
       "      <th>ico_data_kyc_required</th>\n",
       "      <td>3611</td>\n",
       "      <td>75.91</td>\n",
       "    </tr>\n",
       "    <tr>\n",
       "      <th>links_subreddit_url</th>\n",
       "      <td>3275</td>\n",
       "      <td>68.85</td>\n",
       "    </tr>\n",
       "    <tr>\n",
       "      <th>country_origin</th>\n",
       "      <td>2826</td>\n",
       "      <td>59.41</td>\n",
       "    </tr>\n",
       "    <tr>\n",
       "      <th>categories_0</th>\n",
       "      <td>2609</td>\n",
       "      <td>54.85</td>\n",
       "    </tr>\n",
       "    <tr>\n",
       "      <th>links_facebook_username</th>\n",
       "      <td>2422</td>\n",
       "      <td>50.91</td>\n",
       "    </tr>\n",
       "    <tr>\n",
       "      <th>holder_count</th>\n",
       "      <td>2237</td>\n",
       "      <td>47.03</td>\n",
       "    </tr>\n",
       "    <tr>\n",
       "      <th>contract_address</th>\n",
       "      <td>2233</td>\n",
       "      <td>46.94</td>\n",
       "    </tr>\n",
       "    <tr>\n",
       "      <th>transaction_count</th>\n",
       "      <td>2233</td>\n",
       "      <td>46.94</td>\n",
       "    </tr>\n",
       "    <tr>\n",
       "      <th>timestamp</th>\n",
       "      <td>1908</td>\n",
       "      <td>40.11</td>\n",
       "    </tr>\n",
       "    <tr>\n",
       "      <th>links_repos_url_github</th>\n",
       "      <td>1867</td>\n",
       "      <td>39.25</td>\n",
       "    </tr>\n",
       "    <tr>\n",
       "      <th>community_data_telegram_channel_user_count</th>\n",
       "      <td>1811</td>\n",
       "      <td>38.07</td>\n",
       "    </tr>\n",
       "    <tr>\n",
       "      <th>links_twitter_screen_name</th>\n",
       "      <td>804</td>\n",
       "      <td>16.90</td>\n",
       "    </tr>\n",
       "    <tr>\n",
       "      <th>market_data_total_supply</th>\n",
       "      <td>476</td>\n",
       "      <td>10.01</td>\n",
       "    </tr>\n",
       "    <tr>\n",
       "      <th>links_blockchain_site</th>\n",
       "      <td>412</td>\n",
       "      <td>8.66</td>\n",
       "    </tr>\n",
       "    <tr>\n",
       "      <th>market_data_first_time_trading</th>\n",
       "      <td>236</td>\n",
       "      <td>4.96</td>\n",
       "    </tr>\n",
       "    <tr>\n",
       "      <th>market_data_high_24h_usd</th>\n",
       "      <td>143</td>\n",
       "      <td>3.01</td>\n",
       "    </tr>\n",
       "    <tr>\n",
       "      <th>market_data_low_24h_usd</th>\n",
       "      <td>143</td>\n",
       "      <td>3.01</td>\n",
       "    </tr>\n",
       "    <tr>\n",
       "      <th>links_homepage</th>\n",
       "      <td>50</td>\n",
       "      <td>1.05</td>\n",
       "    </tr>\n",
       "    <tr>\n",
       "      <th>market_data_ath_date_usd</th>\n",
       "      <td>45</td>\n",
       "      <td>0.95</td>\n",
       "    </tr>\n",
       "    <tr>\n",
       "      <th>market_data_ath_usd</th>\n",
       "      <td>45</td>\n",
       "      <td>0.95</td>\n",
       "    </tr>\n",
       "    <tr>\n",
       "      <th>market_data_current_price_usd</th>\n",
       "      <td>45</td>\n",
       "      <td>0.95</td>\n",
       "    </tr>\n",
       "  </tbody>\n",
       "</table>\n",
       "</div>"
      ],
      "text/plain": [
       "                                            nas_absolute  na_relative\n",
       "ico_data_pre_sale_available                         4420        92.92\n",
       "ico_data_softcap_amount                             4319        90.79\n",
       "ico_data_softcap_currency                           4319        90.79\n",
       "ico_data_total_raised                               4056        85.26\n",
       "ico_data_amount_for_sale                            4047        85.07\n",
       "ico_data_total_raised_currency                      4043        84.99\n",
       "ico_data_hardcap_currency                           4008        84.25\n",
       "ico_data_hardcap_amount                             4007        84.23\n",
       "ico_data_country_origin                             3816        80.22\n",
       "ico_data_kyc_required                               3611        75.91\n",
       "links_subreddit_url                                 3275        68.85\n",
       "country_origin                                      2826        59.41\n",
       "categories_0                                        2609        54.85\n",
       "links_facebook_username                             2422        50.91\n",
       "holder_count                                        2237        47.03\n",
       "contract_address                                    2233        46.94\n",
       "transaction_count                                   2233        46.94\n",
       "timestamp                                           1908        40.11\n",
       "links_repos_url_github                              1867        39.25\n",
       "community_data_telegram_channel_user_count          1811        38.07\n",
       "links_twitter_screen_name                            804        16.90\n",
       "market_data_total_supply                             476        10.01\n",
       "links_blockchain_site                                412         8.66\n",
       "market_data_first_time_trading                       236         4.96\n",
       "market_data_high_24h_usd                             143         3.01\n",
       "market_data_low_24h_usd                              143         3.01\n",
       "links_homepage                                        50         1.05\n",
       "market_data_ath_date_usd                              45         0.95\n",
       "market_data_ath_usd                                   45         0.95\n",
       "market_data_current_price_usd                         45         0.95"
      ]
     },
     "execution_count": 22,
     "metadata": {},
     "output_type": "execute_result"
    }
   ],
   "source": [
    "df_nas.head(30)"
   ]
  },
  {
   "cell_type": "code",
   "execution_count": 9,
   "metadata": {},
   "outputs": [],
   "source": [
    "df_not_na = df_nas[df_nas.na_relative < 20]"
   ]
  },
  {
   "cell_type": "code",
   "execution_count": 10,
   "metadata": {},
   "outputs": [
    {
     "data": {
      "text/plain": [
       "Index(['links_twitter_screen_name', 'market_data_total_supply',\n",
       "       'links_blockchain_site', 'market_data_first_time_trading',\n",
       "       'market_data_high_24h_usd', 'market_data_low_24h_usd', 'links_homepage',\n",
       "       'market_data_ath_date_usd', 'market_data_ath_usd',\n",
       "       'market_data_current_price_usd', 'market_data_circulating_supply',\n",
       "       'community_data_twitter_followers', 'community_data_facebook_likes',\n",
       "       'public_interest_stats_alexa_rank',\n",
       "       'public_interest_stats_bing_matches',\n",
       "       'developer_data_pull_request_contributors',\n",
       "       'developer_data_commit_count_4_weeks', 'developer_data_total_issues',\n",
       "       'developer_data_pull_requests_merged', 'developer_data_closed_issues',\n",
       "       'developer_data_subscribers', 'developer_data_stars',\n",
       "       'developer_data_forks', 'community_data_reddit_subscribers',\n",
       "       'community_data_reddit_average_posts_48h',\n",
       "       'community_data_reddit_average_comments_48h',\n",
       "       'community_data_reddit_accounts_active_48h', 'KW22', 'KW30', 'KW23',\n",
       "       'KW24', 'KW25', 'KW26', 'KW21', 'KW27', 'KW28', 'KW29', 'KW34', 'KW31',\n",
       "       'KW32', 'KW33', 'KW35', 'KW36', 'KW39', 'KW38', 'KW37', 'KW19', 'KW20',\n",
       "       'OBS_ID', 'KW18', 'KW17', 'symbol', 'name', 'ï..id', 'KW1', 'KW2',\n",
       "       'KW3', 'KW4', 'KW5', 'KW6', 'KW7', 'KW8', 'KW9', 'KW10', 'KW11', 'KW12',\n",
       "       'KW13', 'KW14', 'KW15', 'KW16', 'success'],\n",
       "      dtype='object')"
      ]
     },
     "execution_count": 10,
     "metadata": {},
     "output_type": "execute_result"
    }
   ],
   "source": [
    "df_not_na.index"
   ]
  },
  {
   "cell_type": "code",
   "execution_count": 16,
   "metadata": {},
   "outputs": [
    {
     "data": {
      "text/plain": [
       "Index(['holder_count', 'contract_address', 'transaction_count', 'timestamp',\n",
       "       'links_repos_url_github', 'community_data_telegram_channel_user_count',\n",
       "       'links_twitter_screen_name', 'market_data_total_supply',\n",
       "       'links_blockchain_site', 'market_data_first_time_trading',\n",
       "       'market_data_high_24h_usd', 'market_data_low_24h_usd', 'links_homepage',\n",
       "       'market_data_ath_date_usd', 'market_data_ath_usd',\n",
       "       'market_data_current_price_usd', 'market_data_circulating_supply',\n",
       "       'community_data_twitter_followers', 'community_data_facebook_likes',\n",
       "       'public_interest_stats_alexa_rank',\n",
       "       'public_interest_stats_bing_matches',\n",
       "       'developer_data_pull_request_contributors',\n",
       "       'developer_data_commit_count_4_weeks', 'developer_data_total_issues',\n",
       "       'developer_data_pull_requests_merged', 'developer_data_closed_issues',\n",
       "       'developer_data_subscribers', 'developer_data_stars',\n",
       "       'developer_data_forks', 'community_data_reddit_subscribers',\n",
       "       'community_data_reddit_average_posts_48h',\n",
       "       'community_data_reddit_average_comments_48h',\n",
       "       'community_data_reddit_accounts_active_48h', 'KW22', 'KW30', 'KW23',\n",
       "       'KW24', 'KW25', 'KW26', 'KW21', 'KW27', 'KW28', 'KW29', 'KW34', 'KW31',\n",
       "       'KW32', 'KW33', 'KW35', 'KW36', 'KW39', 'KW38', 'KW37', 'KW19', 'KW20',\n",
       "       'OBS_ID', 'KW18', 'KW17', 'symbol', 'name', 'ï..id', 'KW1', 'KW2',\n",
       "       'KW3', 'KW4', 'KW5', 'KW6', 'KW7', 'KW8', 'KW9', 'KW10', 'KW11', 'KW12',\n",
       "       'KW13', 'KW14', 'KW15', 'KW16', 'success'],\n",
       "      dtype='object')"
      ]
     },
     "execution_count": 16,
     "metadata": {},
     "output_type": "execute_result"
    }
   ],
   "source": [
    "df_nas[df_nas.na_relative<50].index"
   ]
  },
  {
   "cell_type": "code",
   "execution_count": 20,
   "metadata": {},
   "outputs": [
    {
     "data": {
      "text/plain": [
       "0                    01coin\n",
       "1                        0x\n",
       "2                    0xcert\n",
       "3                    0xdark\n",
       "4                 10m-token\n",
       "               ...         \n",
       "4752    zulu-republic-token\n",
       "4753                   zumy\n",
       "4754                zurcoin\n",
       "4755             zuzubecoin\n",
       "4756                 zxflea\n",
       "Name: ï..id, Length: 4757, dtype: object"
      ]
     },
     "execution_count": 20,
     "metadata": {},
     "output_type": "execute_result"
    }
   ],
   "source": [
    "df['ï..id']"
   ]
  }
 ],
 "metadata": {
  "kernelspec": {
   "display_name": "Python 3",
   "language": "python",
   "name": "python3"
  },
  "language_info": {
   "codemirror_mode": {
    "name": "ipython",
    "version": 3
   },
   "file_extension": ".py",
   "mimetype": "text/x-python",
   "name": "python",
   "nbconvert_exporter": "python",
   "pygments_lexer": "ipython3",
   "version": "3.7.3"
  }
 },
 "nbformat": 4,
 "nbformat_minor": 2
}
